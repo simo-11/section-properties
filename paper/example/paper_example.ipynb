{
 "cells": [
  {
   "cell_type": "code",
   "execution_count": null,
   "id": "0",
   "metadata": {},
   "outputs": [],
   "source": [
    "from sectionproperties.analysis import Section\n",
    "from sectionproperties.pre.library import bulb_section"
   ]
  },
  {
   "cell_type": "code",
   "execution_count": null,
   "id": "1",
   "metadata": {},
   "outputs": [],
   "source": [
    "geom = bulb_section(d=200, b=50, t=12, r=10, n_r=8)\n",
    "geom.create_mesh(mesh_sizes=5)\n",
    "sec = Section(geometry=geom)\n",
    "sec.plot_mesh(materials=False)"
   ]
  },
  {
   "cell_type": "code",
   "execution_count": null,
   "id": "2",
   "metadata": {},
   "outputs": [],
   "source": [
    "sec.calculate_geometric_properties()\n",
    "sec.calculate_warping_properties()\n",
    "post = sec.calculate_stress(mzz=1e6)"
   ]
  },
  {
   "cell_type": "code",
   "execution_count": null,
   "id": "3",
   "metadata": {},
   "outputs": [],
   "source": [
    "import matplotlib.pyplot as plt\n",
    "\n",
    "\n",
    "sec.plot_centroids(alpha=0.2)\n",
    "ax = sec.plot_centroids(alpha=0.2, nrows=1, ncols=2, render=False)\n",
    "fig = ax.get_figure()\n",
    "post.plot_stress(\n",
    "    stress=\"mzz_zxy\",\n",
    "    cmap=\"viridis\",\n",
    "    normalize=False,\n",
    "    alpha=0.2,\n",
    "    title=\"Torsion Stress\",\n",
    "    ax=fig.axes[1],\n",
    "    fmt=\"{x:.3f}\",\n",
    ")\n",
    "fig.savefig(\"../figures/example.png\", dpi=300)"
   ]
  }
 ],
 "metadata": {
  "kernelspec": {
   "display_name": "Python 3 (ipykernel)",
   "language": "python",
   "name": "python3"
  },
  "language_info": {
   "codemirror_mode": {
    "name": "ipython",
    "version": 3
   },
   "file_extension": ".py",
   "mimetype": "text/x-python",
   "name": "python",
   "nbconvert_exporter": "python",
   "pygments_lexer": "ipython3",
   "version": "3.9.17"
  }
 },
 "nbformat": 4,
 "nbformat_minor": 5
}
