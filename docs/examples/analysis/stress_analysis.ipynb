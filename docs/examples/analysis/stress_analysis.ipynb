{
 "cells": [
  {
   "cell_type": "markdown",
   "id": "0",
   "metadata": {},
   "source": [
    "# Stress Analysis"
   ]
  },
  {
   "cell_type": "markdown",
   "id": "1",
   "metadata": {},
   "source": [
    "This example demonstrates how to perform a stress analysis in `sectionproperties`."
   ]
  },
  {
   "cell_type": "markdown",
   "id": "2",
   "metadata": {},
   "source": [
    "In this example we model a 150 x 100 x 6 RHS and subject it to various load cases."
   ]
  },
  {
   "cell_type": "markdown",
   "id": "3",
   "metadata": {},
   "source": [
    "## Create Geometry and Section"
   ]
  },
  {
   "cell_type": "code",
   "execution_count": null,
   "id": "4",
   "metadata": {},
   "outputs": [],
   "source": [
    "from sectionproperties.analysis import Section\n",
    "from sectionproperties.pre.library import rectangular_hollow_section\n",
    "\n",
    "geom = rectangular_hollow_section(d=100, b=150, t=6, r_out=15, n_r=8)\n",
    "geom.create_mesh(mesh_sizes=[2])\n",
    "sec = Section(geometry=geom)\n",
    "sec.plot_mesh(materials=False)"
   ]
  },
  {
   "cell_type": "markdown",
   "id": "5",
   "metadata": {},
   "source": [
    "## Geometric and Warping Analysis\n",
    "\n",
    "Because we will be subjecting this box section to torsion and shear, we must first conduct a geometric and warping analysis."
   ]
  },
  {
   "cell_type": "code",
   "execution_count": null,
   "id": "6",
   "metadata": {},
   "outputs": [],
   "source": [
    "sec.calculate_geometric_properties()\n",
    "sec.calculate_warping_properties()"
   ]
  },
  {
   "cell_type": "markdown",
   "id": "7",
   "metadata": {},
   "source": [
    "## Perform Stress Analysis\n",
    "\n",
    "The first load case applies the following loads:\n",
    "\n",
    "- Mxx = 5 kN.m\n",
    "- Vy = -10 kN\n",
    "- Mzz = 3 kN.m\n",
    "\n",
    "The second load case applies the following loads:\n",
    "\n",
    "- Myy = 15 kN.m\n",
    "- Vx = 30 kN\n",
    "- Mzz = 1.5 kN.m"
   ]
  },
  {
   "cell_type": "code",
   "execution_count": null,
   "id": "8",
   "metadata": {},
   "outputs": [],
   "source": [
    "case1 = sec.calculate_stress(mxx=5e6, vy=-10e3, mzz=3e6)\n",
    "case2 = sec.calculate_stress(myy=15e6, vx=30e3, mzz=1.5e6)"
   ]
  },
  {
   "cell_type": "markdown",
   "id": "9",
   "metadata": {},
   "source": [
    "## Plot Streses\n",
    "\n",
    "`case1` and `case2` obtained from the stress analysis are [StressPost()](../../gen/sectionproperties.post.stress_post.StressPost.rst#sectionproperties.post.stress_post.StressPost) objects. We can plot stresses by using the `plot_stress()` and `plot_stress_vector()` methods that belongs to this object."
   ]
  },
  {
   "cell_type": "markdown",
   "id": "10",
   "metadata": {},
   "source": [
    "### Case 1"
   ]
  },
  {
   "cell_type": "code",
   "execution_count": null,
   "id": "11",
   "metadata": {},
   "outputs": [],
   "source": [
    "# bending stress\n",
    "case1.plot_stress(stress=\"m_zz\")"
   ]
  },
  {
   "cell_type": "code",
   "execution_count": null,
   "id": "12",
   "metadata": {},
   "outputs": [],
   "source": [
    "# torsion stress vectors\n",
    "case1.plot_stress_vector(stress=\"mzz_zxy\")"
   ]
  },
  {
   "cell_type": "code",
   "execution_count": null,
   "id": "13",
   "metadata": {},
   "outputs": [],
   "source": [
    "# von mises stress\n",
    "case1.plot_stress(stress=\"vm\", cmap=\"YlOrRd\", normalize=False)"
   ]
  },
  {
   "cell_type": "markdown",
   "id": "14",
   "metadata": {},
   "source": [
    "### Case 2"
   ]
  },
  {
   "cell_type": "code",
   "execution_count": null,
   "id": "15",
   "metadata": {},
   "outputs": [],
   "source": [
    "# shear stress\n",
    "case2.plot_stress(stress=\"v_zxy\")"
   ]
  },
  {
   "cell_type": "code",
   "execution_count": null,
   "id": "16",
   "metadata": {},
   "outputs": [],
   "source": [
    "# von mises stress\n",
    "case2.plot_stress(stress=\"vm\", cmap=\"YlOrRd\", normalize=False)"
   ]
  },
  {
   "cell_type": "markdown",
   "id": "17",
   "metadata": {},
   "source": [
    "Note that the colormap can be changed using one of those specified [here](https://matplotlib.org/stable/users/explain/colors/colormaps.html). Sequential colormaps are arguably more suited to examining von Mises stresses (always positive), whereas diverging colormaps are more insightful for stresses that can be positive and negative.\n",
    "\n",
    "The `normalize=True` argument places the centre of the colormap at zero stress."
   ]
  }
 ],
 "metadata": {
  "kernelspec": {
   "display_name": "Python 3 (ipykernel)",
   "language": "python",
   "name": "python3"
  },
  "language_info": {
   "codemirror_mode": {
    "name": "ipython",
    "version": 3
   },
   "file_extension": ".py",
   "mimetype": "text/x-python",
   "name": "python",
   "nbconvert_exporter": "python",
   "pygments_lexer": "ipython3",
   "version": "3.9.17"
  }
 },
 "nbformat": 4,
 "nbformat_minor": 5
}
