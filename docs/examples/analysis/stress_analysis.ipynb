{
 "cells": [
  {
   "cell_type": "markdown",
   "id": "dfeb0436",
   "metadata": {},
   "source": [
    "# Stress Analysis"
   ]
  },
  {
   "cell_type": "markdown",
   "id": "41e639ad-873c-412a-95ba-095687599c5f",
   "metadata": {},
   "source": [
    "This example demonstrates how to perform a stress analysis in `sectionproperties`."
   ]
  },
  {
   "cell_type": "markdown",
   "id": "ffb6db3e-d61f-41d9-bc2d-fb20031156fd",
   "metadata": {},
   "source": [
    "In this example we model a 150 x 100 x 6 RHS and subject it to various load cases."
   ]
  },
  {
   "cell_type": "markdown",
   "id": "d267a5a0-1fce-429a-b92c-03fbe980f278",
   "metadata": {},
   "source": [
    "## Create Geometry and Section"
   ]
  },
  {
   "cell_type": "code",
   "execution_count": null,
   "id": "ac4a8ac9-f474-42a6-8133-8a46dd08d5ea",
   "metadata": {},
   "outputs": [],
   "source": [
    "from sectionproperties.analysis import Section\n",
    "from sectionproperties.pre.library import rectangular_hollow_section\n",
    "\n",
    "\n",
    "geom = rectangular_hollow_section(d=100, b=150, t=6, r_out=15, n_r=8)\n",
    "geom.create_mesh(mesh_sizes=[2])\n",
    "sec = Section(geometry=geom)\n",
    "sec.plot_mesh(materials=False)"
   ]
  },
  {
   "cell_type": "markdown",
   "id": "680fd69e-fb53-4a49-9f71-80cd91ccfdb4",
   "metadata": {},
   "source": [
    "## Geometric and Warping Analysis\n",
    "\n",
    "Because we will be subjecting this box section to torsion and shear, we must first conduct a geometric and warping analysis."
   ]
  },
  {
   "cell_type": "code",
   "execution_count": null,
   "id": "e6d2e7cd-19c5-48e2-8157-063013a84f53",
   "metadata": {},
   "outputs": [],
   "source": [
    "sec.calculate_geometric_properties()\n",
    "sec.calculate_warping_properties()"
   ]
  },
  {
   "cell_type": "markdown",
   "id": "6df0b1d9-9ce3-492c-9665-a48cf8d03b5a",
   "metadata": {},
   "source": [
    "## Perform Stress Analysis\n",
    "\n",
    "The first load case applies the following loads:\n",
    "\n",
    "- Mxx = 5 kN.m\n",
    "- Vy = -10 kN\n",
    "- Mzz = 3 kN.m\n",
    "\n",
    "The second load case applies the following loads:\n",
    "\n",
    "- Myy = 15 kN.m\n",
    "- Vx = 30 kN\n",
    "- Mzz = 1.5 kN.m"
   ]
  },
  {
   "cell_type": "code",
   "execution_count": null,
   "id": "b5153a4b-e5ac-4058-89a7-6d4ed61a01b1",
   "metadata": {},
   "outputs": [],
   "source": [
    "case1 = sec.calculate_stress(mxx=5e6, vy=-10e3, mzz=3e6)\n",
    "case2 = sec.calculate_stress(myy=15e6, vx=30e3, mzz=1.5e6)"
   ]
  },
  {
   "cell_type": "markdown",
   "id": "ca48b3d3-fe38-437d-a0e0-ca5864df08ab",
   "metadata": {},
   "source": [
    "## Plot Streses\n",
    "\n",
    "`case1` and `case2` obtained from the stress analysis are [StressPost()](../../gen/sectionproperties.post.stress_post.StressPost.rst#sectionproperties.post.stress_post.StressPost) objects. We can plot stresses by using the `plot_stress()` and `plot_stress_vector()` methods that belongs to this object."
   ]
  },
  {
   "cell_type": "markdown",
   "id": "dc63087d-7af7-454b-bcca-d5761fd842f6",
   "metadata": {},
   "source": [
    "### Case 1"
   ]
  },
  {
   "cell_type": "code",
   "execution_count": null,
   "id": "dd748dab-3643-4c3a-b6f4-926b6e19c3f4",
   "metadata": {},
   "outputs": [],
   "source": [
    "# bending stress\n",
    "case1.plot_stress(stress=\"m_zz\")"
   ]
  },
  {
   "cell_type": "code",
   "execution_count": null,
   "id": "b5c5e884-b338-4351-a511-ec099d81b184",
   "metadata": {},
   "outputs": [],
   "source": [
    "# torsion stress vectors\n",
    "case1.plot_stress_vector(stress=\"mzz_zxy\")"
   ]
  },
  {
   "cell_type": "code",
   "execution_count": null,
   "id": "bfd9dae1-633d-490e-82fe-310e899d4746",
   "metadata": {},
   "outputs": [],
   "source": [
    "# von mises stress\n",
    "case1.plot_stress(stress=\"vm\", cmap=\"YlOrRd\", normalize=False)"
   ]
  },
  {
   "cell_type": "markdown",
   "id": "95d16b97-c416-4501-9208-498ec8cf6688",
   "metadata": {},
   "source": [
    "### Case 2"
   ]
  },
  {
   "cell_type": "code",
   "execution_count": null,
   "id": "3a6f54cc-8118-43e9-a44d-feaf8401f68a",
   "metadata": {},
   "outputs": [],
   "source": [
    "# shear stress\n",
    "case2.plot_stress(stress=\"v_zxy\")"
   ]
  },
  {
   "cell_type": "code",
   "execution_count": null,
   "id": "010403f0-3b7f-44ca-b7b5-f634e557d431",
   "metadata": {},
   "outputs": [],
   "source": [
    "# von mises stress\n",
    "case2.plot_stress(stress=\"vm\", cmap=\"YlOrRd\", normalize=False)"
   ]
  },
  {
   "cell_type": "markdown",
   "id": "2d8295a4-a3de-4963-a682-28d171123b28",
   "metadata": {},
   "source": [
    "Note that the colormap can be changed using one of those specified [here](https://matplotlib.org/stable/users/explain/colors/colormaps.html). Sequential colormaps are arguably more suited to examining von Mises stresses (always positive), whereas diverging colormaps are more insightful for stresses that can be positive and negative.\n",
    "\n",
    "The `normalize=True` argument places the centre of the colormap at zero stress."
   ]
  }
 ],
 "metadata": {
  "kernelspec": {
   "display_name": "Python 3 (ipykernel)",
   "language": "python",
   "name": "python3"
  },
  "language_info": {
   "codemirror_mode": {
    "name": "ipython",
    "version": 3
   },
   "file_extension": ".py",
   "mimetype": "text/x-python",
   "name": "python",
   "nbconvert_exporter": "python",
   "pygments_lexer": "ipython3",
   "version": "3.9.17"
  }
 },
 "nbformat": 4,
 "nbformat_minor": 5
}
