{
 "cells": [
  {
   "cell_type": "markdown",
   "id": "0",
   "metadata": {},
   "source": [
    "# Plastic Analysis"
   ]
  },
  {
   "cell_type": "markdown",
   "id": "1",
   "metadata": {},
   "source": [
    "This example demonstrates how to perform a plastic analysis in `sectionproperties`."
   ]
  },
  {
   "cell_type": "markdown",
   "id": "2",
   "metadata": {},
   "source": [
    "## Create Geometry and Section\n",
    "\n",
    "A monosymmetric I-section will be analysed, first we construct the geometry of the 200 mm deep section."
   ]
  },
  {
   "cell_type": "code",
   "execution_count": null,
   "id": "3",
   "metadata": {},
   "outputs": [],
   "source": [
    "from sectionproperties.pre.library import mono_i_section\n",
    "\n",
    "geom = mono_i_section(d=200, b_t=50, b_b=100, t_ft=12, t_fb=8, t_w=6, r=8, n_r=8)"
   ]
  },
  {
   "cell_type": "markdown",
   "id": "4",
   "metadata": {},
   "source": [
    "Like geometric analyses, plastic analyses in `sectionproperties` are mesh independent."
   ]
  },
  {
   "cell_type": "code",
   "execution_count": null,
   "id": "5",
   "metadata": {},
   "outputs": [],
   "source": [
    "from sectionproperties.analysis import Section\n",
    "\n",
    "geom.create_mesh(mesh_sizes=0)\n",
    "sec = Section(geometry=geom)\n",
    "sec.plot_mesh(materials=False)"
   ]
  },
  {
   "cell_type": "markdown",
   "id": "6",
   "metadata": {},
   "source": [
    "## Perfom Plastic Analysis\n",
    "\n",
    "A plastic analysis first requires a geometric analysis to be performed. Let's see what happens if we try to first run a plastic analysis."
   ]
  },
  {
   "cell_type": "code",
   "execution_count": null,
   "id": "7",
   "metadata": {
    "editable": true,
    "slideshow": {
     "slide_type": ""
    },
    "tags": [
     "raises-exception"
    ]
   },
   "outputs": [],
   "source": [
    "sec.calculate_plastic_properties()"
   ]
  },
  {
   "cell_type": "markdown",
   "id": "8",
   "metadata": {},
   "source": [
    "Now we run the geometric analysis first."
   ]
  },
  {
   "cell_type": "code",
   "execution_count": null,
   "id": "9",
   "metadata": {},
   "outputs": [],
   "source": [
    "sec.calculate_geometric_properties()\n",
    "sec.calculate_plastic_properties()"
   ]
  },
  {
   "cell_type": "markdown",
   "id": "10",
   "metadata": {},
   "source": [
    "## Plastic Analysis Results"
   ]
  },
  {
   "cell_type": "markdown",
   "id": "11",
   "metadata": {},
   "source": [
    "We can visualise the plastic centroid by calling the `plot_centroids()` method."
   ]
  },
  {
   "cell_type": "code",
   "execution_count": null,
   "id": "12",
   "metadata": {},
   "outputs": [],
   "source": [
    "sec.plot_centroids()"
   ]
  },
  {
   "cell_type": "markdown",
   "id": "13",
   "metadata": {},
   "source": [
    "`sectionproperties` will calculate the plastic section moduli of the cross-section during a plastic analysis. Assuming this section is made from steel ($f_y = 250$ MPa) and there are no local instabilities, we can compare the yield and plastic capacity of the cross-section."
   ]
  },
  {
   "cell_type": "code",
   "execution_count": null,
   "id": "14",
   "metadata": {},
   "outputs": [],
   "source": [
    "fy = 250  # yield stress in MPa\n",
    "\n",
    "# calculate yield moment for the top & bottom flanges\n",
    "my_t = fy * sec.get_z()[0]\n",
    "my_b = fy * sec.get_z()[1]\n",
    "\n",
    "# calculate plastic moment about x-axis\n",
    "mp = fy * sec.get_s()[0]\n",
    "\n",
    "# print results\n",
    "print(f\"My_t = {my_t / 1e6:.1f} kN.m\")\n",
    "print(f\"My_b = {my_b / 1e6:.1f} kN.m\")\n",
    "print(f\"Mp = {mp / 1e6:.1f} kN.m\")"
   ]
  },
  {
   "cell_type": "markdown",
   "id": "15",
   "metadata": {},
   "source": [
    "Thus, the section will yield about it's top flange first at 36.4 kN.m. The plastic capacity of the section is reached at 46.2 kN.m (i.e. the entire cross-section is at yield stress)."
   ]
  },
  {
   "cell_type": "markdown",
   "id": "16",
   "metadata": {},
   "source": [
    "The shape factors, i.e. the ratio between the plastic and elastic section moduli, can also be obtained."
   ]
  },
  {
   "cell_type": "code",
   "execution_count": null,
   "id": "17",
   "metadata": {},
   "outputs": [],
   "source": [
    "print(f\"SF_t = {sec.get_sf()[0]:.2f}\")\n",
    "print(f\"SF_b = {sec.get_sf()[1]:.2f}\")"
   ]
  },
  {
   "cell_type": "markdown",
   "id": "18",
   "metadata": {},
   "source": [
    "## Principal Axis Bending\n",
    "\n",
    "Plastic section analysis about principal bending axes are also computed. As angle section is analysed to demonstrate the difference between global and principal axis bending."
   ]
  },
  {
   "cell_type": "code",
   "execution_count": null,
   "id": "19",
   "metadata": {},
   "outputs": [],
   "source": [
    "from sectionproperties.pre.library import angle_section\n",
    "\n",
    "geom = angle_section(d=150, b=90, t=12, r_r=10, r_t=5, n_r=8)\n",
    "geom.create_mesh(mesh_sizes=0)\n",
    "sec = Section(geometry=geom)\n",
    "sec.calculate_geometric_properties()\n",
    "sec.calculate_plastic_properties()\n",
    "sec.plot_centroids()"
   ]
  },
  {
   "cell_type": "code",
   "execution_count": null,
   "id": "20",
   "metadata": {},
   "outputs": [],
   "source": [
    "print(f\"Sxx = {sec.get_s()[0]:.3e} mm3\")\n",
    "print(f\"S11 = {sec.get_sp()[0]:.3e} mm3\")\n",
    "print(f\"Syy = {sec.get_s()[1]:.3e} mm3\")\n",
    "print(f\"S22 = {sec.get_sp()[1]:.3e} mm3\")"
   ]
  },
  {
   "cell_type": "markdown",
   "id": "21",
   "metadata": {},
   "source": [
    "As expected, the plastic section moduli about the 11-principal axis is larger than any about the global axes."
   ]
  }
 ],
 "metadata": {
  "kernelspec": {
   "display_name": "Python 3 (ipykernel)",
   "language": "python",
   "name": "python3"
  },
  "language_info": {
   "codemirror_mode": {
    "name": "ipython",
    "version": 3
   },
   "file_extension": ".py",
   "mimetype": "text/x-python",
   "name": "python",
   "nbconvert_exporter": "python",
   "pygments_lexer": "ipython3",
   "version": "3.9.17"
  }
 },
 "nbformat": 4,
 "nbformat_minor": 5
}
