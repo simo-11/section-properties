{
 "cells": [
  {
   "cell_type": "markdown",
   "id": "679931c1",
   "metadata": {},
   "source": [
    "# Plastic Analysis"
   ]
  },
  {
   "cell_type": "markdown",
   "id": "9b879107",
   "metadata": {},
   "source": [
    "This example demonstrates how to perform a plastic analysis in `sectionproperties`."
   ]
  },
  {
   "cell_type": "markdown",
   "id": "e7803947-3718-45bd-838a-7ed48587d55d",
   "metadata": {},
   "source": [
    "## Create Geometry and Section\n",
    "\n",
    "A monosymmetric I-section will be analysed, first we construct the geometry of the 200 mm deep section."
   ]
  },
  {
   "cell_type": "code",
   "execution_count": null,
   "id": "8e71e20f",
   "metadata": {},
   "outputs": [],
   "source": [
    "from sectionproperties.pre.library import mono_i_section\n",
    "\n",
    "\n",
    "geom = mono_i_section(d=200, b_t=50, b_b=100, t_ft=12, t_fb=8, t_w=6, r=8, n_r=8)"
   ]
  },
  {
   "cell_type": "markdown",
   "id": "eac7f9e3-df69-42df-b2f5-6e264b3fc261",
   "metadata": {},
   "source": [
    "Like geometric analyses, plastic analyses in `sectionproperties` are mesh independent."
   ]
  },
  {
   "cell_type": "code",
   "execution_count": null,
   "id": "4660e87f-790a-43da-a230-c3086667bc7c",
   "metadata": {},
   "outputs": [],
   "source": [
    "from sectionproperties.analysis import Section\n",
    "\n",
    "\n",
    "geom.create_mesh(mesh_sizes=0)\n",
    "sec = Section(geometry=geom)\n",
    "sec.plot_mesh(materials=False)"
   ]
  },
  {
   "cell_type": "markdown",
   "id": "9b7e93ee-127c-4fdb-b2aa-4123b68e796f",
   "metadata": {},
   "source": [
    "## Perfom Plastic Analysis\n",
    "\n",
    "A plastic analysis first requires a geometric analysis to be performed. Let's see what happens if we try to first run a plastic analysis."
   ]
  },
  {
   "cell_type": "code",
   "execution_count": null,
   "id": "0e9fc24e-8080-4ef5-bcd7-b1d35b461410",
   "metadata": {
    "editable": true,
    "slideshow": {
     "slide_type": ""
    },
    "tags": [
     "raises-exception"
    ]
   },
   "outputs": [],
   "source": [
    "sec.calculate_plastic_properties()"
   ]
  },
  {
   "cell_type": "markdown",
   "id": "e20d2b73-e368-41fa-8965-98f7b3ca1fb6",
   "metadata": {},
   "source": [
    "Now we run the geometric analysis first."
   ]
  },
  {
   "cell_type": "code",
   "execution_count": null,
   "id": "8f53c0fe-51b0-4f49-bbf9-7840995c7bda",
   "metadata": {},
   "outputs": [],
   "source": [
    "sec.calculate_geometric_properties()\n",
    "sec.calculate_plastic_properties()"
   ]
  },
  {
   "cell_type": "markdown",
   "id": "91fc2c4f-4438-45c3-bfcb-2c7220051767",
   "metadata": {},
   "source": [
    "## Plastic Analysis Results"
   ]
  },
  {
   "cell_type": "markdown",
   "id": "33c26c30-e50d-49de-bcfa-5b935593f0b5",
   "metadata": {},
   "source": [
    "We can visualise the plastic centroid by calling the `plot_centroids()` method."
   ]
  },
  {
   "cell_type": "code",
   "execution_count": null,
   "id": "aa939fbc-0ee7-4ecf-ab8b-35e44af98963",
   "metadata": {},
   "outputs": [],
   "source": [
    "sec.plot_centroids()"
   ]
  },
  {
   "cell_type": "markdown",
   "id": "85647157-0f24-4555-8388-a458de0b998a",
   "metadata": {},
   "source": [
    "`sectionproperties` will calculate the plastic section moduli of the cross-section during a plastic analysis. Assuming this section is made from steel ($f_y = 250$ MPa) and there are no local instabilities, we can compare the yield and plastic capacity of the cross-section."
   ]
  },
  {
   "cell_type": "code",
   "execution_count": null,
   "id": "fc12dac8-b4d7-4402-baf5-08e8dcba8cb4",
   "metadata": {},
   "outputs": [],
   "source": [
    "fy = 250  # yield stress in MPa\n",
    "\n",
    "# calculate yield moment for the top & bottom flanges\n",
    "my_t = fy * sec.get_z()[0]\n",
    "my_b = fy * sec.get_z()[1]\n",
    "\n",
    "# calculate plastic moment about x-axis\n",
    "mp = fy * sec.get_s()[0]\n",
    "\n",
    "# print results\n",
    "print(f\"My_t = {my_t / 1e6:.1f} kN.m\")\n",
    "print(f\"My_b = {my_b / 1e6:.1f} kN.m\")\n",
    "print(f\"Mp = {mp / 1e6:.1f} kN.m\")"
   ]
  },
  {
   "cell_type": "markdown",
   "id": "e28f1517-238b-4ec6-b994-2cf629063c20",
   "metadata": {},
   "source": [
    "Thus, the section will yield about it's top flange first at 36.4 kN.m. The plastic capacity of the section is reached at 46.2 kN.m (i.e. the entire cross-section is at yield stress)."
   ]
  },
  {
   "cell_type": "markdown",
   "id": "af7f8c31-a2ad-4e5a-bfa5-a23945e00f42",
   "metadata": {},
   "source": [
    "The shape factors, i.e. the ratio between the plastic and elastic section moduli, can also be obtained."
   ]
  },
  {
   "cell_type": "code",
   "execution_count": null,
   "id": "147313b7-d844-41fc-b0c3-43680aed4339",
   "metadata": {},
   "outputs": [],
   "source": [
    "print(f\"SF_t = {sec.get_sf()[0]:.2f}\")\n",
    "print(f\"SF_b = {sec.get_sf()[1]:.2f}\")"
   ]
  },
  {
   "cell_type": "markdown",
   "id": "959e1848-b182-4f7e-94a1-255546367106",
   "metadata": {},
   "source": [
    "## Principal Axis Bending\n",
    "\n",
    "Plastic section analysis about principal bending axes are also computed. As angle section is analysed to demonstrate the difference between global and principal axis bending."
   ]
  },
  {
   "cell_type": "code",
   "execution_count": null,
   "id": "a7c240af-9b9e-4cd7-8896-e683d9038e4c",
   "metadata": {},
   "outputs": [],
   "source": [
    "from sectionproperties.pre.library import angle_section\n",
    "\n",
    "\n",
    "geom = angle_section(d=150, b=90, t=12, r_r=10, r_t=5, n_r=8)\n",
    "geom.create_mesh(mesh_sizes=0)\n",
    "sec = Section(geometry=geom)\n",
    "sec.calculate_geometric_properties()\n",
    "sec.calculate_plastic_properties()\n",
    "sec.plot_centroids()"
   ]
  },
  {
   "cell_type": "code",
   "execution_count": null,
   "id": "1cd36f33-425c-41a0-853b-c88f35f90011",
   "metadata": {},
   "outputs": [],
   "source": [
    "print(f\"Sxx = {sec.get_s()[0]:.3e} mm3\")\n",
    "print(f\"S11 = {sec.get_sp()[0]:.3e} mm3\")\n",
    "print(f\"Syy = {sec.get_s()[1]:.3e} mm3\")\n",
    "print(f\"S22 = {sec.get_sp()[1]:.3e} mm3\")"
   ]
  },
  {
   "cell_type": "markdown",
   "id": "d6f6434b-99e5-410c-b2e4-9a4b30cb979a",
   "metadata": {},
   "source": [
    "As expected, the plastic section moduli about the 11-principal axis is larger than any about the global axes."
   ]
  }
 ],
 "metadata": {
  "kernelspec": {
   "display_name": "Python 3 (ipykernel)",
   "language": "python",
   "name": "python3"
  },
  "language_info": {
   "codemirror_mode": {
    "name": "ipython",
    "version": 3
   },
   "file_extension": ".py",
   "mimetype": "text/x-python",
   "name": "python",
   "nbconvert_exporter": "python",
   "pygments_lexer": "ipython3",
   "version": "3.9.17"
  }
 },
 "nbformat": 4,
 "nbformat_minor": 5
}
