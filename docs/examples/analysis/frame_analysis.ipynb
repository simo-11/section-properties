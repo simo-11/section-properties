{
 "cells": [
  {
   "cell_type": "markdown",
   "id": "0",
   "metadata": {},
   "source": [
    "# Frame Analysis"
   ]
  },
  {
   "cell_type": "markdown",
   "id": "1",
   "metadata": {},
   "source": [
    "This example demonstrates how to perform a frame analysis in `sectionproperties`.\n",
    "\n",
    "A `frame` analysis calculates only the cross-section properties required for a frame analysis:\n",
    "\n",
    "- Cross-section area\n",
    "- Second moments of area about the centroidal axis\n",
    "- Torsion constant\n",
    "- Principal axis angle\n",
    "\n",
    "As a result, it is significantly more efficient than conducting both `geometric` and `warping` analyses, which is ususally required to obtain the above results."
   ]
  },
  {
   "cell_type": "markdown",
   "id": "2",
   "metadata": {},
   "source": [
    "This example will analyse a 12-sided polygonal hollow section and compare the time taken for a typical warping analysis with that taken for a frame analysis."
   ]
  },
  {
   "cell_type": "markdown",
   "id": "3",
   "metadata": {},
   "source": [
    "## Create Geometry and Section"
   ]
  },
  {
   "cell_type": "code",
   "execution_count": null,
   "id": "4",
   "metadata": {},
   "outputs": [],
   "source": [
    "from sectionproperties.analysis import Section\n",
    "from sectionproperties.pre.library import polygon_hollow_section\n",
    "\n",
    "geom = polygon_hollow_section(d=600, t=12, n_sides=12, r_in=20, n_r=8)\n",
    "geom.create_mesh(mesh_sizes=20)\n",
    "sec = Section(geometry=geom)\n",
    "sec.plot_mesh(materials=False)"
   ]
  },
  {
   "cell_type": "markdown",
   "id": "5",
   "metadata": {},
   "source": [
    "## Geometric and Warping Analysis\n",
    "\n",
    "First we can time how long it takes to perform a geometric and warping analysis."
   ]
  },
  {
   "cell_type": "code",
   "execution_count": null,
   "id": "6",
   "metadata": {},
   "outputs": [],
   "source": [
    "import time\n",
    "\n",
    "start = time.time()\n",
    "sec.calculate_geometric_properties()\n",
    "sec.calculate_warping_properties()\n",
    "end = time.time()\n",
    "gw_time = end - start"
   ]
  },
  {
   "cell_type": "markdown",
   "id": "7",
   "metadata": {},
   "source": [
    "We can print the time taken and the torsion constant to compare results."
   ]
  },
  {
   "cell_type": "code",
   "execution_count": null,
   "id": "8",
   "metadata": {},
   "outputs": [],
   "source": [
    "print(f\"Geometric/Warping Time = {gw_time:.4f} secs\")\n",
    "print(f\"J = {sec.get_j():.3e} mm4\")"
   ]
  },
  {
   "cell_type": "markdown",
   "id": "9",
   "metadata": {},
   "source": [
    "## Frame Analysis\n",
    "\n",
    "Now we can time how long it takes to perform a frame analysis."
   ]
  },
  {
   "cell_type": "code",
   "execution_count": null,
   "id": "10",
   "metadata": {},
   "outputs": [],
   "source": [
    "start = time.time()\n",
    "sec.calculate_frame_properties()\n",
    "end = time.time()\n",
    "f_time = end - start"
   ]
  },
  {
   "cell_type": "markdown",
   "id": "11",
   "metadata": {},
   "source": [
    "Again, we can print the time taken and the torsion constant."
   ]
  },
  {
   "cell_type": "code",
   "execution_count": null,
   "id": "12",
   "metadata": {},
   "outputs": [],
   "source": [
    "print(f\"Frame Time = {f_time:.4f} secs\")\n",
    "print(f\"J = {sec.get_j():.3e} mm4\")"
   ]
  },
  {
   "cell_type": "markdown",
   "id": "13",
   "metadata": {},
   "source": [
    "By not calculating shear functions, shear & warping integrals etc. required for a full warping analysis, significant time is saved if the user only wants frame properties."
   ]
  }
 ],
 "metadata": {
  "kernelspec": {
   "display_name": "Python 3 (ipykernel)",
   "language": "python",
   "name": "python3"
  },
  "language_info": {
   "codemirror_mode": {
    "name": "ipython",
    "version": 3
   },
   "file_extension": ".py",
   "mimetype": "text/x-python",
   "name": "python",
   "nbconvert_exporter": "python",
   "pygments_lexer": "ipython3",
   "version": "3.9.17"
  }
 },
 "nbformat": 4,
 "nbformat_minor": 5
}
