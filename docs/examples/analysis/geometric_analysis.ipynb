{
 "cells": [
  {
   "cell_type": "markdown",
   "id": "0",
   "metadata": {},
   "source": [
    "# Geometric Analysis"
   ]
  },
  {
   "cell_type": "markdown",
   "id": "1",
   "metadata": {},
   "source": [
    "This example demonstrates how to perform a geometric analysis in `sectionproperties`."
   ]
  },
  {
   "cell_type": "markdown",
   "id": "2",
   "metadata": {},
   "source": [
    "## Steel I-Beam\n",
    "\n",
    "In this example, the geometric cross-section properties of a 200UB25.4 are obtained."
   ]
  },
  {
   "cell_type": "markdown",
   "id": "3",
   "metadata": {},
   "source": [
    "First we create the cross-section geometry."
   ]
  },
  {
   "cell_type": "code",
   "execution_count": null,
   "id": "4",
   "metadata": {},
   "outputs": [],
   "source": [
    "from sectionproperties.pre.library import i_section\n",
    "\n",
    "geom = i_section(d=203, b=133, t_f=7.8, t_w=5.8, r=8.9, n_r=8)"
   ]
  },
  {
   "cell_type": "markdown",
   "id": "5",
   "metadata": {},
   "source": [
    "Next we must create a finite element mesh and a [Section()](../../gen/sectionproperties.analysis.section.Section.rst#sectionproperties.analysis.section.Section) object."
   ]
  },
  {
   "cell_type": "code",
   "execution_count": null,
   "id": "6",
   "metadata": {},
   "outputs": [],
   "source": [
    "from sectionproperties.analysis import Section\n",
    "\n",
    "geom.create_mesh(mesh_sizes=5)\n",
    "sec = Section(geometry=geom)"
   ]
  },
  {
   "cell_type": "markdown",
   "id": "7",
   "metadata": {},
   "source": [
    "We can check the mesh quality by calling the `display_mesh_info()` method, or by generating a plot of the mesh by using `plot_mesh()`."
   ]
  },
  {
   "cell_type": "code",
   "execution_count": null,
   "id": "8",
   "metadata": {},
   "outputs": [],
   "source": [
    "sec.display_mesh_info()"
   ]
  },
  {
   "cell_type": "code",
   "execution_count": null,
   "id": "9",
   "metadata": {
    "nbsphinx-thumbnail": {
     "output-index": 0
    }
   },
   "outputs": [],
   "source": [
    "sec.plot_mesh(materials=False)"
   ]
  },
  {
   "cell_type": "markdown",
   "id": "10",
   "metadata": {},
   "source": [
    "Note that in `sectionproperties`, the geometric properties are mesh independent. As a result, we can create a mesh with no area constraints by setting `mesh_sizes=0`."
   ]
  },
  {
   "cell_type": "code",
   "execution_count": null,
   "id": "11",
   "metadata": {},
   "outputs": [],
   "source": [
    "geom.create_mesh(mesh_sizes=0)\n",
    "sec = Section(geometry=geom)\n",
    "sec.display_mesh_info()\n",
    "sec.plot_mesh(materials=False)"
   ]
  },
  {
   "cell_type": "markdown",
   "id": "12",
   "metadata": {},
   "source": [
    "We can now perform the geometric analysis by calling `calculate_geometric_properties()`."
   ]
  },
  {
   "cell_type": "code",
   "execution_count": null,
   "id": "13",
   "metadata": {},
   "outputs": [],
   "source": [
    "sec.calculate_geometric_properties()"
   ]
  },
  {
   "cell_type": "markdown",
   "id": "14",
   "metadata": {},
   "source": [
    "One easy way to view all the results that have been calculated to date, is to print them to the terminal by using `display_results()`."
   ]
  },
  {
   "cell_type": "code",
   "execution_count": null,
   "id": "15",
   "metadata": {},
   "outputs": [],
   "source": [
    "sec.display_results(fmt=\".0f\")"
   ]
  },
  {
   "cell_type": "markdown",
   "id": "16",
   "metadata": {},
   "source": [
    "## Unconnected Sections\n",
    "\n",
    "`sectionproperties` can compute the geometric properties of unconnected sections. Note that a warping analysis cannot be undertaken on unconnected sections. This example analyses two 150PFC sections separated by 1 metre forming the flanges of a truss."
   ]
  },
  {
   "cell_type": "code",
   "execution_count": null,
   "id": "17",
   "metadata": {},
   "outputs": [],
   "source": [
    "from sectionproperties.pre.library import channel_section\n",
    "\n",
    "# create 150 pfc geometry\n",
    "pfc = channel_section(d=150, b=75, t_f=9.5, t_w=6, r=10, n_r=8)\n",
    "pfc.plot_geometry(legend=False)"
   ]
  },
  {
   "cell_type": "markdown",
   "id": "18",
   "metadata": {},
   "source": [
    "We can analyse the section properties of a single PFC first, then compare the results to the combined section."
   ]
  },
  {
   "cell_type": "code",
   "execution_count": null,
   "id": "19",
   "metadata": {},
   "outputs": [],
   "source": [
    "pfc.create_mesh(mesh_sizes=0)\n",
    "sec_pfc = Section(geometry=pfc)\n",
    "sec_pfc.calculate_geometric_properties()"
   ]
  },
  {
   "cell_type": "markdown",
   "id": "20",
   "metadata": {},
   "source": [
    "Now we create the truss geometry by mirroring one PFC and offsetting the other."
   ]
  },
  {
   "cell_type": "code",
   "execution_count": null,
   "id": "21",
   "metadata": {},
   "outputs": [],
   "source": [
    "# create compound geometry\n",
    "geom = pfc.mirror_section(axis=\"y\", mirror_point=(0, 0)) + pfc.shift_section(\n",
    "    x_offset=1000,\n",
    ")\n",
    "geom.create_mesh(mesh_sizes=0)\n",
    "sec_truss = Section(geometry=geom)\n",
    "sec_truss.plot_mesh(materials=False)\n",
    "sec_truss.calculate_geometric_properties()"
   ]
  },
  {
   "cell_type": "markdown",
   "id": "22",
   "metadata": {},
   "source": [
    "Let's compare some of the calculated section properties:"
   ]
  },
  {
   "cell_type": "code",
   "execution_count": null,
   "id": "23",
   "metadata": {},
   "outputs": [],
   "source": [
    "area_ratio = sec_truss.get_area() / sec_pfc.get_area()\n",
    "ixx_ratio = sec_truss.get_ic()[0] / sec_pfc.get_ic()[0]\n",
    "iyy_ratio = sec_truss.get_ic()[1] / sec_pfc.get_ic()[1]\n",
    "zyy_ratio = sec_truss.get_z()[2] / sec_pfc.get_z()[2]\n",
    "ry_ratio = sec_truss.get_rc()[1] / sec_pfc.get_rc()[1]"
   ]
  },
  {
   "cell_type": "markdown",
   "id": "24",
   "metadata": {},
   "source": [
    "We can format the results in a tabulated way by using the `rich` library."
   ]
  },
  {
   "cell_type": "code",
   "execution_count": null,
   "id": "25",
   "metadata": {},
   "outputs": [],
   "source": [
    "from rich.console import Console\n",
    "from rich.table import Table\n",
    "\n",
    "# setup table\n",
    "table = Table(title=\"Section Properties Comparison\")\n",
    "table.add_column(\"Property\", justify=\"left\", style=\"cyan\", no_wrap=True)\n",
    "table.add_column(\"PFC\", justify=\"right\", style=\"green\")\n",
    "table.add_column(\"Truss\", justify=\"right\", style=\"green\")\n",
    "table.add_column(\"Ratio\", justify=\"right\", style=\"green\")\n",
    "\n",
    "# add data to the table\n",
    "table.add_row(\n",
    "    \"area\",\n",
    "    f\"{sec_pfc.get_area():.0f}\",\n",
    "    f\"{sec_truss.get_area():.0f}\",\n",
    "    f\"{area_ratio:.2f}\",\n",
    ")\n",
    "table.add_row(\n",
    "    \"ixx\",\n",
    "    f\"{sec_pfc.get_ic()[0]:.3e}\",\n",
    "    f\"{sec_truss.get_ic()[0]:.3e}\",\n",
    "    f\"{ixx_ratio:.2f}\",\n",
    ")\n",
    "table.add_row(\n",
    "    \"iyy\",\n",
    "    f\"{sec_pfc.get_ic()[1]:.3e}\",\n",
    "    f\"{sec_truss.get_ic()[1]:.3e}\",\n",
    "    f\"{iyy_ratio:.2f}\",\n",
    ")\n",
    "table.add_row(\n",
    "    \"zyy\",\n",
    "    f\"{sec_pfc.get_z()[2]:.3e}\",\n",
    "    f\"{sec_truss.get_z()[2]:.3e}\",\n",
    "    f\"{zyy_ratio:.2f}\",\n",
    ")\n",
    "table.add_row(\n",
    "    \"ry\",\n",
    "    f\"{sec_pfc.get_rc()[1]:.0f}\",\n",
    "    f\"{sec_truss.get_rc()[1]:.0f}\",\n",
    "    f\"{ry_ratio:.2f}\",\n",
    ")\n",
    "\n",
    "# print table\n",
    "console = Console()\n",
    "console.print(table)"
   ]
  }
 ],
 "metadata": {
  "kernelspec": {
   "display_name": "Python 3 (ipykernel)",
   "language": "python",
   "name": "python3"
  },
  "language_info": {
   "codemirror_mode": {
    "name": "ipython",
    "version": 3
   },
   "file_extension": ".py",
   "mimetype": "text/x-python",
   "name": "python",
   "nbconvert_exporter": "python",
   "pygments_lexer": "ipython3",
   "version": "3.9.17"
  }
 },
 "nbformat": 4,
 "nbformat_minor": 5
}
