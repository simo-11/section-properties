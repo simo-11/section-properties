{
 "cells": [
  {
   "cell_type": "markdown",
   "id": "641ad8a6",
   "metadata": {},
   "source": [
    "# Warping Analysis"
   ]
  },
  {
   "cell_type": "markdown",
   "id": "3d48e9fa-e25e-46be-9d57-90d51bf5078d",
   "metadata": {},
   "source": [
    "This example demonstrates how to perform a warping analysis in `sectionproperties`."
   ]
  },
  {
   "cell_type": "markdown",
   "id": "31f952dc-1d32-4123-ae45-c6d7b756a226",
   "metadata": {},
   "source": [
    "## Channel Section\n",
    "\n",
    "This example will conduct a warping analysis on a 250PFC section.\n",
    "\n",
    "First we create the cross-section geometry."
   ]
  },
  {
   "cell_type": "code",
   "execution_count": null,
   "id": "e6d8300e-0a2b-4dbd-91a5-1b0838a38b61",
   "metadata": {},
   "outputs": [],
   "source": [
    "from sectionproperties.pre.library import channel_section\n",
    "\n",
    "\n",
    "geom = channel_section(d=250, b=90, t_f=15, t_w=8, r=12, n_r=8)"
   ]
  },
  {
   "cell_type": "markdown",
   "id": "46bb30fd-4a93-48a6-b5f5-2190fbfb4efd",
   "metadata": {},
   "source": [
    "Next we must create a finite element mesh and a `Section` object. Unlike geometric and plastic analyses, the warping results are mesh dependent. As a general rule of thumb, we would like all plate sections to be at least several elements thick in order to resolve the variations in the warping and shear functions."
   ]
  },
  {
   "cell_type": "code",
   "execution_count": null,
   "id": "262c2c99-38b9-408d-8527-d462cbc04699",
   "metadata": {},
   "outputs": [],
   "source": [
    "from sectionproperties.analysis import Section\n",
    "\n",
    "\n",
    "geom.create_mesh(mesh_sizes=7)\n",
    "sec = Section(geometry=geom)\n",
    "sec.plot_mesh(materials=False)"
   ]
  },
  {
   "cell_type": "markdown",
   "id": "857de363-c570-46d0-9f43-ca62cdcd4861",
   "metadata": {},
   "source": [
    "We can now perform the warping analysis by calling `calculate_warping_properties()`, note that a geometric analysis must be performed first. We also compare the `\"direct\"` solver with the `\"cgs\"` solver for speed."
   ]
  },
  {
   "cell_type": "code",
   "execution_count": null,
   "id": "241ddebd-de19-4f13-adcc-56bf11b0f9b2",
   "metadata": {},
   "outputs": [],
   "source": [
    "import time\n",
    "\n",
    "\n",
    "sec.calculate_geometric_properties()\n",
    "\n",
    "# direct solver\n",
    "start = time.time()\n",
    "sec.calculate_warping_properties(solver_type=\"direct\")\n",
    "end = time.time()\n",
    "print(f\"Direct Solver Time = {end - start:.4f} secs\")\n",
    "\n",
    "# cgs solver\n",
    "start = time.time()\n",
    "sec.calculate_warping_properties(solver_type=\"cgs\")\n",
    "end = time.time()\n",
    "print(f\"CGS Solver Time = {end - start:.4f} secs\")"
   ]
  },
  {
   "cell_type": "markdown",
   "id": "21312f25-e4e3-4ed7-a691-40e07b975b3b",
   "metadata": {},
   "source": [
    "We can plot the centroids to display the geometric centroid and shear centre using `plot_centroids()`."
   ]
  },
  {
   "cell_type": "code",
   "execution_count": null,
   "id": "db2a2764-28f7-468e-9a9b-e847b437e198",
   "metadata": {
    "nbsphinx-thumbnail": {
     "output-index": 0
    }
   },
   "outputs": [],
   "source": [
    "sec.plot_centroids()"
   ]
  },
  {
   "cell_type": "markdown",
   "id": "e15d3f72-9435-4aa0-83e8-ac0ff8ae3e31",
   "metadata": {},
   "source": [
    "We can also obtain the some relevant warping properties:\n",
    "\n",
    "- `J` - torsion constant\n",
    "- `Iw`/`Gamma` - warping constant\n",
    "- `As_y` - shear area for loading along the y-axis"
   ]
  },
  {
   "cell_type": "code",
   "execution_count": null,
   "id": "59957f10-0ed4-4a8c-879b-6389fba32b4e",
   "metadata": {},
   "outputs": [],
   "source": [
    "print(f\"J = {sec.get_j():.3e} mm4\")\n",
    "print(f\"Iw = {sec.get_gamma():.3e} mm6\")\n",
    "print(f\"As_y = {sec.get_as()[1]:.1f} mm2\")"
   ]
  },
  {
   "cell_type": "markdown",
   "id": "8b7910d7-a6ab-427e-bc6a-928c68b9e72c",
   "metadata": {},
   "source": [
    "## Unconnected Sections"
   ]
  },
  {
   "cell_type": "markdown",
   "id": "065f6a0f-847e-4f1b-8677-5b60808a5973",
   "metadata": {},
   "source": [
    "Unlike geometric and plastic analysis, cross-sections analysed for warping must have strict connectivity. `sectionproperties` checks for connectivity prior to conducting a warping analysis and will throw an error if there is not full connectivity between all regions of the mesh."
   ]
  },
  {
   "cell_type": "code",
   "execution_count": null,
   "id": "8bd6733a-d65c-4ab1-97e8-42a63bbfa091",
   "metadata": {},
   "outputs": [],
   "source": [
    "from sectionproperties.pre.library import rectangular_section\n",
    "\n",
    "\n",
    "# create an unconnected mesh\n",
    "rect = rectangular_section(d=10, b=10)\n",
    "geom = rect + rect.shift_section(x_offset=20)\n",
    "geom.create_mesh(mesh_sizes=1)\n",
    "sec = Section(geometry=geom)\n",
    "sec.plot_mesh(materials=False)"
   ]
  },
  {
   "cell_type": "code",
   "execution_count": null,
   "id": "4a2ebfa4-c9db-408b-b738-7b8ca5e45efb",
   "metadata": {},
   "outputs": [],
   "source": [
    "# geometric and plastic analyses can be conducted\n",
    "sec.calculate_geometric_properties()\n",
    "sec.calculate_plastic_properties()"
   ]
  },
  {
   "cell_type": "code",
   "execution_count": null,
   "id": "6f0a1357-95bd-4316-9d3b-614d9e90886d",
   "metadata": {
    "editable": true,
    "slideshow": {
     "slide_type": ""
    },
    "tags": [
     "raises-exception"
    ]
   },
   "outputs": [],
   "source": [
    "# warping analysis will fail\n",
    "sec.calculate_warping_properties()"
   ]
  }
 ],
 "metadata": {
  "kernelspec": {
   "display_name": "Python 3 (ipykernel)",
   "language": "python",
   "name": "python3"
  },
  "language_info": {
   "codemirror_mode": {
    "name": "ipython",
    "version": 3
   },
   "file_extension": ".py",
   "mimetype": "text/x-python",
   "name": "python",
   "nbconvert_exporter": "python",
   "pygments_lexer": "ipython3",
   "version": "3.9.17"
  }
 },
 "nbformat": 4,
 "nbformat_minor": 5
}
