{
 "cells": [
  {
   "cell_type": "markdown",
   "id": "0",
   "metadata": {},
   "source": [
    "# Warping Analysis"
   ]
  },
  {
   "cell_type": "markdown",
   "id": "1",
   "metadata": {},
   "source": [
    "This example demonstrates how to perform a warping analysis in `sectionproperties`."
   ]
  },
  {
   "cell_type": "markdown",
   "id": "2",
   "metadata": {},
   "source": [
    "## Channel Section\n",
    "\n",
    "This example will conduct a warping analysis on a 250PFC section.\n",
    "\n",
    "First we create the cross-section geometry."
   ]
  },
  {
   "cell_type": "code",
   "execution_count": null,
   "id": "3",
   "metadata": {},
   "outputs": [],
   "source": [
    "from sectionproperties.pre.library import channel_section\n",
    "\n",
    "geom = channel_section(d=250, b=90, t_f=15, t_w=8, r=12, n_r=8)"
   ]
  },
  {
   "cell_type": "markdown",
   "id": "4",
   "metadata": {},
   "source": [
    "Next we must create a finite element mesh and a `Section` object. Unlike geometric and plastic analyses, the warping results are mesh dependent. As a general rule of thumb, we would like all plate sections to be at least several elements thick in order to resolve the variations in the warping and shear functions."
   ]
  },
  {
   "cell_type": "code",
   "execution_count": null,
   "id": "5",
   "metadata": {},
   "outputs": [],
   "source": [
    "from sectionproperties.analysis import Section\n",
    "\n",
    "geom.create_mesh(mesh_sizes=7)\n",
    "sec = Section(geometry=geom)\n",
    "sec.plot_mesh(materials=False)"
   ]
  },
  {
   "cell_type": "markdown",
   "id": "6",
   "metadata": {},
   "source": [
    "We can now perform the warping analysis by calling `calculate_warping_properties()`, note that a geometric analysis must be performed first. We also compare the `\"direct\"` solver with the `\"cgs\"` solver for speed."
   ]
  },
  {
   "cell_type": "code",
   "execution_count": null,
   "id": "7",
   "metadata": {},
   "outputs": [],
   "source": [
    "import time\n",
    "\n",
    "sec.calculate_geometric_properties()\n",
    "\n",
    "# direct solver\n",
    "start = time.time()\n",
    "sec.calculate_warping_properties(solver_type=\"direct\")\n",
    "end = time.time()\n",
    "print(f\"Direct Solver Time = {end - start:.4f} secs\")\n",
    "\n",
    "# cgs solver\n",
    "start = time.time()\n",
    "sec.calculate_warping_properties(solver_type=\"cgs\")\n",
    "end = time.time()\n",
    "print(f\"CGS Solver Time = {end - start:.4f} secs\")"
   ]
  },
  {
   "cell_type": "markdown",
   "id": "8",
   "metadata": {},
   "source": [
    "We can plot the centroids to display the geometric centroid and shear centre using `plot_centroids()`."
   ]
  },
  {
   "cell_type": "code",
   "execution_count": null,
   "id": "9",
   "metadata": {
    "nbsphinx-thumbnail": {
     "output-index": 0
    }
   },
   "outputs": [],
   "source": [
    "sec.plot_centroids()"
   ]
  },
  {
   "cell_type": "markdown",
   "id": "10",
   "metadata": {},
   "source": [
    "We can also obtain the some relevant warping properties:\n",
    "\n",
    "- `J` - torsion constant\n",
    "- `Iw`/`Gamma` - warping constant\n",
    "- `As_y` - shear area for loading along the y-axis"
   ]
  },
  {
   "cell_type": "code",
   "execution_count": null,
   "id": "11",
   "metadata": {},
   "outputs": [],
   "source": [
    "print(f\"J = {sec.get_j():.3e} mm4\")\n",
    "print(f\"Iw = {sec.get_gamma():.3e} mm6\")\n",
    "print(f\"As_y = {sec.get_as()[1]:.1f} mm2\")"
   ]
  },
  {
   "cell_type": "markdown",
   "id": "12",
   "metadata": {},
   "source": [
    "## Unconnected Sections"
   ]
  },
  {
   "cell_type": "markdown",
   "id": "13",
   "metadata": {},
   "source": [
    "Unlike geometric and plastic analysis, cross-sections analysed for warping must have strict connectivity. `sectionproperties` checks for connectivity prior to conducting a warping analysis and will throw an error if there is not full connectivity between all regions of the mesh."
   ]
  },
  {
   "cell_type": "code",
   "execution_count": null,
   "id": "14",
   "metadata": {},
   "outputs": [],
   "source": [
    "from sectionproperties.pre.library import rectangular_section\n",
    "\n",
    "# create an unconnected mesh\n",
    "rect = rectangular_section(d=10, b=10)\n",
    "geom = rect + rect.shift_section(x_offset=20)\n",
    "geom.create_mesh(mesh_sizes=1)\n",
    "sec = Section(geometry=geom)\n",
    "sec.plot_mesh(materials=False)"
   ]
  },
  {
   "cell_type": "code",
   "execution_count": null,
   "id": "15",
   "metadata": {},
   "outputs": [],
   "source": [
    "# geometric and plastic analyses can be conducted\n",
    "sec.calculate_geometric_properties()\n",
    "sec.calculate_plastic_properties()"
   ]
  },
  {
   "cell_type": "code",
   "execution_count": null,
   "id": "16",
   "metadata": {
    "editable": true,
    "slideshow": {
     "slide_type": ""
    },
    "tags": [
     "raises-exception"
    ]
   },
   "outputs": [],
   "source": [
    "# warping analysis will fail\n",
    "sec.calculate_warping_properties()"
   ]
  }
 ],
 "metadata": {
  "kernelspec": {
   "display_name": "Python 3 (ipykernel)",
   "language": "python",
   "name": "python3"
  },
  "language_info": {
   "codemirror_mode": {
    "name": "ipython",
    "version": 3
   },
   "file_extension": ".py",
   "mimetype": "text/x-python",
   "name": "python",
   "nbconvert_exporter": "python",
   "pygments_lexer": "ipython3",
   "version": "3.9.17"
  }
 },
 "nbformat": 4,
 "nbformat_minor": 5
}
