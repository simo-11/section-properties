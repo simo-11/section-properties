{
 "cells": [
  {
   "cell_type": "markdown",
   "id": "0",
   "metadata": {},
   "source": [
    "# Assigning Materials"
   ]
  },
  {
   "cell_type": "markdown",
   "id": "1",
   "metadata": {},
   "source": [
    "This examples showcases how material properties can be assigned to geometries in `sectionproperties`.\n",
    "\n",
    "First we must import the [Material()](../../gen/sectionproperties.pre.pre.Material.rst#sectionproperties.pre.pre.Material) object."
   ]
  },
  {
   "cell_type": "code",
   "execution_count": null,
   "id": "2",
   "metadata": {},
   "outputs": [],
   "source": [
    "from sectionproperties.pre import Material"
   ]
  },
  {
   "cell_type": "markdown",
   "id": "3",
   "metadata": {},
   "source": [
    "Materials in `sectionproperties` require the following properties:\n",
    "\n",
    "- Name [`string`]\n",
    "- Elastic modulus [`float`]\n",
    "- Poisson's ratio [`float`]\n",
    "- Density (mass per unit volume) [`float`]\n",
    "- Yield strength [`float`]\n",
    "- Color (see [here](https://matplotlib.org/stable/gallery/color/named_colors.html) for a list of named colors) [`string`]"
   ]
  },
  {
   "cell_type": "markdown",
   "id": "4",
   "metadata": {},
   "source": [
    "For example, the following creates a typical steel material, using consistent Newtown and millimetre units:"
   ]
  },
  {
   "cell_type": "code",
   "execution_count": null,
   "id": "5",
   "metadata": {},
   "outputs": [],
   "source": [
    "steel = Material(\n",
    "    name=\"Steel\",\n",
    "    elastic_modulus=200e3,  # N/mm^2 (MPa)\n",
    "    poissons_ratio=0.3,  # unitless\n",
    "    density=7.85e-6,  # kg/mm^3\n",
    "    yield_strength=500,  # N/mm^2 (MPa)\n",
    "    color=\"grey\",\n",
    ")"
   ]
  },
  {
   "cell_type": "markdown",
   "id": "6",
   "metadata": {},
   "source": [
    "The below examples highlight a number of ways materials can be assigned to geometries in `sectionproperties`."
   ]
  },
  {
   "cell_type": "markdown",
   "id": "7",
   "metadata": {},
   "source": [
    "## Assign material to a `shapely` geometry\n",
    "\n",
    "The [Geometry()](../../gen/sectionproperties.pre.geometry.Geometry.rst#sectionproperties.pre.geometry.Geometry) constructor takes an optional material argument."
   ]
  },
  {
   "cell_type": "code",
   "execution_count": null,
   "id": "8",
   "metadata": {},
   "outputs": [],
   "source": [
    "from shapely import Polygon\n",
    "\n",
    "from sectionproperties.analysis import Section\n",
    "from sectionproperties.pre import Geometry\n",
    "\n",
    "# assign steel to a shapely polygon\n",
    "poly = Polygon([(0, 0), (5, 2), (3, 7), (1, 6)])\n",
    "geom = Geometry(geom=poly, material=steel)\n",
    "geom.create_mesh(mesh_sizes=1)\n",
    "Section(geometry=geom).plot_mesh()"
   ]
  },
  {
   "cell_type": "markdown",
   "id": "9",
   "metadata": {},
   "source": [
    "## Assign material to arbitrary geometry\n",
    "\n",
    "The [Geometry.from_points()](../../gen/sectionproperties.pre.geometry.Geometry.rst#sectionproperties.pre.geometry.Geometry.from_points) method also takes an optional material argument."
   ]
  },
  {
   "cell_type": "code",
   "execution_count": null,
   "id": "10",
   "metadata": {},
   "outputs": [],
   "source": [
    "# create list of points, facets and holes\n",
    "points = [(0, 0), (10, 5), (15, 15), (5, 10), (6, 6), (9, 7), (7, 9)]\n",
    "facets = [(0, 1), (1, 2), (2, 3), (3, 0), (4, 5), (5, 6), (6, 4)]\n",
    "control_points = [(4, 4)]\n",
    "holes = [(7, 7)]\n",
    "\n",
    "# create geometry object, specifying material\n",
    "geom = Geometry.from_points(\n",
    "    points=points,\n",
    "    facets=facets,\n",
    "    control_points=control_points,\n",
    "    holes=holes,\n",
    "    material=steel,\n",
    ")\n",
    "geom.create_mesh(mesh_sizes=1)\n",
    "Section(geometry=geom).plot_mesh()"
   ]
  },
  {
   "cell_type": "markdown",
   "id": "11",
   "metadata": {},
   "source": [
    "## Assign material to geometry from the section library\n",
    "\n",
    "All methods in the [section library](../../gen/sectionproperties.pre.library.rst#module-sectionproperties.pre.library) take an optional material argument."
   ]
  },
  {
   "cell_type": "code",
   "execution_count": null,
   "id": "12",
   "metadata": {},
   "outputs": [],
   "source": [
    "from sectionproperties.pre.library import polygon_hollow_section\n",
    "\n",
    "geom = polygon_hollow_section(d=200, t=6, n_sides=8, r_in=20, n_r=12, material=steel)\n",
    "geom.create_mesh(mesh_sizes=10)\n",
    "Section(geometry=geom).plot_mesh()"
   ]
  },
  {
   "cell_type": "markdown",
   "id": "13",
   "metadata": {},
   "source": [
    "## Assigning a material after creating a geometry\n",
    "\n",
    "A geometry’s material may be altered at any time by simply assigning a new `Material` to the `.material` attribute of the `Geometry` object."
   ]
  },
  {
   "cell_type": "code",
   "execution_count": null,
   "id": "14",
   "metadata": {},
   "outputs": [],
   "source": [
    "from sectionproperties.pre.library import rectangular_section\n",
    "\n",
    "# create a rectangular section with the default material\n",
    "geom = rectangular_section(d=16, b=100)\n",
    "geom.create_mesh(mesh_sizes=10)\n",
    "Section(geometry=geom).plot_mesh()\n",
    "\n",
    "# assign steel to the geometry, remesh and recreate the Section object\n",
    "geom.material = steel\n",
    "geom.create_mesh(mesh_sizes=10)\n",
    "Section(geometry=geom).plot_mesh()"
   ]
  },
  {
   "cell_type": "markdown",
   "id": "15",
   "metadata": {},
   "source": [
    "## Assigning materials to `CompoundGeometry` objects\n",
    "\n",
    "A `CompoundGeometry` does not have a `.material` attribute and therefore, a `Material` cannot be directly assigned. Since a `CompoundGeometry` is simply a combination of `Geometry` objects, the material should be assigned to each individual `Geometry` object that make up the `CompoundGeometry`."
   ]
  },
  {
   "cell_type": "code",
   "execution_count": null,
   "id": "16",
   "metadata": {},
   "outputs": [],
   "source": [
    "# create a timber material\n",
    "timber = Material(\n",
    "    name=\"Timber\",\n",
    "    elastic_modulus=8e3,\n",
    "    poissons_ratio=0.35,\n",
    "    density=6.5e-7,\n",
    "    yield_strength=20,\n",
    "    color=\"burlywood\",\n",
    ")\n",
    "\n",
    "# create individual geometries with material properties applied\n",
    "beam = rectangular_section(d=35, b=170, material=timber)\n",
    "plate1 = rectangular_section(d=35, b=16, material=steel)\n",
    "plate2 = rectangular_section(d=35, b=16, material=steel)\n",
    "\n",
    "# combine geometries, maintaining assigned materials\n",
    "geom = (\n",
    "    beam\n",
    "    + plate1.align_to(other=beam, on=\"left\")\n",
    "    + plate2.align_to(other=beam, on=\"right\")\n",
    ")\n",
    "\n",
    "# mesh and plot\n",
    "geom.create_mesh(mesh_sizes=[20, 10, 10])\n",
    "Section(geometry=geom).plot_mesh()"
   ]
  },
  {
   "cell_type": "markdown",
   "id": "17",
   "metadata": {},
   "source": [
    "Materials can also be changed after the fact by looping through the `Geometry` objects contained with the `CompoundGeometry` object."
   ]
  },
  {
   "cell_type": "code",
   "execution_count": null,
   "id": "18",
   "metadata": {},
   "outputs": [],
   "source": [
    "# create CompoundGeometry without materials\n",
    "rect1 = rectangular_section(d=10, b=10)\n",
    "rect2 = rectangular_section(d=20, b=20).align_to(other=rect1, on=\"right\")\n",
    "geom = rect1 + rect2\n",
    "geom.create_mesh(mesh_sizes=[1])\n",
    "Section(geometry=geom).plot_mesh()\n",
    "\n",
    "# create list of materials\n",
    "mat_list = [steel, timber]\n",
    "\n",
    "# loop through Geometry objects in CompoundGeometry to change materials\n",
    "for geometry, mat in zip(geom.geoms, mat_list, strict=False):\n",
    "    geometry.material = mat\n",
    "\n",
    "# remesh and recreate Section object\n",
    "geom.create_mesh(mesh_sizes=[1])\n",
    "Section(geometry=geom).plot_mesh()"
   ]
  },
  {
   "cell_type": "markdown",
   "id": "19",
   "metadata": {},
   "source": [
    "For more information, see [Assigning Material Properties](../../user_guide/geometry.rst#assigning-material-properties)."
   ]
  }
 ],
 "metadata": {
  "kernelspec": {
   "display_name": "Python 3 (ipykernel)",
   "language": "python",
   "name": "python3"
  },
  "language_info": {
   "codemirror_mode": {
    "name": "ipython",
    "version": 3
   },
   "file_extension": ".py",
   "mimetype": "text/x-python",
   "name": "python",
   "nbconvert_exporter": "python",
   "pygments_lexer": "ipython3",
   "version": "3.9.17"
  }
 },
 "nbformat": 4,
 "nbformat_minor": 5
}
