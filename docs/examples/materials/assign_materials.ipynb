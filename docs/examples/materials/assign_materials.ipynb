{
 "cells": [
  {
   "cell_type": "markdown",
   "id": "b41eedbb",
   "metadata": {},
   "source": [
    "# Assigning Materials"
   ]
  },
  {
   "cell_type": "markdown",
   "id": "fbcbaef3-256a-4511-9915-1b9195198a3e",
   "metadata": {},
   "source": [
    "This examples showcases how material properties can be assigned to geometries in `sectionproperties`.\n",
    "\n",
    "First we must import the [Material()](../../gen/sectionproperties.pre.pre.Material.rst#sectionproperties.pre.pre.Material) object."
   ]
  },
  {
   "cell_type": "code",
   "execution_count": null,
   "id": "5d30e51a-51c7-4125-b3e7-8ba5922435bd",
   "metadata": {},
   "outputs": [],
   "source": [
    "from sectionproperties.pre import Material"
   ]
  },
  {
   "cell_type": "markdown",
   "id": "6bc76ac5-c870-4fa6-8fc9-52ae5710df21",
   "metadata": {},
   "source": [
    "Materials in `sectionproperties` require the following properties:\n",
    "\n",
    "- Name [`string`]\n",
    "- Elastic modulus [`float`]\n",
    "- Poisson's ratio [`float`]\n",
    "- Density (mass per unit volume) [`float`]\n",
    "- Yield strength [`float`]\n",
    "- Color (see [here](https://matplotlib.org/stable/gallery/color/named_colors.html) for a list of named colors) [`string`]"
   ]
  },
  {
   "cell_type": "markdown",
   "id": "cf4bcb10-46c0-4dce-a301-349d660867e4",
   "metadata": {},
   "source": [
    "For example, the following creates a typical steel material, using consistent Newtown and millimetre units:"
   ]
  },
  {
   "cell_type": "code",
   "execution_count": null,
   "id": "6419b6cd-ccd8-4254-9640-2dd91e01da6a",
   "metadata": {},
   "outputs": [],
   "source": [
    "steel = Material(\n",
    "    name=\"Steel\",\n",
    "    elastic_modulus=200e3,  # N/mm^2 (MPa)\n",
    "    poissons_ratio=0.3,  # unitless\n",
    "    density=7.85e-6,  # kg/mm^3\n",
    "    yield_strength=500,  # N/mm^2 (MPa)\n",
    "    color=\"grey\",\n",
    ")"
   ]
  },
  {
   "cell_type": "markdown",
   "id": "a13b5102-d016-42fa-a910-a28cb4b971d1",
   "metadata": {},
   "source": [
    "The below examples highlight a number of ways materials can be assigned to geometries in `sectionproperties`."
   ]
  },
  {
   "cell_type": "markdown",
   "id": "e2ba8630-c90f-456c-8336-d641cb0f89b5",
   "metadata": {},
   "source": [
    "## Assign material to a `shapely` geometry\n",
    "\n",
    "The [Geometry()](../../gen/sectionproperties.pre.geometry.Geometry.rst#sectionproperties.pre.geometry.Geometry) constructor takes an optional material argument."
   ]
  },
  {
   "cell_type": "code",
   "execution_count": null,
   "id": "3e2fcded-15c4-46b3-888f-48bc8f51ab98",
   "metadata": {},
   "outputs": [],
   "source": [
    "from shapely import Polygon\n",
    "from sectionproperties.pre import Geometry\n",
    "from sectionproperties.analysis import Section\n",
    "\n",
    "# assign steel to a shapely polygon\n",
    "poly = Polygon([(0, 0), (5, 2), (3, 7), (1, 6)])\n",
    "geom = Geometry(geom=poly, material=steel)\n",
    "geom.create_mesh(mesh_sizes=1)\n",
    "Section(geometry=geom).plot_mesh()"
   ]
  },
  {
   "cell_type": "markdown",
   "id": "1eacd35d-3df5-470c-aa2a-5ff72664e4dd",
   "metadata": {},
   "source": [
    "## Assign material to arbitrary geometry\n",
    "\n",
    "The [Geometry.from_points()](../../gen/sectionproperties.pre.geometry.Geometry.rst#sectionproperties.pre.geometry.Geometry.from_points) method also takes an optional material argument."
   ]
  },
  {
   "cell_type": "code",
   "execution_count": null,
   "id": "f8292d66-8577-49a7-b1f5-69f367eea5b1",
   "metadata": {},
   "outputs": [],
   "source": [
    "# create list of points, facets and holes\n",
    "points = [(0, 0), (10, 5), (15, 15), (5, 10), (6, 6), (9, 7), (7, 9)]\n",
    "facets = [(0, 1), (1, 2), (2, 3), (3, 0), (4, 5), (5, 6), (6, 4)]\n",
    "control_points = [(4, 4)]\n",
    "holes = [(7, 7)]\n",
    "\n",
    "# create geometry object, specifying material\n",
    "geom = Geometry.from_points(\n",
    "    points=points,\n",
    "    facets=facets,\n",
    "    control_points=control_points,\n",
    "    holes=holes,\n",
    "    material=steel,\n",
    ")\n",
    "geom.create_mesh(mesh_sizes=1)\n",
    "Section(geometry=geom).plot_mesh()"
   ]
  },
  {
   "cell_type": "markdown",
   "id": "6f1a928b-03f1-4d81-87ef-938113f0d3b2",
   "metadata": {},
   "source": [
    "## Assign material to geometry from the section library\n",
    "\n",
    "All methods in the [section library](../../gen/sectionproperties.pre.library.rst#module-sectionproperties.pre.library) take an optional material argument."
   ]
  },
  {
   "cell_type": "code",
   "execution_count": null,
   "id": "c39a7318-5fec-4899-9314-595c6849ecf5",
   "metadata": {},
   "outputs": [],
   "source": [
    "from sectionproperties.pre.library import polygon_hollow_section\n",
    "\n",
    "geom = polygon_hollow_section(d=200, t=6, n_sides=8, r_in=20, n_r=12, material=steel)\n",
    "geom.create_mesh(mesh_sizes=10)\n",
    "Section(geometry=geom).plot_mesh()"
   ]
  },
  {
   "cell_type": "markdown",
   "id": "b740ce2b-65f7-4a72-9e7b-c1d8440ba32b",
   "metadata": {},
   "source": [
    "## Assigning a material after creating a geometry\n",
    "\n",
    "A geometry’s material may be altered at any time by simply assigning a new `Material` to the `.material` attribute of the `Geometry` object."
   ]
  },
  {
   "cell_type": "code",
   "execution_count": null,
   "id": "57af644d-5ea2-439d-9542-09d70e702e5e",
   "metadata": {},
   "outputs": [],
   "source": [
    "from sectionproperties.pre.library import rectangular_section\n",
    "\n",
    "# create a rectangular section with the default material\n",
    "geom = rectangular_section(d=16, b=100)\n",
    "geom.create_mesh(mesh_sizes=10)\n",
    "Section(geometry=geom).plot_mesh()\n",
    "\n",
    "# assign steel to the geometry, remesh and recreate the Section object\n",
    "geom.material = steel\n",
    "geom.create_mesh(mesh_sizes=10)\n",
    "Section(geometry=geom).plot_mesh()"
   ]
  },
  {
   "cell_type": "markdown",
   "id": "84cc2aec-cfbe-4a35-a9b3-fc29d63f52f1",
   "metadata": {},
   "source": [
    "## Assigning materials to `CompoundGeometry` objects\n",
    "\n",
    "A `CompoundGeometry` does not have a `.material` attribute and therefore, a `Material` cannot be directly assigned. Since a `CompoundGeometry` is simply a combination of `Geometry` objects, the material should be assigned to each individual `Geometry` object that make up the `CompoundGeometry`."
   ]
  },
  {
   "cell_type": "code",
   "execution_count": null,
   "id": "895ad706-f4c2-477d-b1b4-72f8830c6281",
   "metadata": {},
   "outputs": [],
   "source": [
    "# create a timber material\n",
    "timber = Material(\n",
    "    name=\"Timber\",\n",
    "    elastic_modulus=8e3,\n",
    "    poissons_ratio=0.35,\n",
    "    density=6.5e-7,\n",
    "    yield_strength=20,\n",
    "    color=\"burlywood\",\n",
    ")\n",
    "\n",
    "# create individual geometries with material properties applied\n",
    "beam = rectangular_section(d=35, b=170, material=timber)\n",
    "plate1 = rectangular_section(d=35, b=16, material=steel)\n",
    "plate2 = rectangular_section(d=35, b=16, material=steel)\n",
    "\n",
    "# combine geometries, maintaining assigned materials\n",
    "geom = (\n",
    "    beam\n",
    "    + plate1.align_to(other=beam, on=\"left\")\n",
    "    + plate2.align_to(other=beam, on=\"right\")\n",
    ")\n",
    "\n",
    "# mesh and plot\n",
    "geom.create_mesh(mesh_sizes=[20, 10, 10])\n",
    "Section(geometry=geom).plot_mesh()"
   ]
  },
  {
   "cell_type": "markdown",
   "id": "531adf6d-b159-4fc5-b005-81615d3f8a2b",
   "metadata": {},
   "source": [
    "Materials can also be changed after the fact by looping through the `Geometry` objects contained with the `CompoundGeometry` object."
   ]
  },
  {
   "cell_type": "code",
   "execution_count": null,
   "id": "196c847e-0f17-479a-98c6-edea7f446094",
   "metadata": {},
   "outputs": [],
   "source": [
    "# create CompoundGeometry without materials\n",
    "rect1 = rectangular_section(d=10, b=10)\n",
    "rect2 = rectangular_section(d=20, b=20).align_to(other=rect1, on=\"right\")\n",
    "geom = rect1 + rect2\n",
    "geom.create_mesh(mesh_sizes=[1])\n",
    "Section(geometry=geom).plot_mesh()\n",
    "\n",
    "# create list of materials\n",
    "mat_list = [steel, timber]\n",
    "\n",
    "# loop through Geometry objects in CompoundGeometry to change materials\n",
    "for geometry, mat in zip(geom.geoms, mat_list):\n",
    "    geometry.material = mat\n",
    "\n",
    "# remesh and recreate Section object\n",
    "geom.create_mesh(mesh_sizes=[1])\n",
    "Section(geometry=geom).plot_mesh()"
   ]
  },
  {
   "cell_type": "markdown",
   "id": "09d35b5a-1470-4c02-b522-d077bef921ec",
   "metadata": {},
   "source": [
    "For more information, see [Assigning Material Properties](../../user_guide/geometry.rst#assigning-material-properties)."
   ]
  }
 ],
 "metadata": {
  "kernelspec": {
   "display_name": "Python 3 (ipykernel)",
   "language": "python",
   "name": "python3"
  },
  "language_info": {
   "codemirror_mode": {
    "name": "ipython",
    "version": 3
   },
   "file_extension": ".py",
   "mimetype": "text/x-python",
   "name": "python",
   "nbconvert_exporter": "python",
   "pygments_lexer": "ipython3",
   "version": "3.9.17"
  }
 },
 "nbformat": 4,
 "nbformat_minor": 5
}
