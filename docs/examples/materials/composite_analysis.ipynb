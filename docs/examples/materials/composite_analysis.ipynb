{
 "cells": [
  {
   "cell_type": "markdown",
   "id": "83c554f3",
   "metadata": {},
   "source": [
    "# Composite Analysis"
   ]
  },
  {
   "cell_type": "markdown",
   "id": "8cc85c8b-c41c-446c-8227-4c0af3141a5f",
   "metadata": {},
   "source": [
    "This example highlights how material properties allow composite analysis in `sectionproperties`."
   ]
  },
  {
   "cell_type": "markdown",
   "id": "ddfb0e0d-d0ad-48c4-af60-00594ce931aa",
   "metadata": {},
   "source": [
    "## Geometric vs. Composite\n",
    "\n",
    "The default analysis type in `sectionproperties` is purely geometric, i.e. cross-section properties are reported based on the geometry only. In this analysis, all geometries are assigned the *default material*:"
   ]
  },
  {
   "cell_type": "code",
   "execution_count": null,
   "id": "7a3cb109-de5a-4da8-a26f-8d9faf895e08",
   "metadata": {},
   "outputs": [],
   "source": [
    "from sectionproperties.pre.library import rectangular_section\n",
    "from sectionproperties.analysis import Section\n",
    "\n",
    "rect_geom = rectangular_section(d=100, b=50)\n",
    "rect_geom.material"
   ]
  },
  {
   "cell_type": "markdown",
   "id": "e6698eea-488c-43ae-9074-af3adbc63a77",
   "metadata": {},
   "source": [
    "The default material has a unit elastic modulus, yield strength and density, and a Poisson's ratio of zero."
   ]
  },
  {
   "cell_type": "markdown",
   "id": "5d1c173a-2906-4bd4-a679-280b5677ddad",
   "metadata": {},
   "source": [
    "Geometric-only analysis allows geometric properties to be obtained:"
   ]
  },
  {
   "cell_type": "code",
   "execution_count": null,
   "id": "6b44965a-cfbe-467e-930e-83cfbbbd5f1b",
   "metadata": {},
   "outputs": [],
   "source": [
    "rect_geom.create_mesh(mesh_sizes=10)  # create mesh\n",
    "rect_sec = Section(geometry=rect_geom)\n",
    "rect_sec.calculate_geometric_properties()\n",
    "ixx, iyy, ixy = rect_sec.get_ic()  # get second moments of area\n",
    "print(f\"Ixx = {ixx:.5e} mm4\")"
   ]
  },
  {
   "cell_type": "markdown",
   "id": "ba969dc2-dc14-4728-9e74-711f2bb92792",
   "metadata": {},
   "source": [
    "When a material property gets added to a geometry, the analysis becomes *composite*. "
   ]
  },
  {
   "cell_type": "code",
   "execution_count": null,
   "id": "cd3b48cb-b0fc-4390-b4f7-dcfe149b309c",
   "metadata": {},
   "outputs": [],
   "source": [
    "from sectionproperties.pre import Material\n",
    "\n",
    "# assign steel to the geometry\n",
    "steel = Material(\n",
    "    name=\"Steel\",\n",
    "    elastic_modulus=200e3,\n",
    "    poissons_ratio=0.3,\n",
    "    density=7.85e-6,\n",
    "    yield_strength=500,\n",
    "    color=\"grey\",\n",
    ")\n",
    "rect_geom.material = steel\n",
    "\n",
    "# recreate mesh and section\n",
    "rect_geom.create_mesh(mesh_sizes=10)\n",
    "rect_sec = Section(geometry=rect_geom)\n",
    "rect_sec.calculate_geometric_properties()"
   ]
  },
  {
   "cell_type": "markdown",
   "id": "3bbf5680-79d3-475e-8457-a80d5fe55ee7",
   "metadata": {},
   "source": [
    "Cross-section properties are now modulus weighted as the assumption is that there are multiple regions with multiple different material properties. We can no longer obtain geometric-only properties:"
   ]
  },
  {
   "cell_type": "code",
   "execution_count": null,
   "id": "147a0717-1c26-454e-86c1-f75735881a91",
   "metadata": {
    "editable": true,
    "slideshow": {
     "slide_type": ""
    },
    "tags": [
     "raises-exception"
    ]
   },
   "outputs": [],
   "source": [
    "ixx, iyy, ixy = rect_sec.get_ic()  # get second moments of area"
   ]
  },
  {
   "cell_type": "markdown",
   "id": "a5a66437-e7aa-4f9b-bc06-02f2a22c1d6d",
   "metadata": {
    "editable": true,
    "slideshow": {
     "slide_type": ""
    },
    "tags": []
   },
   "source": [
    "In this case, we need to get the modulus weighted second moments of area. Note we can still extract geometric properties by using a reference elastic modulus."
   ]
  },
  {
   "cell_type": "code",
   "execution_count": null,
   "id": "0d069024-5262-4f72-889a-d24a423fb5e6",
   "metadata": {},
   "outputs": [],
   "source": [
    "# get modulus weighted second moments of area\n",
    "eixx, eiyy, eixy = rect_sec.get_eic()\n",
    "print(f\"E.Ixx = {eixx:.5e} N.mm2\")\n",
    "\n",
    "# use reference elastic modulus to get transformed properties\n",
    "ixx, iyy, ixy = rect_sec.get_eic(e_ref=steel)\n",
    "print(f\"Ixx = {ixx:.5e} mm4\")"
   ]
  },
  {
   "cell_type": "markdown",
   "id": "acbcebd8-7138-4037-be53-03a54902ef48",
   "metadata": {},
   "source": [
    "## Steel-Timber Composite Section\n",
    "\n",
    "The following section models a composite timber floor and steel beam section. A universal steel beam (310UB40.4) is modelled with a 100D x 600W timber panel placed on its top flange."
   ]
  },
  {
   "cell_type": "markdown",
   "id": "b975cf66-d5a0-48f9-a0a9-6c5db78c91c5",
   "metadata": {},
   "source": [
    "### Create the Materials"
   ]
  },
  {
   "cell_type": "code",
   "execution_count": null,
   "id": "02406069-d68d-4b92-a0c4-3c5cd10d786a",
   "metadata": {},
   "outputs": [],
   "source": [
    "# create the steel material\n",
    "steel = Material(\n",
    "    name=\"Steel\",\n",
    "    elastic_modulus=200e3,\n",
    "    poissons_ratio=0.3,\n",
    "    density=7.85e-6,\n",
    "    yield_strength=500,\n",
    "    color=\"grey\",\n",
    ")\n",
    "\n",
    "# create the timber material\n",
    "timber = Material(\n",
    "    name=\"Timber\",\n",
    "    elastic_modulus=8e3,\n",
    "    poissons_ratio=0.35,\n",
    "    yield_strength=20,\n",
    "    density=0.78e-6,\n",
    "    color=\"burlywood\",\n",
    ")"
   ]
  },
  {
   "cell_type": "markdown",
   "id": "fe80b524-8287-4ae8-a450-2754249af1fc",
   "metadata": {},
   "source": [
    "### Create the Geometry"
   ]
  },
  {
   "cell_type": "code",
   "execution_count": null,
   "id": "8f59f9d1-6421-44c6-9f69-253d9c725422",
   "metadata": {},
   "outputs": [],
   "source": [
    "from sectionproperties.pre.library import i_section\n",
    "\n",
    "# universal steel beam\n",
    "ub = i_section(d=304, b=165, t_f=10.2, t_w=6.1, r=11.4, n_r=8, material=steel)\n",
    "\n",
    "# timber floor panel\n",
    "panel = rectangular_section(d=100, b=600, material=timber)\n",
    "panel = panel.align_center(align_to=ub).align_to(other=ub, on=\"top\")\n",
    "\n",
    "# combine geometry\n",
    "geom = ub + panel"
   ]
  },
  {
   "cell_type": "markdown",
   "id": "feddc775-f37b-48bf-bf0d-0bb2a092f752",
   "metadata": {},
   "source": [
    "## Create Mesh and Section Object"
   ]
  },
  {
   "cell_type": "code",
   "execution_count": null,
   "id": "1a42f7cf-b38b-4aa3-997b-f47de23ffe3a",
   "metadata": {},
   "outputs": [],
   "source": [
    "# 10 mm2 mesh for UB, 500 mm2 mesh for timber\n",
    "geom.create_mesh(mesh_sizes=[10, 500])\n",
    "sec = Section(geometry=geom)\n",
    "sec.plot_mesh()"
   ]
  },
  {
   "cell_type": "markdown",
   "id": "eca1d175-59dd-480b-a8ce-c0ac02ee055e",
   "metadata": {},
   "source": [
    "### Perform Analysis"
   ]
  },
  {
   "cell_type": "code",
   "execution_count": null,
   "id": "aa0589aa-8ccf-4867-b4ac-dd6da7418c14",
   "metadata": {},
   "outputs": [],
   "source": [
    "sec.calculate_geometric_properties()\n",
    "sec.calculate_warping_properties()\n",
    "sec.calculate_plastic_properties()"
   ]
  },
  {
   "cell_type": "markdown",
   "id": "037e33a9-3608-40b2-a7e7-04631da2ae30",
   "metadata": {},
   "source": [
    "### Display Analysis Results"
   ]
  },
  {
   "cell_type": "markdown",
   "id": "96157a5a-124a-4fe6-878b-6e2aa8a03055",
   "metadata": {},
   "source": [
    "We can plot the various centroids found by the analyses."
   ]
  },
  {
   "cell_type": "code",
   "execution_count": null,
   "id": "9e202632-1a69-462c-97da-8906fddf7cea",
   "metadata": {},
   "outputs": [],
   "source": [
    "sec.plot_centroids()"
   ]
  },
  {
   "cell_type": "markdown",
   "id": "d18f1390-6a0f-4bfd-954b-4633925732c9",
   "metadata": {},
   "source": [
    "We can also print all the calculated section properties to the terminal, note that because have conducted a composite analysis, modulus weighted properties are displayed."
   ]
  },
  {
   "cell_type": "code",
   "execution_count": null,
   "id": "f108a283-4e78-4e56-b310-1c32145a40b5",
   "metadata": {},
   "outputs": [],
   "source": [
    "sec.display_results()"
   ]
  },
  {
   "cell_type": "markdown",
   "id": "a0bacbd1-68d5-46aa-ad39-d92efccdff42",
   "metadata": {},
   "source": [
    "We can also get transformed properties by specifying a reference material."
   ]
  },
  {
   "cell_type": "code",
   "execution_count": null,
   "id": "b987b4a0-52ec-485c-815f-a82bea82f9d6",
   "metadata": {},
   "outputs": [],
   "source": [
    "ixx_timber, _, _ = sec.get_eic(e_ref=timber)\n",
    "ixx_steel, _, _ = sec.get_eic(e_ref=steel)\n",
    "print(f\"Ixx,t = {ixx_timber:.3e} mm4\")\n",
    "print(f\"Ixx,s = {ixx_steel:.3e} mm4\")"
   ]
  },
  {
   "cell_type": "markdown",
   "id": "e74ae445-a3e3-4dd0-8950-53d52fe3d39e",
   "metadata": {},
   "source": [
    "A plastic analysis for composite sections will calculate plastic moments rather than plastic section moduli. The plastic moment assumes all geometry fibres reach the yield strength."
   ]
  },
  {
   "cell_type": "code",
   "execution_count": null,
   "id": "d9b78f74-bf68-439a-9199-d5ab33654a16",
   "metadata": {},
   "outputs": [],
   "source": [
    "mp_xx, _ = sec.get_mp()\n",
    "print(f\"Mp = {mp_xx / 1e6:.1f} kN.m\")"
   ]
  },
  {
   "cell_type": "markdown",
   "id": "de870079-d624-4d9d-878f-5f933de051a0",
   "metadata": {},
   "source": [
    "### Stress Analysis"
   ]
  },
  {
   "cell_type": "code",
   "execution_count": null,
   "id": "288d11a6-0a6f-4dd1-957b-ee72ef71c2d9",
   "metadata": {},
   "outputs": [],
   "source": [
    "stress = sec.calculate_stress(n=-100e3, mxx=-120e6, vy=-75e3)"
   ]
  },
  {
   "cell_type": "code",
   "execution_count": null,
   "id": "e867e5ee-7a0b-4774-9662-df893e6e5aa5",
   "metadata": {},
   "outputs": [],
   "source": [
    "stress.plot_stress(stress=\"m_zz\")"
   ]
  },
  {
   "cell_type": "code",
   "execution_count": null,
   "id": "2d056b21-6208-4b7f-8bb4-4d9983f67981",
   "metadata": {},
   "outputs": [],
   "source": [
    "stress.plot_stress(stress=\"vm\")"
   ]
  },
  {
   "cell_type": "markdown",
   "id": "7586b6c6-0efc-4583-84f9-c5c9acd4a85d",
   "metadata": {},
   "source": [
    "We can plot only a specific list of materials by including the `material_list` argument. In the above plot it is difficult to see the stress in the timber so we set `material_list=[timber]`."
   ]
  },
  {
   "cell_type": "code",
   "execution_count": null,
   "id": "417186a7-9e3a-412b-ac60-8704f04b8400",
   "metadata": {},
   "outputs": [],
   "source": [
    "stress.plot_stress(stress=\"vm\", material_list=[timber])"
   ]
  }
 ],
 "metadata": {
  "kernelspec": {
   "display_name": "Python 3 (ipykernel)",
   "language": "python",
   "name": "python3"
  },
  "language_info": {
   "codemirror_mode": {
    "name": "ipython",
    "version": 3
   },
   "file_extension": ".py",
   "mimetype": "text/x-python",
   "name": "python",
   "nbconvert_exporter": "python",
   "pygments_lexer": "ipython3",
   "version": "3.9.17"
  }
 },
 "nbformat": 4,
 "nbformat_minor": 5
}
