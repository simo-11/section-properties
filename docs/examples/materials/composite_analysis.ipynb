{
 "cells": [
  {
   "cell_type": "markdown",
   "id": "0",
   "metadata": {},
   "source": [
    "# Composite Analysis"
   ]
  },
  {
   "cell_type": "markdown",
   "id": "1",
   "metadata": {},
   "source": [
    "This example highlights how material properties allow composite analysis in `sectionproperties`."
   ]
  },
  {
   "cell_type": "markdown",
   "id": "2",
   "metadata": {},
   "source": [
    "## Geometric vs. Composite\n",
    "\n",
    "The default analysis type in `sectionproperties` is purely geometric, i.e. cross-section properties are reported based on the geometry only. In this analysis, all geometries are assigned the *default material*:"
   ]
  },
  {
   "cell_type": "code",
   "execution_count": null,
   "id": "3",
   "metadata": {},
   "outputs": [],
   "source": [
    "from sectionproperties.analysis import Section\n",
    "from sectionproperties.pre.library import rectangular_section\n",
    "\n",
    "rect_geom = rectangular_section(d=100, b=50)\n",
    "rect_geom.material"
   ]
  },
  {
   "cell_type": "markdown",
   "id": "4",
   "metadata": {},
   "source": [
    "The default material has a unit elastic modulus, yield strength and density, and a Poisson's ratio of zero."
   ]
  },
  {
   "cell_type": "markdown",
   "id": "5",
   "metadata": {},
   "source": [
    "Geometric-only analysis allows geometric properties to be obtained:"
   ]
  },
  {
   "cell_type": "code",
   "execution_count": null,
   "id": "6",
   "metadata": {},
   "outputs": [],
   "source": [
    "rect_geom.create_mesh(mesh_sizes=10)  # create mesh\n",
    "rect_sec = Section(geometry=rect_geom)\n",
    "rect_sec.calculate_geometric_properties()\n",
    "ixx, iyy, ixy = rect_sec.get_ic()  # get second moments of area\n",
    "print(f\"Ixx = {ixx:.5e} mm4\")"
   ]
  },
  {
   "cell_type": "markdown",
   "id": "7",
   "metadata": {},
   "source": [
    "When a material property gets added to a geometry, the analysis becomes *composite*. "
   ]
  },
  {
   "cell_type": "code",
   "execution_count": null,
   "id": "8",
   "metadata": {},
   "outputs": [],
   "source": [
    "from sectionproperties.pre import Material\n",
    "\n",
    "# assign steel to the geometry\n",
    "steel = Material(\n",
    "    name=\"Steel\",\n",
    "    elastic_modulus=200e3,\n",
    "    poissons_ratio=0.3,\n",
    "    density=7.85e-6,\n",
    "    yield_strength=500,\n",
    "    color=\"grey\",\n",
    ")\n",
    "rect_geom.material = steel\n",
    "\n",
    "# recreate mesh and section\n",
    "rect_geom.create_mesh(mesh_sizes=10)\n",
    "rect_sec = Section(geometry=rect_geom)\n",
    "rect_sec.calculate_geometric_properties()"
   ]
  },
  {
   "cell_type": "markdown",
   "id": "9",
   "metadata": {},
   "source": [
    "Cross-section properties are now modulus weighted as the assumption is that there are multiple regions with multiple different material properties. We can no longer obtain geometric-only properties:"
   ]
  },
  {
   "cell_type": "code",
   "execution_count": null,
   "id": "10",
   "metadata": {
    "editable": true,
    "slideshow": {
     "slide_type": ""
    },
    "tags": [
     "raises-exception"
    ]
   },
   "outputs": [],
   "source": [
    "ixx, iyy, ixy = rect_sec.get_ic()  # get second moments of area"
   ]
  },
  {
   "cell_type": "markdown",
   "id": "11",
   "metadata": {
    "editable": true,
    "slideshow": {
     "slide_type": ""
    },
    "tags": []
   },
   "source": [
    "In this case, we need to get the modulus weighted second moments of area. Note we can still extract geometric properties by using a reference elastic modulus."
   ]
  },
  {
   "cell_type": "code",
   "execution_count": null,
   "id": "12",
   "metadata": {},
   "outputs": [],
   "source": [
    "# get modulus weighted second moments of area\n",
    "eixx, eiyy, eixy = rect_sec.get_eic()\n",
    "print(f\"E.Ixx = {eixx:.5e} N.mm2\")\n",
    "\n",
    "# use reference elastic modulus to get transformed properties\n",
    "ixx, iyy, ixy = rect_sec.get_eic(e_ref=steel)\n",
    "print(f\"Ixx = {ixx:.5e} mm4\")"
   ]
  },
  {
   "cell_type": "markdown",
   "id": "13",
   "metadata": {},
   "source": [
    "## Steel-Timber Composite Section\n",
    "\n",
    "The following section models a composite timber floor and steel beam section. A universal steel beam (310UB40.4) is modelled with a 100D x 600W timber panel placed on its top flange."
   ]
  },
  {
   "cell_type": "markdown",
   "id": "14",
   "metadata": {},
   "source": [
    "### Create the Materials"
   ]
  },
  {
   "cell_type": "code",
   "execution_count": null,
   "id": "15",
   "metadata": {},
   "outputs": [],
   "source": [
    "# create the steel material\n",
    "steel = Material(\n",
    "    name=\"Steel\",\n",
    "    elastic_modulus=200e3,\n",
    "    poissons_ratio=0.3,\n",
    "    density=7.85e-6,\n",
    "    yield_strength=500,\n",
    "    color=\"grey\",\n",
    ")\n",
    "\n",
    "# create the timber material\n",
    "timber = Material(\n",
    "    name=\"Timber\",\n",
    "    elastic_modulus=8e3,\n",
    "    poissons_ratio=0.35,\n",
    "    yield_strength=20,\n",
    "    density=0.78e-6,\n",
    "    color=\"burlywood\",\n",
    ")"
   ]
  },
  {
   "cell_type": "markdown",
   "id": "16",
   "metadata": {},
   "source": [
    "### Create the Geometry"
   ]
  },
  {
   "cell_type": "code",
   "execution_count": null,
   "id": "17",
   "metadata": {},
   "outputs": [],
   "source": [
    "from sectionproperties.pre.library import i_section\n",
    "\n",
    "# universal steel beam\n",
    "ub = i_section(d=304, b=165, t_f=10.2, t_w=6.1, r=11.4, n_r=8, material=steel)\n",
    "\n",
    "# timber floor panel\n",
    "panel = rectangular_section(d=100, b=600, material=timber)\n",
    "panel = panel.align_center(align_to=ub).align_to(other=ub, on=\"top\")\n",
    "\n",
    "# combine geometry\n",
    "geom = ub + panel"
   ]
  },
  {
   "cell_type": "markdown",
   "id": "18",
   "metadata": {},
   "source": [
    "## Create Mesh and Section Object"
   ]
  },
  {
   "cell_type": "code",
   "execution_count": null,
   "id": "19",
   "metadata": {},
   "outputs": [],
   "source": [
    "# 10 mm2 mesh for UB, 500 mm2 mesh for timber\n",
    "geom.create_mesh(mesh_sizes=[10, 500])\n",
    "sec = Section(geometry=geom)\n",
    "sec.plot_mesh()"
   ]
  },
  {
   "cell_type": "markdown",
   "id": "20",
   "metadata": {},
   "source": [
    "### Perform Analysis"
   ]
  },
  {
   "cell_type": "code",
   "execution_count": null,
   "id": "21",
   "metadata": {},
   "outputs": [],
   "source": [
    "sec.calculate_geometric_properties()\n",
    "sec.calculate_warping_properties()\n",
    "sec.calculate_plastic_properties()"
   ]
  },
  {
   "cell_type": "markdown",
   "id": "22",
   "metadata": {},
   "source": [
    "### Display Analysis Results"
   ]
  },
  {
   "cell_type": "markdown",
   "id": "23",
   "metadata": {},
   "source": [
    "We can plot the various centroids found by the analyses."
   ]
  },
  {
   "cell_type": "code",
   "execution_count": null,
   "id": "24",
   "metadata": {},
   "outputs": [],
   "source": [
    "sec.plot_centroids()"
   ]
  },
  {
   "cell_type": "markdown",
   "id": "25",
   "metadata": {},
   "source": [
    "We can also print all the calculated section properties to the terminal, note that because have conducted a composite analysis, modulus weighted properties are displayed."
   ]
  },
  {
   "cell_type": "code",
   "execution_count": null,
   "id": "26",
   "metadata": {},
   "outputs": [],
   "source": [
    "sec.display_results()"
   ]
  },
  {
   "cell_type": "markdown",
   "id": "27",
   "metadata": {},
   "source": [
    "We can also get transformed properties by specifying a reference material."
   ]
  },
  {
   "cell_type": "code",
   "execution_count": null,
   "id": "28",
   "metadata": {},
   "outputs": [],
   "source": [
    "ixx_timber, _, _ = sec.get_eic(e_ref=timber)\n",
    "ixx_steel, _, _ = sec.get_eic(e_ref=steel)\n",
    "print(f\"Ixx,t = {ixx_timber:.3e} mm4\")\n",
    "print(f\"Ixx,s = {ixx_steel:.3e} mm4\")"
   ]
  },
  {
   "cell_type": "markdown",
   "id": "29",
   "metadata": {},
   "source": [
    "A plastic analysis for composite sections will calculate plastic moments rather than plastic section moduli. The plastic moment assumes all geometry fibres reach the yield strength."
   ]
  },
  {
   "cell_type": "code",
   "execution_count": null,
   "id": "30",
   "metadata": {},
   "outputs": [],
   "source": [
    "mp_xx, _ = sec.get_mp()\n",
    "print(f\"Mp = {mp_xx / 1e6:.1f} kN.m\")"
   ]
  },
  {
   "cell_type": "markdown",
   "id": "31",
   "metadata": {},
   "source": [
    "### Stress Analysis"
   ]
  },
  {
   "cell_type": "code",
   "execution_count": null,
   "id": "32",
   "metadata": {},
   "outputs": [],
   "source": [
    "stress = sec.calculate_stress(n=-100e3, mxx=-120e6, vy=-75e3)"
   ]
  },
  {
   "cell_type": "code",
   "execution_count": null,
   "id": "33",
   "metadata": {},
   "outputs": [],
   "source": [
    "stress.plot_stress(stress=\"m_zz\")"
   ]
  },
  {
   "cell_type": "code",
   "execution_count": null,
   "id": "34",
   "metadata": {},
   "outputs": [],
   "source": [
    "stress.plot_stress(stress=\"vm\")"
   ]
  },
  {
   "cell_type": "markdown",
   "id": "35",
   "metadata": {},
   "source": [
    "We can plot only a specific list of materials by including the `material_list` argument. In the above plot it is difficult to see the stress in the timber so we set `material_list=[timber]`."
   ]
  },
  {
   "cell_type": "code",
   "execution_count": null,
   "id": "36",
   "metadata": {},
   "outputs": [],
   "source": [
    "stress.plot_stress(stress=\"vm\", material_list=[timber])"
   ]
  }
 ],
 "metadata": {
  "kernelspec": {
   "display_name": "Python 3 (ipykernel)",
   "language": "python",
   "name": "python3"
  },
  "language_info": {
   "codemirror_mode": {
    "name": "ipython",
    "version": 3
   },
   "file_extension": ".py",
   "mimetype": "text/x-python",
   "name": "python",
   "nbconvert_exporter": "python",
   "pygments_lexer": "ipython3",
   "version": "3.9.17"
  }
 },
 "nbformat": 4,
 "nbformat_minor": 5
}
