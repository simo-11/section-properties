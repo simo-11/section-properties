{
 "cells": [
  {
   "cell_type": "markdown",
   "id": "0",
   "metadata": {},
   "source": [
    "# Peery - Beams in Complex Bending\n",
    "\n",
    "This example calculates the section properties of two different beams given in examples from 'Aircraft Structures', by Peery. These cases have known results, and the output from ``sectionproperties`` can be compared for accuracy. These examples represent a more rigourous *proof* against a *real* problem. Only results that have values in the reference material are tested here.\n",
    "\n",
    "BibTeX entry for reference:\n",
    "\n",
    "```\n",
    "@Book{Peery,\n",
    "    title = {Aircraft Structures},\n",
    "    author = {David J. Peery},\n",
    "    organization = {Pensylvania State University},\n",
    "    publisher = {McGraw-Hill Book Company},\n",
    "    year = {1950},\n",
    "    edition = {First},\n",
    "    ISBN = {978-0486485805}\n",
    "}\n",
    "```"
   ]
  },
  {
   "cell_type": "markdown",
   "id": "1",
   "metadata": {},
   "source": [
    "We start by importing the modules required for this example."
   ]
  },
  {
   "cell_type": "code",
   "execution_count": null,
   "id": "2",
   "metadata": {},
   "outputs": [],
   "source": [
    "from sectionproperties.analysis import Section\n",
    "from sectionproperties.pre.library import nastran_sections"
   ]
  },
  {
   "cell_type": "markdown",
   "id": "3",
   "metadata": {},
   "source": [
    "## Example 1 - Section 6.2: Symmetric Bending\n",
    "\n",
    "This is a symmetric I-section with no lateral supports, undergoing pure uni-directional cantilever bending. Note that the units here are **inches**, to match the text.\n",
    "\n",
    "We'll use a very coarse mesh to highlight the mesh-independent nature of geometric analyses."
   ]
  },
  {
   "cell_type": "code",
   "execution_count": null,
   "id": "4",
   "metadata": {},
   "outputs": [],
   "source": [
    "geom = nastran_sections.nastran_i(dim_1=6, dim_2=3, dim_3=3, dim_4=1, dim_5=1, dim_6=1)\n",
    "geom = geom.shift_section(y_offset=-3)\n",
    "geom.create_mesh(mesh_sizes=0.25)\n",
    "sec = Section(geometry=geom)\n",
    "sec.plot_mesh(materials=False)"
   ]
  },
  {
   "cell_type": "markdown",
   "id": "5",
   "metadata": {},
   "source": [
    "Perform a geometric analysis on the section, and plot the centroids. We don't need warping analysis for these simple checks as we only require bending stresses."
   ]
  },
  {
   "cell_type": "code",
   "execution_count": null,
   "id": "6",
   "metadata": {},
   "outputs": [],
   "source": [
    "sec.calculate_geometric_properties()\n",
    "sec.plot_centroids()"
   ]
  },
  {
   "cell_type": "markdown",
   "id": "7",
   "metadata": {},
   "source": [
    "Directly from the example, we know that the second moment of inertia resisting the bending is 43.3 in$^4$."
   ]
  },
  {
   "cell_type": "code",
   "execution_count": null,
   "id": "8",
   "metadata": {},
   "outputs": [],
   "source": [
    "print(f\"Ix = {sec.section_props.ixx_g:.2f} in4\")"
   ]
  },
  {
   "cell_type": "markdown",
   "id": "9",
   "metadata": {},
   "source": [
    "This result directly matches the reference.\n",
    "\n",
    "In the example, the maximum bending moment on the beam is 80,000 in-lbs. We can apply this moment to the section, and evaluate stress."
   ]
  },
  {
   "cell_type": "code",
   "execution_count": null,
   "id": "10",
   "metadata": {},
   "outputs": [],
   "source": [
    "stress = sec.calculate_stress(mxx=8e5)"
   ]
  },
  {
   "cell_type": "markdown",
   "id": "11",
   "metadata": {},
   "source": [
    "Next we can extract the maximum stress from the section. Let's go ahead and look at the calculated stress plot. Refer to the stress example for details."
   ]
  },
  {
   "cell_type": "code",
   "execution_count": null,
   "id": "12",
   "metadata": {},
   "outputs": [],
   "source": [
    "numerical_result = max(stress.get_stress()[0][\"sig_zz\"])\n",
    "print(f\"Numerical Result = {numerical_result:.1f} psi\")\n",
    "stress.plot_stress(stress=\"zz\")"
   ]
  },
  {
   "cell_type": "markdown",
   "id": "13",
   "metadata": {},
   "source": [
    "The reference reports the maximum stress as 55,427.3 psi, whereas the numerical result in reported as 55,384.6 psi. This discrepancy is due to the rounding of the second moment of inertia used in the reference."
   ]
  },
  {
   "cell_type": "code",
   "execution_count": null,
   "id": "14",
   "metadata": {},
   "outputs": [],
   "source": [
    "stress_ref = 8e5 * 3 / 43.3\n",
    "stress_theory = 8e5 * 3 / (43 + 1 / 3)\n",
    "print(stress_ref)\n",
    "print(stress_theory)"
   ]
  },
  {
   "cell_type": "markdown",
   "id": "15",
   "metadata": {},
   "source": [
    "This example is admittedly more simple, but it's still a nice check for the basics on validity of the package."
   ]
  },
  {
   "cell_type": "markdown",
   "id": "16",
   "metadata": {},
   "source": [
    "## Example 1 - Section 7.2: Unsymmetric Bending\n",
    "\n",
    "Moving on to something a bit more advanced... This is an unsymmetric Z-section with no lateral supports. Note that units here are **inches**, to match the text."
   ]
  },
  {
   "cell_type": "code",
   "execution_count": null,
   "id": "17",
   "metadata": {},
   "outputs": [],
   "source": [
    "geom = nastran_sections.nastran_zed(dim_1=4, dim_2=2, dim_3=8, dim_4=12)\n",
    "geom = geom.shift_section(x_offset=-5, y_offset=-6)\n",
    "geom = geom.create_mesh(mesh_sizes=0.25)\n",
    "sec = Section(geometry=geom)"
   ]
  },
  {
   "cell_type": "code",
   "execution_count": null,
   "id": "18",
   "metadata": {},
   "outputs": [],
   "source": [
    "sec.calculate_geometric_properties()\n",
    "sec.plot_centroids()"
   ]
  },
  {
   "cell_type": "markdown",
   "id": "19",
   "metadata": {},
   "source": [
    "Checking each property against the reference text:"
   ]
  },
  {
   "cell_type": "code",
   "execution_count": null,
   "id": "20",
   "metadata": {},
   "outputs": [],
   "source": [
    "props = sec.section_props\n",
    "print(\"    Property | Theoretical | Numerical\")\n",
    "print(f\"    ixx_g    | {693.3:<12.1f}| {props.ixx_g:<.1f}\")\n",
    "print(f\"    iyy_g    | {173.3:<12.1f}| {props.iyy_g:<.1f}\")\n",
    "print(f\"    ixy_g    | {-240:<12.1f}| {props.ixy_g:<.1f}\")\n",
    "print(f\"    i11_c    | {787:<12.1f}| {props.i11_c:<.1f}\")\n",
    "print(f\"    i22_c    | {79.5:<12.1f}| {props.i22_c:<.1f}\")"
   ]
  },
  {
   "cell_type": "markdown",
   "id": "21",
   "metadata": {},
   "source": [
    "The section properties look sufficiently accurate, so we can move on to some stress analysis.\n",
    "\n",
    "The load applied in the reference is -100,000 in-lbs about the x-axis, and 10,000 in-lbs about the y-axis.\n",
    "\n",
    "To obtain stresses at specific points, we can use the [get_stress_at_points()](../../gen/sectionproperties.analysis.section.Section.rst#sectionproperties.analysis.section.Section.get_stress_at_points) method."
   ]
  },
  {
   "cell_type": "markdown",
   "id": "22",
   "metadata": {},
   "source": [
    "Check stresses at locations A, B and C (see [validation](../../user_guide/validation.rst) for more details)."
   ]
  },
  {
   "cell_type": "code",
   "execution_count": null,
   "id": "23",
   "metadata": {},
   "outputs": [],
   "source": [
    "pt_a = (-5, 4)\n",
    "pt_b = (-5, 6)\n",
    "pt_c = (1, 6)\n",
    "\n",
    "stresses = sec.get_stress_at_points(pts=[pt_a, pt_b, pt_c], mxx=-1e5, myy=1e4)"
   ]
  },
  {
   "cell_type": "markdown",
   "id": "24",
   "metadata": {},
   "source": [
    "### Point A"
   ]
  },
  {
   "cell_type": "code",
   "execution_count": null,
   "id": "25",
   "metadata": {},
   "outputs": [],
   "source": [
    "text_result_a = 1210\n",
    "numerical_result_a = stresses[0]\n",
    "print(f\"Text Result (A) = {text_result_a:.2f} psi\")\n",
    "print(f\"Numerical Result (A) = {numerical_result_a[0]:.2f} psi\")"
   ]
  },
  {
   "cell_type": "markdown",
   "id": "26",
   "metadata": {},
   "source": [
    "### Point B"
   ]
  },
  {
   "cell_type": "code",
   "execution_count": null,
   "id": "27",
   "metadata": {},
   "outputs": [],
   "source": [
    "text_result_b = 580\n",
    "numerical_result_b = stresses[1]\n",
    "print(f\"Text Result (B) = {text_result_b:.2f} psi\")\n",
    "print(f\"Numerical Result (B) = {numerical_result_b[0]:.2f} psi\")"
   ]
  },
  {
   "cell_type": "markdown",
   "id": "28",
   "metadata": {},
   "source": [
    "### Point C"
   ]
  },
  {
   "cell_type": "code",
   "execution_count": null,
   "id": "29",
   "metadata": {},
   "outputs": [],
   "source": [
    "text_result_c = -2384\n",
    "numerical_result_c = stresses[2]\n",
    "print(f\"Text Result (C) = {text_result_c:.2f} psi\")\n",
    "print(f\"Numerical Result (C) = {numerical_result_c[0]:.2f} psi\")"
   ]
  },
  {
   "cell_type": "markdown",
   "id": "30",
   "metadata": {},
   "source": [
    "### Stress Plot\n",
    "\n",
    "Looking at total axial stress over the section."
   ]
  },
  {
   "cell_type": "code",
   "execution_count": null,
   "id": "31",
   "metadata": {},
   "outputs": [],
   "source": [
    "stress = sec.calculate_stress(mxx=-1e5, myy=1e4)\n",
    "stress.plot_stress(stress=\"zz\")"
   ]
  }
 ],
 "metadata": {
  "kernelspec": {
   "display_name": "Python 3 (ipykernel)",
   "language": "python",
   "name": "python3"
  },
  "language_info": {
   "codemirror_mode": {
    "name": "ipython",
    "version": 3
   },
   "file_extension": ".py",
   "mimetype": "text/x-python",
   "name": "python",
   "nbconvert_exporter": "python",
   "pygments_lexer": "ipython3",
   "version": "3.9.17"
  }
 },
 "nbformat": 4,
 "nbformat_minor": 5
}
