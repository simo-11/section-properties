{
 "cells": [
  {
   "cell_type": "markdown",
   "id": "2fae7a3b-596c-4ab6-b995-84ac7af29473",
   "metadata": {},
   "source": [
    "# Pilkey - Symmetric Channel Section"
   ]
  },
  {
   "cell_type": "markdown",
   "id": "a88b17f8-973d-426d-a785-7a4b9c9ae3ed",
   "metadata": {},
   "source": [
    "This example re-creates the numerical example \"B.2 Symmetric Channel Section\" on page 437 of \"Analysis and Design of Elastic Beams\" by Walter D. Pilkey.\n",
    "\n",
    "BibTeX reference:\n",
    "\n",
    "```\n",
    "@book{Pilkey,\n",
    "    author = {Pilkey, Walter D},\n",
    "    booktitle = {Analysis and Design of Elastic Beams},\n",
    "    edition = {First},\n",
    "    isbn = {0471381527},\n",
    "    language = {eng},\n",
    "    publisher = {Wiley},\n",
    "    title = {Analysis and Design of Elastic Beams: Computational Methods},\n",
    "    year = {2002},\n",
    "}\n",
    "```"
   ]
  },
  {
   "cell_type": "markdown",
   "id": "e28ae9d8-42ed-4ff4-b245-398154099957",
   "metadata": {},
   "source": [
    "## Problem Description\n",
    "\n",
    "A symmetric open-channel section is analysed, with `t=1`, `h=18` and `b=8`, see the figure below. The material properties of the section are taken to be `E=210000000` and `nu=0.33333`. Note that the elastic modulus plays no role in this analysis as the geometry is homogenous, however its value is included for completeness. Also note that the value for `E` used by Pilkey is in `kPa` (steel), whereas the problem is defined in `inches` - this mixing of units is not an issue due to the elastic modulus not affecting the geometric results.\n",
    "\n",
    "Note that `sectionproperties` uses an `x-y` coordinate system rather than the `y-z` system used by Pilkey."
   ]
  },
  {
   "cell_type": "code",
   "execution_count": null,
   "id": "12fca43c-ffa3-41a5-9e31-84301850b25e",
   "metadata": {
    "editable": true,
    "slideshow": {
     "slide_type": ""
    },
    "tags": [
     "nbsphinx-thumbnail"
    ]
   },
   "outputs": [],
   "source": [
    "from IPython.display import Image\n",
    "\n",
    "\n",
    "display(Image(filename=\"images/channel-geom.png\"))"
   ]
  },
  {
   "cell_type": "markdown",
   "id": "a0741f32-820f-41d8-ab53-011447bbce51",
   "metadata": {},
   "source": [
    "We can model the above geometry by generating a `shapely` `Polygon` from a list of points, then passing this `Polygon` to the `sectionproperties` `Geometry` object."
   ]
  },
  {
   "cell_type": "code",
   "execution_count": null,
   "id": "8108c443-332f-4462-a61e-cf81708b67ea",
   "metadata": {},
   "outputs": [],
   "source": [
    "from shapely import Polygon\n",
    "\n",
    "from sectionproperties.pre import Geometry, Material\n",
    "\n",
    "\n",
    "t = 1  # channel thickness\n",
    "h = 18  # distance between centreline of channel flanges\n",
    "b = 8  # distance from edge of flange to centreline of web\n",
    "# steel material\n",
    "mat = Material(\n",
    "    name=\"Steel\",\n",
    "    elastic_modulus=2.1e8,\n",
    "    poissons_ratio=0.33333,\n",
    "    yield_strength=1.0,\n",
    "    density=1.0,\n",
    "    color=\"lightgrey\",\n",
    ")\n",
    "\n",
    "# define list of points, starting from lower left hand corner\n",
    "points = [\n",
    "    (-0.5 * t, -0.5 * h - 0.5 * t),\n",
    "    (b, -0.5 * h - 0.5 * t),\n",
    "    (b, -0.5 * h + 0.5 * t),\n",
    "    (0.5 * t, -0.5 * h + 0.5 * t),\n",
    "    (0.5 * t, 0.5 * h - 0.5 * t),\n",
    "    (b, 0.5 * h - 0.5 * t),\n",
    "    (b, 0.5 * h + 0.5 * t),\n",
    "    (-0.5 * t, 0.5 * h + 0.5 * t),\n",
    "]\n",
    "\n",
    "# create shapely Polygon object\n",
    "poly = Polygon(shell=points)\n",
    "\n",
    "# create sectionproperties Geometry object\n",
    "geom = Geometry(geom=poly, material=mat)\n",
    "\n",
    "# plot geometry\n",
    "geom.plot_geometry()"
   ]
  },
  {
   "cell_type": "markdown",
   "id": "a75e1fbd-f467-48c1-88db-ec8b49d0372c",
   "metadata": {},
   "source": [
    "## Create mesh and `Section` object\n",
    "\n",
    "The numerical analysis by Pilkey uses 9-noded quadraliteral elements. The mesh used by Pilkey for this problem can be seen below."
   ]
  },
  {
   "cell_type": "code",
   "execution_count": null,
   "id": "f0f26986-c321-4e09-86a4-15040328c4fe",
   "metadata": {},
   "outputs": [],
   "source": [
    "display(Image(filename=\"images/channel-mesh.png\"))"
   ]
  },
  {
   "cell_type": "markdown",
   "id": "7eedd39f-079a-4a1b-a91e-22466f633b5d",
   "metadata": {},
   "source": [
    "We can create a mesh in `sectionproperties` using 6-noded triangular elements by defining a maximum triangular element area. In this case we choose `mesh_sizes=0.1` and create the resulting `Section` object."
   ]
  },
  {
   "cell_type": "code",
   "execution_count": null,
   "id": "cbe186e3-562b-4090-a8b3-aea3c3afff53",
   "metadata": {},
   "outputs": [],
   "source": [
    "from sectionproperties.analysis import Section\n",
    "\n",
    "\n",
    "geom.create_mesh(mesh_sizes=0.1)\n",
    "sec = Section(geometry=geom)\n",
    "sec.plot_mesh()"
   ]
  },
  {
   "cell_type": "markdown",
   "id": "428cb570-038e-4d6d-abcb-41f02f9c3498",
   "metadata": {},
   "source": [
    "## Calculate Cross-Section Properties\n",
    "\n",
    "Pilkey reports both geometric and warping properties, as such we conduct both analyses."
   ]
  },
  {
   "cell_type": "code",
   "execution_count": null,
   "id": "61515204-9eb6-4446-9327-1a36c6906c04",
   "metadata": {},
   "outputs": [],
   "source": [
    "sec.calculate_geometric_properties()\n",
    "sec.calculate_warping_properties()"
   ]
  },
  {
   "cell_type": "markdown",
   "id": "e5b34420-5e20-476c-b516-34ade4bc946c",
   "metadata": {},
   "source": [
    "## Comparison of Results\n",
    "\n",
    "The numerical results obtained by Pilkey is listed in the dictionary below."
   ]
  },
  {
   "cell_type": "code",
   "execution_count": null,
   "id": "a93627cd-f83d-4478-b4a2-f9295d46f78e",
   "metadata": {},
   "outputs": [],
   "source": [
    "pilkey = {\n",
    "    \"area\": 34.0,\n",
    "    \"qx\": 0.0,\n",
    "    \"qy\": 63.75,\n",
    "    \"cx\": 1.875,\n",
    "    \"cy\": 0.0,\n",
    "    \"x_sc\": -2.86769,\n",
    "    \"y_sc\": 0.0,\n",
    "    \"x_sct\": -2.86759,\n",
    "    \"y_sct\": 0.0,\n",
    "    \"ixx_g\": 1787.83333,  # N.B text erroneously printed 1781\n",
    "    \"iyy_g\": 342.83333,\n",
    "    \"ixy_g\": 0.0,\n",
    "    \"ixx_c\": 1787.83333,\n",
    "    \"iyy_c\": 223.30208,\n",
    "    \"ixy_c\": 0.0,\n",
    "    \"zxx\": 188.19298,\n",
    "    \"zyy\": 36.45748,\n",
    "    \"rx\": 7.25144,\n",
    "    \"ry\": 2.56275,\n",
    "    \"phi\": 0.0,\n",
    "    \"alpha_x\": 3.40789,\n",
    "    \"alpha_y\": 2.15337,\n",
    "    \"alpha_xy\": 0.0,\n",
    "    \"j\": 11.28862,\n",
    "    \"gamma\": 12763.15184,\n",
    "}"
   ]
  },
  {
   "cell_type": "markdown",
   "id": "ede99bdc-0f13-4bff-aa46-28299c628c69",
   "metadata": {},
   "source": [
    "Most of these results can be directly obtained from `sectionproperties`, the only properties that require calculation are the shear coefficients, `alpha`. The shear coefficient can be obtained from the shear area as follows:\n",
    "\n",
    "$\\alpha = \\frac{A}{A_s}$\n",
    "\n",
    "where $A$ is the cross-section area and $A_s$ is the shear area.\n",
    "\n",
    "We create a similar dictionary for the `sectionproperties` results."
   ]
  },
  {
   "cell_type": "code",
   "execution_count": null,
   "id": "23efface-6be5-4f35-bb75-f2e5b0698753",
   "metadata": {},
   "outputs": [],
   "source": [
    "sectionproperties = {\n",
    "    \"area\": sec.get_area(),\n",
    "    \"qx\": sec.get_eq(e_ref=mat)[0],\n",
    "    \"qy\": sec.get_eq(e_ref=mat)[1],\n",
    "    \"cx\": sec.get_c()[0],\n",
    "    \"cy\": sec.get_c()[1],\n",
    "    \"x_sc\": sec.get_sc()[0],\n",
    "    \"y_sc\": sec.get_sc()[1],\n",
    "    \"x_sct\": sec.get_sc_t()[0],\n",
    "    \"y_sct\": sec.get_sc_t()[1],\n",
    "    \"ixx_g\": sec.get_eig(e_ref=mat)[0],\n",
    "    \"iyy_g\": sec.get_eig(e_ref=mat)[1],\n",
    "    \"ixy_g\": sec.get_eig(e_ref=mat)[2],\n",
    "    \"ixx_c\": sec.get_eic(e_ref=mat)[0],\n",
    "    \"iyy_c\": sec.get_eic(e_ref=mat)[1],\n",
    "    \"ixy_c\": sec.get_eic(e_ref=mat)[2],\n",
    "    \"zxx\": min(sec.get_ez(e_ref=mat)[:2]),\n",
    "    \"zyy\": min(sec.get_ez(e_ref=mat)[2:]),\n",
    "    \"rx\": sec.get_rc()[0],\n",
    "    \"ry\": sec.get_rc()[1],\n",
    "    \"phi\": sec.get_phi(),\n",
    "    \"alpha_x\": sec.get_area() / sec.get_eas(e_ref=mat)[0],\n",
    "    \"alpha_y\": sec.get_area() / sec.get_eas(e_ref=mat)[1],\n",
    "    \"alpha_xy\": sec.get_area() / sec.section_props.a_sxy,\n",
    "    \"j\": sec.get_ej(e_ref=mat),\n",
    "    \"gamma\": sec.get_egamma(e_ref=mat),\n",
    "}"
   ]
  },
  {
   "cell_type": "markdown",
   "id": "9d7d4c43-bf1a-4d1a-a303-3fa7dd044ec6",
   "metadata": {},
   "source": [
    "The comparison of results is summarised in the table below. Relative error is reported in all cases, except where a value is zero, in which the absolute error is reported."
   ]
  },
  {
   "cell_type": "code",
   "execution_count": null,
   "id": "0ba4d079-4f4d-49cc-b0bf-c6e309673995",
   "metadata": {},
   "outputs": [],
   "source": [
    "from rich.console import Console\n",
    "from rich.table import Table\n",
    "from rich.text import Text\n",
    "\n",
    "\n",
    "# setup table\n",
    "table = Table(title=\"Comparison of Results\")\n",
    "table.add_column(\"Property\", justify=\"left\", style=\"cyan\", no_wrap=True)\n",
    "table.add_column(Text(\"Pilkey\", justify=\"center\"), justify=\"right\", style=\"green\")\n",
    "table.add_column(Text(\"sectionproperties\", style=\"i\"), justify=\"right\", style=\"green\")\n",
    "table.add_column(Text(\"Error\", justify=\"center\"), justify=\"right\", style=\"green\")\n",
    "\n",
    "# create a row for each property\n",
    "for key in pilkey:\n",
    "    # get results\n",
    "    p_res = pilkey[key]\n",
    "    sp_res = sectionproperties[key]\n",
    "\n",
    "    # calculate relative error\n",
    "    if p_res != 0:\n",
    "        rel_error = (sp_res - p_res) / p_res\n",
    "    else:\n",
    "        rel_error = sp_res\n",
    "\n",
    "    # print row\n",
    "    table.add_row(key, f\"{p_res:.4e}\", f\"{sp_res:.4e}\", f\"{rel_error:.2e}\")\n",
    "\n",
    "console = Console()\n",
    "console.print(table)"
   ]
  },
  {
   "cell_type": "markdown",
   "id": "7c05c70e-4c5f-468e-8d13-312f41073cd9",
   "metadata": {},
   "source": [
    "All results are within acceptable limits. The torsion constant had the largest relative error, however this value is relatively small and acceptable given the differences in element type and mesh."
   ]
  },
  {
   "cell_type": "code",
   "execution_count": null,
   "id": "78ba4803-f2d1-447d-a3e7-c7f014c2a466",
   "metadata": {},
   "outputs": [],
   "source": [
    "err = (sectionproperties[\"j\"] - pilkey[\"j\"]) / pilkey[\"j\"]\n",
    "print(f\"Torsion Constant Relative Error: {err:.6f}\")"
   ]
  }
 ],
 "metadata": {
  "kernelspec": {
   "display_name": "Python 3 (ipykernel)",
   "language": "python",
   "name": "python3"
  },
  "language_info": {
   "codemirror_mode": {
    "name": "ipython",
    "version": 3
   },
   "file_extension": ".py",
   "mimetype": "text/x-python",
   "name": "python",
   "nbconvert_exporter": "python",
   "pygments_lexer": "ipython3",
   "version": "3.9.17"
  }
 },
 "nbformat": 4,
 "nbformat_minor": 5
}
