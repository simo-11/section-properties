{
 "cells": [
  {
   "cell_type": "markdown",
   "id": "bc194acf-cd49-4b04-b3fd-c42d242ba7d4",
   "metadata": {},
   "source": [
    "# Pilkey - Composite Rectangular Strip"
   ]
  },
  {
   "cell_type": "markdown",
   "id": "e59f45c0-3b82-48cb-90c4-07f679f274a1",
   "metadata": {},
   "source": [
    "This example re-creates the numerical example \"B.8 Composite Rectangular Strip\" on page 454 of \"Analysis and Design of Elastic Beams\" by Walter D. Pilkey. Note that this example is the same as Example 5.13.\n",
    "\n",
    "BibTeX reference:\n",
    "\n",
    "```\n",
    "@book{Pilkey,\n",
    "    author = {Pilkey, Walter D},\n",
    "    booktitle = {Analysis and Design of Elastic Beams},\n",
    "    edition = {First},\n",
    "    isbn = {0471381527},\n",
    "    language = {eng},\n",
    "    publisher = {Wiley},\n",
    "    title = {Analysis and Design of Elastic Beams: Computational Methods},\n",
    "    year = {2002},\n",
    "}\n",
    "```"
   ]
  },
  {
   "cell_type": "markdown",
   "id": "9a67cf6f-f6f6-47c5-9ec1-06cc2748c2c2",
   "metadata": {},
   "source": [
    "## Problem Description\n",
    "\n",
    "A non-homogenous rectangular cross-section of 30 in. x 2 in. is analysed, see the figure below. The left hand side consists of Aluminium, while the right consists of Copper. The material properties are summarised below:\n",
    "\n",
    "**Aluminium**\n",
    "\n",
    "- `E = 10400000`\n",
    "- `nu = 0.3`\n",
    "\n",
    "**Copper**\n",
    "\n",
    "- `E = 18500000`\n",
    "- `nu = 0.3`\n",
    "\n",
    "Note that `sectionproperties` uses an `x-y` coordinate system rather than the `y-z` system used by Pilkey."
   ]
  },
  {
   "cell_type": "code",
   "execution_count": null,
   "id": "22946732-8bc6-4207-a360-fc4163b1ed10",
   "metadata": {
    "editable": true,
    "slideshow": {
     "slide_type": ""
    },
    "tags": [
     "nbsphinx-thumbnail"
    ]
   },
   "outputs": [],
   "source": [
    "from IPython.display import Image\n",
    "\n",
    "\n",
    "display(Image(filename=\"images/comp-geom.png\"))"
   ]
  },
  {
   "cell_type": "markdown",
   "id": "178fc9a5-218e-4648-b919-2c0aa607e61d",
   "metadata": {},
   "source": [
    "We can model the above geometry by creating two rectangles and aligning the right-hand rectangle to the right-side of that on the left."
   ]
  },
  {
   "cell_type": "code",
   "execution_count": null,
   "id": "7325b6b7-6d2e-4c35-90d4-f5b86e537589",
   "metadata": {},
   "outputs": [],
   "source": [
    "from sectionproperties.pre import Material\n",
    "from sectionproperties.pre.library import rectangular_section\n",
    "\n",
    "\n",
    "d = 2  # depth of rectangles\n",
    "b = 15  # width of each rectangle\n",
    "# aluminium material\n",
    "al = Material(\n",
    "    name=\"Aluminium\",\n",
    "    elastic_modulus=10.4e6,\n",
    "    poissons_ratio=0.3,\n",
    "    yield_strength=1.0,\n",
    "    density=1.0,\n",
    "    color=\"lightgrey\",\n",
    ")\n",
    "# aluminium material\n",
    "cu = Material(\n",
    "    name=\"Copper\",\n",
    "    elastic_modulus=18.5e6,\n",
    "    poissons_ratio=0.3,\n",
    "    yield_strength=1.0,\n",
    "    density=1.0,\n",
    "    color=\"gold\",\n",
    ")\n",
    "\n",
    "# create two rectangles and add geometry together\n",
    "geom_al = rectangular_section(d=d, b=b, material=al)\n",
    "geom_cu = rectangular_section(d=d, b=b, material=cu).align_to(other=geom_al, on=\"right\")\n",
    "geom = geom_al + geom_cu\n",
    "\n",
    "# plot geometry\n",
    "geom.plot_geometry()"
   ]
  },
  {
   "cell_type": "markdown",
   "id": "5c48c125-aee6-44a8-9d9e-800170e01c12",
   "metadata": {},
   "source": [
    "## Create mesh and `Section` object\n",
    "\n",
    "The numerical analysis by Pilkey uses 9-noded quadraliteral elements. The mesh used by Pilkey for this problem can be seen below."
   ]
  },
  {
   "cell_type": "code",
   "execution_count": null,
   "id": "9f056228-d22f-4de7-bdf9-28b8627dafc4",
   "metadata": {},
   "outputs": [],
   "source": [
    "display(Image(filename=\"images/comp-mesh.png\"))"
   ]
  },
  {
   "cell_type": "markdown",
   "id": "598357cf-4b2d-459b-8f64-7a1e7697dd58",
   "metadata": {},
   "source": [
    "We can create a mesh in `sectionproperties` using 6-noded triangular elements by defining a maximum triangular element area. In this case we choose `mesh_sizes=0.1` and create the resulting `Section` object."
   ]
  },
  {
   "cell_type": "code",
   "execution_count": null,
   "id": "d4cc7dc7-cd9b-499a-a55c-9f62af29f12e",
   "metadata": {},
   "outputs": [],
   "source": [
    "from sectionproperties.analysis import Section\n",
    "\n",
    "\n",
    "geom.create_mesh(mesh_sizes=0.1)\n",
    "sec = Section(geometry=geom)\n",
    "sec.plot_mesh()"
   ]
  },
  {
   "cell_type": "markdown",
   "id": "4d43d696-572b-4f01-b314-1df19f007f3f",
   "metadata": {},
   "source": [
    "## Calculate Cross-Section Properties\n",
    "\n",
    "Pilkey reports both geometric and warping properties, as such we conduct both analyses."
   ]
  },
  {
   "cell_type": "code",
   "execution_count": null,
   "id": "e5213766-bb59-4eba-afe2-679572768474",
   "metadata": {},
   "outputs": [],
   "source": [
    "sec.calculate_geometric_properties()\n",
    "sec.calculate_warping_properties()"
   ]
  },
  {
   "cell_type": "markdown",
   "id": "672fb185-27dd-479e-9ed0-8f6ef8aef253",
   "metadata": {},
   "source": [
    "## Comparison of Results\n",
    "\n",
    "The numerical results obtained by Pilkey is listed in the dictionary below."
   ]
  },
  {
   "cell_type": "code",
   "execution_count": null,
   "id": "8774448d-4f1b-463b-af4c-5aa6e2c23d8b",
   "metadata": {},
   "outputs": [],
   "source": [
    "pilkey = {\n",
    "    \"area\": 60,\n",
    "    \"ea_ref\": 83.36,\n",
    "    \"j_ref\": 106.22,\n",
    "}"
   ]
  },
  {
   "cell_type": "markdown",
   "id": "80213933-21dd-44be-be7b-cbd69da8671d",
   "metadata": {},
   "source": [
    "Pilkey uses aluminium as the reference material, so we will do the same."
   ]
  },
  {
   "cell_type": "code",
   "execution_count": null,
   "id": "e2d0c437-fa44-4fd5-a7ac-7759f5da0f29",
   "metadata": {},
   "outputs": [],
   "source": [
    "sectionproperties = {\n",
    "    \"area\": sec.get_area(),\n",
    "    \"ea_ref\": sec.get_ea(e_ref=al),\n",
    "    \"j_ref\": sec.get_ej(e_ref=al),\n",
    "}"
   ]
  },
  {
   "cell_type": "markdown",
   "id": "0f8690e2-dad3-48fd-9841-371c0b3c3a03",
   "metadata": {},
   "source": [
    "The comparison of results is summarised in the table below. Relative error is reported in all cases."
   ]
  },
  {
   "cell_type": "code",
   "execution_count": null,
   "id": "a023a0f4-f25c-4bb3-a6bf-a1b3af5eaf40",
   "metadata": {},
   "outputs": [],
   "source": [
    "from rich.console import Console\n",
    "from rich.table import Table\n",
    "from rich.text import Text\n",
    "\n",
    "\n",
    "# setup table\n",
    "table = Table(title=\"Comparison of Results\")\n",
    "table.add_column(\"Property\", justify=\"left\", style=\"cyan\", no_wrap=True)\n",
    "table.add_column(Text(\"Pilkey\", justify=\"center\"), justify=\"right\", style=\"green\")\n",
    "table.add_column(Text(\"sectionproperties\", style=\"i\"), justify=\"right\", style=\"green\")\n",
    "table.add_column(Text(\"Error\", justify=\"center\"), justify=\"right\", style=\"green\")\n",
    "\n",
    "# create a row for each property\n",
    "for key in pilkey:\n",
    "    # get results\n",
    "    p_res = pilkey[key]\n",
    "    sp_res = sectionproperties[key]\n",
    "\n",
    "    # calculate relative error\n",
    "    if p_res != 0:\n",
    "        rel_error = (sp_res - p_res) / p_res\n",
    "    else:\n",
    "        rel_error = sp_res\n",
    "\n",
    "    # print row\n",
    "    table.add_row(key, f\"{p_res:.4e}\", f\"{sp_res:.4e}\", f\"{rel_error:.2e}\")\n",
    "\n",
    "console = Console()\n",
    "console.print(table)"
   ]
  },
  {
   "cell_type": "markdown",
   "id": "4b01cb0a-2d6d-43e2-bc45-355b330b3abb",
   "metadata": {},
   "source": [
    "Pilkey notes that the analytical formula for such a geometry has been derived by Muskhelishvili (1953):"
   ]
  },
  {
   "cell_type": "markdown",
   "id": "66564dd6-fc44-401d-b064-652e62b87b84",
   "metadata": {},
   "source": [
    "$$\n",
    "J = \\frac{1}{3} (L_a + \\mu L_c) t^3 - 3.361 \\frac{t^4}{16} \\frac{1 + {\\mu}^2}{1 + \\mu}\n",
    "$$"
   ]
  },
  {
   "cell_type": "markdown",
   "id": "85277896-1b5c-438a-b6e1-efaea615975c",
   "metadata": {},
   "source": [
    "where:"
   ]
  },
  {
   "cell_type": "markdown",
   "id": "3fe7a962-5291-441d-9282-625cb70b1876",
   "metadata": {},
   "source": [
    "$$\n",
    "\\mu = \\frac{G_c}{G_a} = \\frac{E_c}{E_a} = \\frac{18.5}{10.4}\n",
    "$$"
   ]
  },
  {
   "cell_type": "markdown",
   "id": "fe72b24b-0f8a-4223-8af1-acb3b2c7f8d2",
   "metadata": {},
   "source": [
    "This expression evaluates to $J=106.12$ in$^4$, which aligns closer to the result from `sectionproperties` than that obtained by Pilkey."
   ]
  },
  {
   "cell_type": "code",
   "execution_count": null,
   "id": "f1076528-8dd7-4263-bb67-9b9bb589830c",
   "metadata": {},
   "outputs": [],
   "source": [
    "mu = 18.5 / 10.4\n",
    "j_an = 1 / 3 * (b + mu * b) * d**3 - 3.361 * (d**4) / (16) * (1 + mu**2) / (\n",
    "    1 + mu\n",
    ")\n",
    "print(f\"J_an = {j_an:.4f} mm4\")\n",
    "print(f\"J_sp = {sectionproperties['j_ref']:.4f} mm4\")\n",
    "print(f\"J_pi = {pilkey['j_ref']:.4f} mm4\")"
   ]
  }
 ],
 "metadata": {
  "kernelspec": {
   "display_name": "Python 3 (ipykernel)",
   "language": "python",
   "name": "python3"
  },
  "language_info": {
   "codemirror_mode": {
    "name": "ipython",
    "version": 3
   },
   "file_extension": ".py",
   "mimetype": "text/x-python",
   "name": "python",
   "nbconvert_exporter": "python",
   "pygments_lexer": "ipython3",
   "version": "3.9.17"
  }
 },
 "nbformat": 4,
 "nbformat_minor": 5
}
