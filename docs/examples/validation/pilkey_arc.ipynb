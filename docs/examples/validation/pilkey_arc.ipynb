{
 "cells": [
  {
   "cell_type": "markdown",
   "id": "0",
   "metadata": {},
   "source": [
    "# Pilkey - Circular Arc"
   ]
  },
  {
   "cell_type": "markdown",
   "id": "1",
   "metadata": {},
   "source": [
    "This example re-creates the numerical example \"B.7 Circular Arc\" on page 451 of \"Analysis and Design of Elastic Beams\" by Walter D. Pilkey.\n",
    "\n",
    "BibTeX reference:\n",
    "\n",
    "```\n",
    "@book{Pilkey,\n",
    "    author = {Pilkey, Walter D},\n",
    "    booktitle = {Analysis and Design of Elastic Beams},\n",
    "    edition = {First},\n",
    "    isbn = {0471381527},\n",
    "    language = {eng},\n",
    "    publisher = {Wiley},\n",
    "    title = {Analysis and Design of Elastic Beams: Computational Methods},\n",
    "    year = {2002},\n",
    "}\n",
    "```"
   ]
  },
  {
   "cell_type": "markdown",
   "id": "2",
   "metadata": {},
   "source": [
    "## Problem Description\n",
    "\n",
    "A circular arc of 120$^{\\circ}$ and radius of 16 in. is analysed, see the figure below. The material properties of the section are taken to be `E=210000000` and `nu=0.33333`. Note that the elastic modulus plays no role in this analysis as the geometry is homogenous, however its value is included for completeness. Also note that the value for `E` used by Pilkey is in `kPa` (steel), whereas the problem is defined in `inches` - this mixing of units is not an issue due to the elastic modulus not affecting the geometric results.\n",
    "\n",
    "Note that `sectionproperties` uses an `x-y` coordinate system rather than the `y-z` system used by Pilkey."
   ]
  },
  {
   "cell_type": "code",
   "execution_count": null,
   "id": "3",
   "metadata": {
    "editable": true,
    "slideshow": {
     "slide_type": ""
    },
    "tags": [
     "nbsphinx-thumbnail"
    ]
   },
   "outputs": [],
   "source": [
    "from IPython.display import Image\n",
    "\n",
    "display(Image(filename=\"images/arc-geom.png\"))"
   ]
  },
  {
   "cell_type": "markdown",
   "id": "4",
   "metadata": {},
   "source": [
    "We can model the above geometry by generating a `shapely` `LineString` from a list of points defining the centreline of the above arc. The `LineString` can be buffered (extruded) orthogonal to the line to create a `Polygon` object. This `Polygon` object can then be passed to the `sectionproperties` `Geometry` object."
   ]
  },
  {
   "cell_type": "code",
   "execution_count": null,
   "id": "5",
   "metadata": {},
   "outputs": [],
   "source": [
    "import numpy as np\n",
    "from shapely import LineString, buffer\n",
    "\n",
    "from sectionproperties.pre import Geometry, Material\n",
    "\n",
    "r = 16  # radius\n",
    "t = 0.5  # thickness\n",
    "alpha = 2 * np.pi / 3  # arc angle\n",
    "n = 128  # number of points definining LineString\n",
    "# steel material\n",
    "mat = Material(\n",
    "    name=\"Steel\",\n",
    "    elastic_modulus=2.1e8,\n",
    "    poissons_ratio=0.33333,\n",
    "    yield_strength=1.0,\n",
    "    density=1.0,\n",
    "    color=\"lightgrey\",\n",
    ")\n",
    "\n",
    "# define points on the LineString\n",
    "pts = []\n",
    "for idx in range(n):\n",
    "    theta = -alpha / 2 + idx / (n - 1) * alpha\n",
    "    x = r * np.sin(theta)\n",
    "    y = r * np.cos(theta)\n",
    "    pts.append((x, y))\n",
    "\n",
    "# create LineString\n",
    "line = LineString(coordinates=pts)\n",
    "\n",
    "# create Polygon by buffering the LineString\n",
    "poly = buffer(geometry=line, distance=0.5 * t, cap_style=\"flat\", join_style=\"mitre\")\n",
    "\n",
    "# create sectionproperties Geometry object\n",
    "geom = Geometry(geom=poly, material=mat)\n",
    "\n",
    "# plot geometry\n",
    "geom.plot_geometry()"
   ]
  },
  {
   "cell_type": "markdown",
   "id": "6",
   "metadata": {},
   "source": [
    "## Create mesh and `Section` object\n",
    "\n",
    "The numerical analysis by Pilkey uses 9-noded quadraliteral elements. The mesh used by Pilkey for this problem can be seen below."
   ]
  },
  {
   "cell_type": "code",
   "execution_count": null,
   "id": "7",
   "metadata": {},
   "outputs": [],
   "source": [
    "display(Image(filename=\"images/arc-mesh.png\"))"
   ]
  },
  {
   "cell_type": "markdown",
   "id": "8",
   "metadata": {},
   "source": [
    "We can create a mesh in `sectionproperties` using 6-noded triangular elements by defining a maximum triangular element area. In this case we choose `mesh_sizes=0.1` and create the resulting `Section` object."
   ]
  },
  {
   "cell_type": "code",
   "execution_count": null,
   "id": "9",
   "metadata": {},
   "outputs": [],
   "source": [
    "from sectionproperties.analysis import Section\n",
    "\n",
    "geom.create_mesh(mesh_sizes=0.1)\n",
    "sec = Section(geometry=geom)\n",
    "sec.plot_mesh()"
   ]
  },
  {
   "cell_type": "markdown",
   "id": "10",
   "metadata": {},
   "source": [
    "## Calculate Cross-Section Properties\n",
    "\n",
    "Pilkey reports both geometric and warping properties, as such we conduct both analyses."
   ]
  },
  {
   "cell_type": "code",
   "execution_count": null,
   "id": "11",
   "metadata": {},
   "outputs": [],
   "source": [
    "sec.calculate_geometric_properties()\n",
    "sec.calculate_warping_properties()"
   ]
  },
  {
   "cell_type": "markdown",
   "id": "12",
   "metadata": {},
   "source": [
    "## Comparison of Results\n",
    "\n",
    "The numerical results obtained by Pilkey is listed in the dictionary below."
   ]
  },
  {
   "cell_type": "code",
   "execution_count": null,
   "id": "13",
   "metadata": {},
   "outputs": [],
   "source": [
    "pilkey = {\n",
    "    \"area\": 16.75516,\n",
    "    \"qx\": 221.72054,\n",
    "    \"qy\": 0.0,\n",
    "    \"cx\": 0.0,\n",
    "    \"cy\": 13.23297,\n",
    "    \"x_sc\": 0.0,\n",
    "    \"y_sc\": 17.83662,\n",
    "    \"ixx_g\": 3032.21070,\n",
    "    \"iyy_g\": 1258.15764,\n",
    "    \"ixy_g\": 0.0,\n",
    "    \"ixx_c\": 98.18931,\n",
    "    \"iyy_c\": 1258.15764,\n",
    "    \"ixy_c\": 0.0,\n",
    "    \"zxx\": 18.32584,\n",
    "    \"zyy\": 89.40279,\n",
    "    \"rx\": 2.42079,\n",
    "    \"ry\": 8.66549,\n",
    "    \"phi\": -90.0,\n",
    "    \"alpha_x\": 1.50823,\n",
    "    \"alpha_y\": 4.60034,\n",
    "    \"alpha_xy\": 0.0,\n",
    "    \"j\": 1.38355,\n",
    "    \"gamma\": 1046.49221,\n",
    "}"
   ]
  },
  {
   "cell_type": "markdown",
   "id": "14",
   "metadata": {},
   "source": [
    "Most of these results can be directly obtained from `sectionproperties`, the only properties that require calculation are the shear coefficients, `alpha`. The shear coefficient can be obtained from the shear area as follows:\n",
    "\n",
    "$\\alpha = \\frac{A}{A_s}$\n",
    "\n",
    "where $A$ is the cross-section area and $A_s$ is the shear area.\n",
    "\n",
    "We create a similar dictionary for the `sectionproperties` results."
   ]
  },
  {
   "cell_type": "code",
   "execution_count": null,
   "id": "15",
   "metadata": {},
   "outputs": [],
   "source": [
    "sectionproperties = {\n",
    "    \"area\": sec.get_area(),\n",
    "    \"qx\": sec.get_eq(e_ref=mat)[0],\n",
    "    \"qy\": sec.get_eq(e_ref=mat)[1],\n",
    "    \"cx\": sec.get_c()[0],\n",
    "    \"cy\": sec.get_c()[1],\n",
    "    \"x_sc\": sec.get_sc()[0],\n",
    "    \"y_sc\": sec.get_sc()[1],\n",
    "    \"ixx_g\": sec.get_eig(e_ref=mat)[0],\n",
    "    \"iyy_g\": sec.get_eig(e_ref=mat)[1],\n",
    "    \"ixy_g\": sec.get_eig(e_ref=mat)[2],\n",
    "    \"ixx_c\": sec.get_eic(e_ref=mat)[0],\n",
    "    \"iyy_c\": sec.get_eic(e_ref=mat)[1],\n",
    "    \"ixy_c\": sec.get_eic(e_ref=mat)[2],\n",
    "    \"zxx\": min(sec.get_ez(e_ref=mat)[:2]),\n",
    "    \"zyy\": min(sec.get_ez(e_ref=mat)[2:]),\n",
    "    \"rx\": sec.get_rc()[0],\n",
    "    \"ry\": sec.get_rc()[1],\n",
    "    \"phi\": sec.get_phi(),\n",
    "    \"alpha_x\": sec.get_area() / sec.get_eas(e_ref=mat)[0],\n",
    "    \"alpha_y\": sec.get_area() / sec.get_eas(e_ref=mat)[1],\n",
    "    \"alpha_xy\": sec.get_area() / sec.section_props.a_sxy,\n",
    "    \"j\": sec.get_ej(e_ref=mat),\n",
    "    \"gamma\": sec.get_egamma(e_ref=mat),\n",
    "}"
   ]
  },
  {
   "cell_type": "markdown",
   "id": "16",
   "metadata": {},
   "source": [
    "The comparison of results is summarised in the table below. Relative error is reported in all cases, except where a value is zero, in which the absolute error is reported."
   ]
  },
  {
   "cell_type": "code",
   "execution_count": null,
   "id": "17",
   "metadata": {},
   "outputs": [],
   "source": [
    "from rich.console import Console\n",
    "from rich.table import Table\n",
    "from rich.text import Text\n",
    "\n",
    "# setup table\n",
    "table = Table(title=\"Comparison of Results\")\n",
    "table.add_column(\"Property\", justify=\"left\", style=\"cyan\", no_wrap=True)\n",
    "table.add_column(Text(\"Pilkey\", justify=\"center\"), justify=\"right\", style=\"green\")\n",
    "table.add_column(Text(\"sectionproperties\", style=\"i\"), justify=\"right\", style=\"green\")\n",
    "table.add_column(Text(\"Error\", justify=\"center\"), justify=\"right\", style=\"green\")\n",
    "\n",
    "# create a row for each property\n",
    "for key in pilkey:\n",
    "    # get results\n",
    "    p_res = pilkey[key]\n",
    "    sp_res = sectionproperties[key]\n",
    "\n",
    "    # calculate relative error\n",
    "    rel_error = (sp_res - p_res) / p_res if p_res != 0 else sp_res\n",
    "\n",
    "    # print row\n",
    "    table.add_row(key, f\"{p_res:.4e}\", f\"{sp_res:.4e}\", f\"{rel_error:.2e}\")\n",
    "\n",
    "console = Console()\n",
    "console.print(table)"
   ]
  },
  {
   "cell_type": "markdown",
   "id": "18",
   "metadata": {},
   "source": [
    "All results are within acceptable limits. Out of the warping properties, the torsion constant had the largest relative error, however this value is relatively small and acceptable given the differences in element type and mesh."
   ]
  },
  {
   "cell_type": "code",
   "execution_count": null,
   "id": "19",
   "metadata": {},
   "outputs": [],
   "source": [
    "err = (sectionproperties[\"j\"] - pilkey[\"j\"]) / pilkey[\"j\"]\n",
    "print(f\"Torsion Constant Relative Error: {err:.6f}\")"
   ]
  }
 ],
 "metadata": {
  "kernelspec": {
   "display_name": "Python 3 (ipykernel)",
   "language": "python",
   "name": "python3"
  },
  "language_info": {
   "codemirror_mode": {
    "name": "ipython",
    "version": 3
   },
   "file_extension": ".py",
   "mimetype": "text/x-python",
   "name": "python",
   "nbconvert_exporter": "python",
   "pygments_lexer": "ipython3",
   "version": "3.12.7"
  }
 },
 "nbformat": 4,
 "nbformat_minor": 5
}
