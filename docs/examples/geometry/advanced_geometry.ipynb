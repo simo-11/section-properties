{
 "cells": [
  {
   "cell_type": "markdown",
   "id": "0",
   "metadata": {},
   "source": [
    "# Advanced Geometry Creation\n",
    "\n",
    "The below tutorial was created to demonstrate the creation of valid geometries for cross-section analysis by combining multiple shapes.\n",
    "\n",
    "Some key points to remember:\n",
    "\n",
    "1. Geometries of two *different* materials should not overlap (this can create unpredictable results).\n",
    "2. If two geometries of the *same* material are overlapping, then you should perform a union on the two sections.\n",
    "3. Two different section geometries that share a common edge (facet) should also share the same nodes (do not leave \"floating\" nodes along common edges).\n",
    "\n",
    "These are general points to remember for any finite element analysis."
   ]
  },
  {
   "cell_type": "markdown",
   "id": "1",
   "metadata": {},
   "source": [
    "<div class=\"alert alert-warning\">\n",
    "    \n",
    "``sectionproperties`` will not prevent the creation of these ambiguous sections. The flexibility of ``shapely`` allows for a wide variety of intermediate modelling steps but the user must ensure that the final model is one that is appropriate for analysis.\n",
    "\n",
    "</div>"
   ]
  },
  {
   "cell_type": "markdown",
   "id": "2",
   "metadata": {},
   "source": [
    "## Creating Merged Sections\n",
    "\n",
    "For this example, we will create a custom section out of two similar I-sections."
   ]
  },
  {
   "cell_type": "code",
   "execution_count": null,
   "id": "3",
   "metadata": {},
   "outputs": [],
   "source": [
    "from sectionproperties.analysis import Section\n",
    "from sectionproperties.pre.library import i_section\n",
    "\n",
    "i_sec1 = i_section(d=250, b=150, t_f=13, t_w=10, r=12, n_r=12)\n",
    "i_sec2 = i_sec1.rotate_section(angle=45)"
   ]
  },
  {
   "cell_type": "code",
   "execution_count": null,
   "id": "4",
   "metadata": {},
   "outputs": [],
   "source": [
    "i_sec1"
   ]
  },
  {
   "cell_type": "code",
   "execution_count": null,
   "id": "5",
   "metadata": {},
   "outputs": [],
   "source": [
    "i_sec2"
   ]
  },
  {
   "cell_type": "markdown",
   "id": "6",
   "metadata": {},
   "source": [
    "Assign a unique material to each geometry."
   ]
  },
  {
   "cell_type": "code",
   "execution_count": null,
   "id": "7",
   "metadata": {},
   "outputs": [],
   "source": [
    "from sectionproperties.pre import Material\n",
    "\n",
    "# just some differing properties\n",
    "mat1 = Material(\n",
    "    name=\"Material_1\",\n",
    "    elastic_modulus=200e3,\n",
    "    poissons_ratio=0.3,\n",
    "    yield_strength=100,\n",
    "    density=400,\n",
    "    color=\"gold\",\n",
    ")\n",
    "mat2 = Material(\n",
    "    name=\"Material_2\",\n",
    "    elastic_modulus=150e3,\n",
    "    poissons_ratio=0.2,\n",
    "    yield_strength=100,\n",
    "    density=200,\n",
    "    color=\"blue\",\n",
    ")\n",
    "\n",
    "i_sec1.material = mat1\n",
    "i_sec2.material = mat2"
   ]
  },
  {
   "cell_type": "markdown",
   "id": "8",
   "metadata": {},
   "source": [
    "Now, we can use the ``+`` operator to naively combine these two sections into a [CompoundGeometry()](../../gen/sectionproperties.pre.geometry.CompoundGeometry.rst#sectionproperties.pre.geometry.CompoundGeometry). Note, the two different materials."
   ]
  },
  {
   "cell_type": "code",
   "execution_count": null,
   "id": "9",
   "metadata": {},
   "outputs": [],
   "source": [
    "i_sec1 + i_sec2"
   ]
  },
  {
   "cell_type": "markdown",
   "id": "10",
   "metadata": {},
   "source": [
    "When we plot the geometry, we will see that even though we have two materials, the control points coincide with one another."
   ]
  },
  {
   "cell_type": "code",
   "execution_count": null,
   "id": "11",
   "metadata": {},
   "outputs": [],
   "source": [
    "(i_sec1 + i_sec2).plot_geometry()"
   ]
  },
  {
   "cell_type": "markdown",
   "id": "12",
   "metadata": {},
   "source": [
    "If we went a few steps further by creating a mesh and then plotting that mesh as part of an analysis section, we would see the unpredictable result of the mesh."
   ]
  },
  {
   "cell_type": "code",
   "execution_count": null,
   "id": "13",
   "metadata": {},
   "outputs": [],
   "source": [
    "Section(geometry=(i_sec1 + i_sec2).create_mesh(mesh_sizes=[10])).plot_mesh()"
   ]
  },
  {
   "cell_type": "markdown",
   "id": "14",
   "metadata": {},
   "source": [
    "## Preventing Ambiguity\n",
    "\n",
    "To prevent ambiguity between geometries and their analytical regions, there are a few options we can take.\n",
    "\n",
    "We can perform a simple union operation, but that will lose the material information for one of our sections - whichever section comes first in the operation will have it's information preserved.\n",
    "\n",
    "In this example, we will use a ``|`` (union) with ``i_sec2`` taking precedence by being the first object in the operation."
   ]
  },
  {
   "cell_type": "code",
   "execution_count": null,
   "id": "15",
   "metadata": {},
   "outputs": [],
   "source": [
    "i_sec2 | i_sec1"
   ]
  },
  {
   "cell_type": "markdown",
   "id": "16",
   "metadata": {},
   "source": [
    "However, this is unsatisfactory as a solution. We want this section to more aptly represent a real section that might be created by cutting and welding two sections together.\n",
    "\n",
    "Lets say we want the upright I-section to be our main section and the diagonal section will be added on to it.\n",
    "\n",
    "It is sometimes possible to do this in a quick operation, one which does not create nodes in common at the intersection points.\n",
    "\n",
    "Here, we will simply \"slice\" ``i_sec2`` with ``i_sec1`` and add it to ``i_sec1``. This will create \"floating nodes\" along the common edges of ``i_sec2`` and ``i_sec1`` because the nodes are not a part of ``i_sec1``."
   ]
  },
  {
   "cell_type": "code",
   "execution_count": null,
   "id": "17",
   "metadata": {},
   "outputs": [],
   "source": [
    "((i_sec2 - i_sec1) + i_sec1).plot_geometry()"
   ]
  },
  {
   "cell_type": "markdown",
   "id": "18",
   "metadata": {},
   "source": [
    "Sometimes, we can get away with this as in this example. We can see in the plot that there are five distinct regions indicated with five control points.\n",
    "\n",
    "When we are \"unlucky\", sometimes gaps can be created (due to floating point errors) where the two sections meet and a proper hole might not be detected, resulting in an incorrect section."
   ]
  },
  {
   "cell_type": "markdown",
   "id": "19",
   "metadata": {},
   "source": [
    "## Creating Nodes in Common\n",
    "\n",
    "It is best practice to *first* create nodes in common on both sections and *then* combine them. For this, an extra step is required."
   ]
  },
  {
   "cell_type": "code",
   "execution_count": null,
   "id": "20",
   "metadata": {},
   "outputs": [],
   "source": [
    "cut_2_from_1 = i_sec1 - i_sec2  # locates intersection nodes\n",
    "sec_1_nodes_added = cut_2_from_1 | i_sec1\n",
    "\n",
    "# this can also be done in one line\n",
    "sec_1_nodes_added = (i_sec1 - i_sec2) | i_sec1"
   ]
  },
  {
   "cell_type": "markdown",
   "id": "21",
   "metadata": {},
   "source": [
    "Now, when we use [plot_geometry()](../../gen/sectionproperties.pre.geometry.Geometry.rst#sectionproperties.pre.geometry.Geometry.plot_geometry), we can see the additional nodes added to \"section 1\"."
   ]
  },
  {
   "cell_type": "code",
   "execution_count": null,
   "id": "22",
   "metadata": {},
   "outputs": [],
   "source": [
    "sec_1_nodes_added.plot_geometry()"
   ]
  },
  {
   "cell_type": "markdown",
   "id": "23",
   "metadata": {},
   "source": [
    "The additional nodes from the cut portion are now merged as part of the \"section 1\" geometry.\n",
    "\n",
    "At this point, we can use our \"section 1 with additional nodes\" to create our complete geometry."
   ]
  },
  {
   "cell_type": "code",
   "execution_count": null,
   "id": "24",
   "metadata": {},
   "outputs": [],
   "source": [
    "analysis_geom = (i_sec2 - i_sec1) + sec_1_nodes_added\n",
    "analysis_geom.plot_geometry()"
   ]
  },
  {
   "cell_type": "markdown",
   "id": "25",
   "metadata": {},
   "source": [
    "And when we create our mesh and analysis section..."
   ]
  },
  {
   "cell_type": "code",
   "execution_count": null,
   "id": "26",
   "metadata": {},
   "outputs": [],
   "source": [
    "analysis_geom.create_mesh(mesh_sizes=[10])\n",
    "analysis_sec = Section(geometry=analysis_geom)\n",
    "analysis_sec.plot_mesh()"
   ]
  },
  {
   "cell_type": "markdown",
   "id": "27",
   "metadata": {},
   "source": [
    "we can see that the mesh represents how we expect the section to be."
   ]
  },
  {
   "cell_type": "markdown",
   "id": "28",
   "metadata": {},
   "source": [
    "## Avoiding Meshing Errors\n",
    "\n",
    "Here, we will simply combine two squares with the default material."
   ]
  },
  {
   "cell_type": "code",
   "execution_count": null,
   "id": "29",
   "metadata": {},
   "outputs": [],
   "source": [
    "from sectionproperties.pre.library import rectangular_section\n",
    "\n",
    "s1 = rectangular_section(d=1, b=1)\n",
    "s2 = rectangular_section(d=0.5, b=0.5).shift_section(x_offset=1, y_offset=0.25)\n",
    "geom = s1 + s2\n",
    "geom"
   ]
  },
  {
   "cell_type": "markdown",
   "id": "30",
   "metadata": {},
   "source": [
    "From the ``shapely`` vector representation, we can see that the squares are shaded red.\n",
    "This indicates an [\"invalid\" geometry from shapely's perspective](https://shapely.readthedocs.io/en/stable/manual.html#polygons) because there are two polygons that share an edge. For this geometry, the intention is to have two squares that are connected on one side and so the red shading provided by the ``shapely`` representation tells us that we are getting what we expect.\n",
    "\n",
    "Now, say this is not our final geometry and we actually want to have it rotated by 30 degrees."
   ]
  },
  {
   "cell_type": "code",
   "execution_count": null,
   "id": "31",
   "metadata": {},
   "outputs": [],
   "source": [
    "geom = geom.rotate_section(angle=30)\n",
    "geom"
   ]
  },
  {
   "cell_type": "markdown",
   "id": "32",
   "metadata": {},
   "source": [
    "Here, the ``shapely`` representation may show as green, indicating a \"valid\" ``shapely`` geometry, or red as previous. This \n",
    "uncertainty is due to floating point errors originating from the rotation, potentially causing these two polygons no longer share an edge.\n",
    "\n",
    "If we try to mesh this geometry, we may actually cause a crash with ``CyTriangle``, the meshing tool used behind-the-scenes by ``sectionproperties``."
   ]
  },
  {
   "cell_type": "code",
   "execution_count": null,
   "id": "33",
   "metadata": {},
   "outputs": [],
   "source": [
    "# this may crash the kernel...\n",
    "# geom.create_mesh(mesh_sizes=[0.2, 0.1])"
   ]
  },
  {
   "cell_type": "markdown",
   "id": "34",
   "metadata": {},
   "source": [
    "The crash occurs because the distance between the two polygons is so small. Even though the shapes are separated, the space between them will not be able to be meshed. The same crash would occur if the polygons were overlapping by this same small distance.\n",
    "\n",
    "If we plot the geometry, we can see that each of the two squares has only four nodes and four facets and their relationship is only incidental. If their edges happen to perfectly align, they will be considered as one continuous section. If their edges do not perfectly align, they will be considered as discontinuous."
   ]
  },
  {
   "cell_type": "code",
   "execution_count": null,
   "id": "35",
   "metadata": {},
   "outputs": [],
   "source": [
    "geom.plot_geometry(labels=(\"points\", \"facets\", \"control_points\"))"
   ]
  },
  {
   "cell_type": "markdown",
   "id": "36",
   "metadata": {},
   "source": [
    "To remedy this, take the same approach as in the preceding example by creating intermediate nodes where the two polygons intersect by using set operations. If we subtract ``s2`` from ``s1`` then we will have the larger square with intermediate nodes created."
   ]
  },
  {
   "cell_type": "code",
   "execution_count": null,
   "id": "37",
   "metadata": {},
   "outputs": [],
   "source": [
    "(s1 - s2).plot_geometry(labels=(\"points\",))"
   ]
  },
  {
   "cell_type": "markdown",
   "id": "38",
   "metadata": {},
   "source": [
    "Now, if we build the compound geometry up from this larger square with the intermediate points, then our section will work."
   ]
  },
  {
   "cell_type": "code",
   "execution_count": null,
   "id": "39",
   "metadata": {},
   "outputs": [],
   "source": [
    "geom_fixed = (s1 - s2) + s2\n",
    "geom_fixed_rotated = geom_fixed.rotate_section(angle=30)\n",
    "geom_fixed_rotated.create_mesh(mesh_sizes=[0.2, 0.1])\n",
    "geom_fixed_rotated.plot_geometry(\n",
    "    labels=(\n",
    "        \"points\",\n",
    "        \"facets\",\n",
    "    ),\n",
    ")\n",
    "sec = Section(geometry=geom_fixed_rotated)\n",
    "sec.display_mesh_info()"
   ]
  },
  {
   "cell_type": "markdown",
   "id": "40",
   "metadata": {},
   "source": [
    "## Creating Nested Geometries\n",
    "\n",
    "This example demonstrates creating nested geometries using two different approaches. These approaches reflect the differences between how ``shapely`` (geometry pre-processor) \"perceives\" geometry, how ``CyTriangle`` (meshing tool) \"perceives\" geometry, and how the modeller might adapt their input style depending on the situation.\n",
    "\n",
    "The nested geometry we are trying to create consists of three concentric squares with a hole at it's centre.\n",
    "\n",
    "In creating this geometry consider the following:\n",
    "\n",
    "- ``shapely`` has a concept of \"z-ordering\" where it is possible for one geometry to be \"over\" another geometry and for an overlap section to exist. When a hole is created in a polygon, it is only local to that polygon."
   ]
  },
  {
   "cell_type": "code",
   "execution_count": null,
   "id": "41",
   "metadata": {},
   "outputs": [],
   "source": [
    "sq1 = rectangular_section(d=80, b=80, material=mat1).align_center()\n",
    "sq2 = rectangular_section(d=100, b=100, material=mat2).align_center()\n",
    "sq2 = sq2 - sq1\n",
    "sq2 = sq2.shift_section(x_offset=-50, y_offset=-50).rotate_section(angle=30)\n",
    "\n",
    "sq1 + sq2"
   ]
  },
  {
   "cell_type": "markdown",
   "id": "42",
   "metadata": {},
   "source": [
    "- ``CyTriangle`` does not have a concept of \"z-ordering\" so there is only a single plane which may have regions of different materials (specified with control points). When a hole is created in the plane, it \"punches\" through \"all\" polygons in the plane."
   ]
  },
  {
   "cell_type": "code",
   "execution_count": null,
   "id": "43",
   "metadata": {},
   "outputs": [],
   "source": [
    "# note the order in which the geometry is combined\n",
    "Section(geometry=(sq2 + sq1).create_mesh(mesh_sizes=[5, 10])).plot_mesh()\n",
    "Section(geometry=(sq1 + sq2).create_mesh(mesh_sizes=[5, 10])).plot_mesh()"
   ]
  },
  {
   "cell_type": "markdown",
   "id": "44",
   "metadata": {},
   "source": [
    "To create the nested geometry using ``shapely``, the code would be as follows."
   ]
  },
  {
   "cell_type": "code",
   "execution_count": null,
   "id": "45",
   "metadata": {},
   "outputs": [],
   "source": [
    "mat3 = Material(\n",
    "    name=\"Material 3\",\n",
    "    elastic_modulus=100,\n",
    "    poissons_ratio=0.3,\n",
    "    yield_strength=10,\n",
    "    density=1e-6,\n",
    "    color=\"red\",\n",
    ")\n",
    "\n",
    "sq1 = rectangular_section(d=100, b=100, material=mat1).align_center()\n",
    "sq2 = rectangular_section(d=75, b=75, material=mat2).align_center()\n",
    "sq3 = rectangular_section(d=50, b=50, material=mat3).align_center()\n",
    "hole = rectangular_section(d=25, b=25).align_center()\n",
    "\n",
    "compound = (\n",
    "    (sq1 - sq2)  # create a big square with a medium hole in it and stack it over...\n",
    "    + (sq2 - sq3)  # a medium square with a medium-small hole in it and stack it over...\n",
    "    + (sq3 - hole)  # a medium-small square with a small hole in it.\n",
    ")\n",
    "\n",
    "compound"
   ]
  },
  {
   "cell_type": "markdown",
   "id": "46",
   "metadata": {},
   "source": [
    "To create the nested geometry using the ``CyTriangle`` interface, the code would be as follows:"
   ]
  },
  {
   "cell_type": "code",
   "execution_count": null,
   "id": "47",
   "metadata": {},
   "outputs": [],
   "source": [
    "from sectionproperties.pre import CompoundGeometry\n",
    "\n",
    "# points for four squares are created\n",
    "points = [\n",
    "    [-50.0, 50.0],  # square 1\n",
    "    [50.0, 50.0],\n",
    "    [50.0, -50.0],\n",
    "    [-50.0, -50.0],\n",
    "    [37.5, -37.5],  # square 2\n",
    "    [37.5, 37.5],\n",
    "    [-37.5, 37.5],\n",
    "    [-37.5, -37.5],\n",
    "    [25.0, -25.0],  # square 3\n",
    "    [25.0, 25.0],\n",
    "    [-25.0, 25.0],\n",
    "    [-25.0, -25.0],\n",
    "    [12.5, -12.5],  # square 4 (hole)\n",
    "    [12.5, 12.5],\n",
    "    [-12.5, 12.5],\n",
    "    [-12.5, -12.5],\n",
    "]\n",
    "\n",
    "# facets trace each of the four squares\n",
    "facets = [\n",
    "    [0, 1],  # square 1\n",
    "    [1, 2],\n",
    "    [2, 3],\n",
    "    [3, 0],\n",
    "    [4, 5],  # square 2\n",
    "    [5, 6],\n",
    "    [6, 7],\n",
    "    [7, 4],\n",
    "    [8, 9],  # square 3\n",
    "    [9, 10],\n",
    "    [10, 11],\n",
    "    [11, 8],\n",
    "    [12, 13],  # square 4 (hole)\n",
    "    [13, 14],\n",
    "    [14, 15],\n",
    "    [15, 12],\n",
    "]\n",
    "\n",
    "# three squares\n",
    "control_points = [[-43.75, 0.0], [-31.25, 0.0], [-18.75, 0.0]]\n",
    "holes = [[0, 0]]\n",
    "\n",
    "nested_compound = CompoundGeometry.from_points(\n",
    "    points=points,\n",
    "    facets=facets,\n",
    "    control_points=control_points,\n",
    "    holes=holes,\n",
    "    materials=[mat1, mat2, mat3],\n",
    ")\n",
    "\n",
    "nested_compound"
   ]
  },
  {
   "cell_type": "markdown",
   "id": "48",
   "metadata": {},
   "source": [
    "Notice how the ``shapely`` representation shows the squares overlapping each other instead of the squares fitting into the \"hole below\".\n",
    "\n",
    "Is one of these methods better than the other? Not necessarily. The ``shapely`` approach is suitable for manually creating the geometry, whereas the ``CyTriangle`` approach is suitable for reading in serialised data from a file, for example.\n",
    "\n",
    "And, for either case, when the compound geometry is meshed, we see this:"
   ]
  },
  {
   "cell_type": "code",
   "execution_count": null,
   "id": "49",
   "metadata": {},
   "outputs": [],
   "source": [
    "Section(geometry=compound.create_mesh(mesh_sizes=5)).plot_mesh()\n",
    "Section(geometry=nested_compound.create_mesh(mesh_sizes=5)).plot_mesh()"
   ]
  }
 ],
 "metadata": {
  "kernelspec": {
   "display_name": "Python 3 (ipykernel)",
   "language": "python",
   "name": "python3"
  },
  "language_info": {
   "codemirror_mode": {
    "name": "ipython",
    "version": 3
   },
   "file_extension": ".py",
   "mimetype": "text/x-python",
   "name": "python",
   "nbconvert_exporter": "python",
   "pygments_lexer": "ipython3",
   "version": "3.9.17"
  }
 },
 "nbformat": 4,
 "nbformat_minor": 5
}
