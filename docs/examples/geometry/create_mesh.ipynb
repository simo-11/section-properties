{
 "cells": [
  {
   "cell_type": "markdown",
   "id": "0",
   "metadata": {},
   "source": [
    "# Creating Meshes\n",
    "\n",
    "This example demonstrates how a finite element mesh can be generated with ``sectionproperties``."
   ]
  },
  {
   "cell_type": "markdown",
   "id": "1",
   "metadata": {},
   "source": [
    "## Import Modules\n",
    "\n",
    "We start by importing the necessary modules."
   ]
  },
  {
   "cell_type": "code",
   "execution_count": null,
   "id": "2",
   "metadata": {},
   "outputs": [],
   "source": [
    "from sectionproperties.analysis import Section\n",
    "from sectionproperties.pre import CompoundGeometry\n",
    "from sectionproperties.pre.library import (\n",
    "    box_girder_section,\n",
    "    rectangular_hollow_section,\n",
    "    rectangular_section,\n",
    ")"
   ]
  },
  {
   "cell_type": "markdown",
   "id": "3",
   "metadata": {},
   "source": [
    "## Simple Mesh\n",
    "\n",
    "A mesh of a rectangle is created. The value provided to ``mesh_sizes`` is used to limit the maximum triangular area to this value."
   ]
  },
  {
   "cell_type": "code",
   "execution_count": null,
   "id": "4",
   "metadata": {},
   "outputs": [],
   "source": [
    "geom = rectangular_section(d=50, b=50)\n",
    "geom.create_mesh(mesh_sizes=10)\n",
    "sec = Section(geometry=geom)\n",
    "sec.plot_mesh(materials=False)"
   ]
  },
  {
   "cell_type": "markdown",
   "id": "5",
   "metadata": {},
   "source": [
    "We can find the maximum element size by looping through all the elements and computing the area of each element."
   ]
  },
  {
   "cell_type": "code",
   "execution_count": null,
   "id": "6",
   "metadata": {},
   "outputs": [],
   "source": [
    "# initialise maximum area\n",
    "max_area = 0\n",
    "\n",
    "# loop through all finite elements\n",
    "for el in sec.elements:\n",
    "    res = el.geometric_properties()  # calculate area properties\n",
    "    el_area = res[0]  # get the area\n",
    "    max_area = max(max_area, el_area)  # update max_area\n",
    "\n",
    "print(f\"Max. triangular area = {max_area:.2f}\")"
   ]
  },
  {
   "cell_type": "markdown",
   "id": "7",
   "metadata": {},
   "source": [
    "## Specifying Multiple ``mesh_sizes``\n",
    "\n",
    "This example creates a 100 x 9 SHS and shows how the mesh can be refined in specific regions."
   ]
  },
  {
   "cell_type": "code",
   "execution_count": null,
   "id": "8",
   "metadata": {},
   "outputs": [],
   "source": [
    "shs = rectangular_hollow_section(d=100, b=100, t=9, r_out=22.5, n_r=8)"
   ]
  },
  {
   "cell_type": "markdown",
   "id": "9",
   "metadata": {},
   "source": [
    "We will split the SHS geometry into corner regions and straight regions."
   ]
  },
  {
   "cell_type": "code",
   "execution_count": null,
   "id": "10",
   "metadata": {},
   "outputs": [],
   "source": [
    "# vertical split at left hand corner\n",
    "g1, g2 = shs.split_section(point_i=(22.5, 0), vector=(0, 1))\n",
    "shs = CompoundGeometry(geoms=g1 + g2)  # reform geometry\n",
    "\n",
    "# vertical split at right hand corner\n",
    "g1, g2 = shs.split_section(point_i=(77.5, 0), vector=(0, 1))\n",
    "shs = CompoundGeometry(geoms=g1 + g2)  # reform geometry\n",
    "\n",
    "# vertical split at bottom corner\n",
    "g1, g2 = shs.split_section(point_i=(0, 22.5), vector=(1, 0))\n",
    "shs = CompoundGeometry(geoms=g1 + g2)  # reform geometry\n",
    "\n",
    "# vertical split at top corner\n",
    "g1, g2 = shs.split_section(point_i=(0, 77.5), vector=(1, 0))"
   ]
  },
  {
   "cell_type": "markdown",
   "id": "11",
   "metadata": {},
   "source": [
    "We will combine the final geometry by sorting the list of split geometries objects. This will allow us to easily control the mesh size of each region. We will sort the geometry list by the ``y`` value of each geometry's control point."
   ]
  },
  {
   "cell_type": "code",
   "execution_count": null,
   "id": "12",
   "metadata": {},
   "outputs": [],
   "source": [
    "geom_list = g1 + g2\n",
    "geom_list.sort(key=lambda x: x.control_points[0][1])\n",
    "shs = CompoundGeometry(geoms=geom_list)\n",
    "shs.plot_geometry()"
   ]
  },
  {
   "cell_type": "markdown",
   "id": "13",
   "metadata": {},
   "source": [
    "As shown above, regions 0, 3, 4 and 7 are the straight segments, while regions 1, 2, 5 and 6 are the corner segments."
   ]
  },
  {
   "cell_type": "markdown",
   "id": "14",
   "metadata": {},
   "source": [
    "We can generate a mesh with a constant maximum area across all regions by providing only one value to ``mesh_sizes``."
   ]
  },
  {
   "cell_type": "code",
   "execution_count": null,
   "id": "15",
   "metadata": {},
   "outputs": [],
   "source": [
    "shs.create_mesh(mesh_sizes=5)\n",
    "Section(geometry=shs).plot_mesh(materials=False)"
   ]
  },
  {
   "cell_type": "markdown",
   "id": "16",
   "metadata": {},
   "source": [
    "Alternatively, we can specify a maximum area for each region. Note that providing a zero provides no constraint on the maximum area."
   ]
  },
  {
   "cell_type": "code",
   "execution_count": null,
   "id": "17",
   "metadata": {
    "nbsphinx-thumbnail": {
     "output-index": 0
    }
   },
   "outputs": [],
   "source": [
    "mesh_sizes = [2.5, 1, 1, 5, 5, 2, 2, 0]\n",
    "\n",
    "shs.create_mesh(mesh_sizes=mesh_sizes)\n",
    "Section(geometry=shs).plot_mesh(materials=False)"
   ]
  },
  {
   "cell_type": "markdown",
   "id": "18",
   "metadata": {},
   "source": [
    "## Modifying the Minimum Angle\n",
    "\n",
    "We can change the minimum mesh vertex angle by specifying a value for `min_angle`, by default this is set to 30 degrees. Note that reducing the minimum angle will reduce the mesh quality, but may solve issues with the mesh algorithm not converging. See [here](https://www.cs.cmu.edu/~quake/triangle.q.html) for more information. Setting this value to number greater than 33 may cause issues with the meshing algorithm not converging."
   ]
  },
  {
   "cell_type": "code",
   "execution_count": null,
   "id": "19",
   "metadata": {},
   "outputs": [],
   "source": [
    "geom.create_mesh(mesh_sizes=30, min_angle=33)\n",
    "Section(geom).plot_mesh(materials=False)\n",
    "geom.create_mesh(mesh_sizes=30, min_angle=5.7)\n",
    "Section(geom).plot_mesh(materials=False)"
   ]
  },
  {
   "cell_type": "markdown",
   "id": "20",
   "metadata": {},
   "source": [
    "## Generating a ``coarse`` mesh"
   ]
  },
  {
   "cell_type": "markdown",
   "id": "21",
   "metadata": {},
   "source": [
    "By setting the argument ``coarse=True``, all quality, area and angle constraints are ignored and a coarse mesh is generated. This can be useful if only geometric or plastic properties are desired (which are mesh independent). Note that if ``coarse=True``, the values provided to ``mesh_sizes`` and ``min_angle`` will be ignored.\n",
    "\n",
    "The following example compares the mesh generated for a box girder section, with and without quality constraints."
   ]
  },
  {
   "cell_type": "code",
   "execution_count": null,
   "id": "22",
   "metadata": {},
   "outputs": [],
   "source": [
    "box = box_girder_section(d=1200, b_t=1200, b_b=400, t_ft=100, t_fb=80, t_w=50)"
   ]
  },
  {
   "cell_type": "code",
   "execution_count": null,
   "id": "23",
   "metadata": {},
   "outputs": [],
   "source": [
    "box.create_mesh(mesh_sizes=0)\n",
    "Section(geometry=box).plot_mesh(materials=False)"
   ]
  },
  {
   "cell_type": "code",
   "execution_count": null,
   "id": "24",
   "metadata": {},
   "outputs": [],
   "source": [
    "box.create_mesh(mesh_sizes=0, coarse=True)\n",
    "Section(geometry=box).plot_mesh(materials=False)"
   ]
  }
 ],
 "metadata": {
  "kernelspec": {
   "display_name": "Python 3 (ipykernel)",
   "language": "python",
   "name": "python3"
  },
  "language_info": {
   "codemirror_mode": {
    "name": "ipython",
    "version": 3
   },
   "file_extension": ".py",
   "mimetype": "text/x-python",
   "name": "python",
   "nbconvert_exporter": "python",
   "pygments_lexer": "ipython3",
   "version": "3.9.17"
  }
 },
 "nbformat": 4,
 "nbformat_minor": 5
}
