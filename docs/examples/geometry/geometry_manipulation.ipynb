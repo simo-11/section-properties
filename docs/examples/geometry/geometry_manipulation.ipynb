{
 "cells": [
  {
   "cell_type": "markdown",
   "id": "0",
   "metadata": {},
   "source": [
    "# Geometry Manipulation\n",
    "\n",
    "This example will showcase the built-in geometry manipulation tools in ``sectionproperties``:\n",
    "\n",
    "- Align\n",
    "- Mirror\n",
    "- Rotate\n",
    "- Shift\n",
    "- Split\n",
    "- Offset"
   ]
  },
  {
   "cell_type": "markdown",
   "id": "1",
   "metadata": {},
   "source": [
    "## Import Modules\n",
    "\n",
    "We start by importing the [rectangular_section()](../../gen/sectionproperties.pre.library.primitive_sections.rectangular_section.rst#sectionproperties.pre.library.primitive_sections.rectangular_section), [channel_section()](../../gen/sectionproperties.pre.library.steel_sections.channel_section.rst#sectionproperties.pre.library.steel_sections.channel_section) and [rectangular_hollow_section()](../../gen/sectionproperties.pre.library.steel_sections.rectangular_hollow_section.rst#sectionproperties.pre.library.steel_sections.rectangular_hollow_section) functions"
   ]
  },
  {
   "cell_type": "code",
   "execution_count": null,
   "id": "2",
   "metadata": {},
   "outputs": [],
   "source": [
    "from sectionproperties.pre.library import (\n",
    "    channel_section,\n",
    "    rectangular_hollow_section,\n",
    "    rectangular_section,\n",
    ")"
   ]
  },
  {
   "cell_type": "markdown",
   "id": "3",
   "metadata": {},
   "source": [
    "## Align\n",
    "\n",
    "This example will align various rectangles to each other by using the [align_to()](../../gen/sectionproperties.pre.geometry.Geometry.rst#sectionproperties.pre.geometry.Geometry.align_to) and [align_center()](../../gen/sectionproperties.pre.geometry.Geometry.rst#sectionproperties.pre.geometry.Geometry.align_center) methods."
   ]
  },
  {
   "cell_type": "code",
   "execution_count": null,
   "id": "4",
   "metadata": {},
   "outputs": [],
   "source": [
    "# create a central rectangle\n",
    "rect_centre = rectangular_section(d=150, b=100)\n",
    "\n",
    "# align a square to the central rectangle's right side\n",
    "sq_right = rectangular_section(d=20, b=20).align_to(other=rect_centre, on=\"left\")\n",
    "\n",
    "# combine two geometries and plot\n",
    "geom = rect_centre + sq_right\n",
    "geom.plot_geometry()"
   ]
  },
  {
   "cell_type": "code",
   "execution_count": null,
   "id": "5",
   "metadata": {},
   "outputs": [],
   "source": [
    "# align a square to the middle of the central rectangle's top side\n",
    "sq_center = (\n",
    "    rectangular_section(d=20, b=20)\n",
    "    .align_center(align_to=rect_centre)\n",
    "    .align_to(other=rect_centre, on=\"top\")\n",
    ")\n",
    "\n",
    "# combine with the previous geometry and plot\n",
    "geom += sq_center\n",
    "geom.plot_geometry()"
   ]
  },
  {
   "cell_type": "code",
   "execution_count": null,
   "id": "6",
   "metadata": {},
   "outputs": [],
   "source": [
    "# align a square to the centre of the central rectangle's right inner side\n",
    "sq_right = (\n",
    "    rectangular_section(d=20, b=20)\n",
    "    .align_center(align_to=rect_centre)\n",
    "    .align_to(other=rect_centre, on=\"right\", inner=True)\n",
    ")\n",
    "\n",
    "# combine with the previous geometry and plot\n",
    "geom = geom - sq_right + sq_right  # note we first subtract to avoid overlapping regions\n",
    "geom.plot_geometry()"
   ]
  },
  {
   "cell_type": "markdown",
   "id": "7",
   "metadata": {},
   "source": [
    "## Mirror\n",
    "\n",
    "The following example demonstrates how geometry objects can be mirrored. Two 200PFCs are placed back-to-back by using the [mirror_section()](../../gen/sectionproperties.pre.geometry.Geometry.rst#sectionproperties.pre.geometry.Geometry.mirror_section) method."
   ]
  },
  {
   "cell_type": "code",
   "execution_count": null,
   "id": "8",
   "metadata": {},
   "outputs": [],
   "source": [
    "# create RHS PFC\n",
    "pfc_right = channel_section(d=200, b=75, t_f=12, t_w=6, r=12, n_r=8)\n",
    "\n",
    "# create LHS PFC by mirroring the RHS PFC\n",
    "pfc_left = pfc_right.mirror_section(axis=\"y\", mirror_point=(0, 0))\n",
    "\n",
    "# combine the two PFCs into one geometry and plot the geometry\n",
    "geom = pfc_right + pfc_left\n",
    "geom.plot_geometry()"
   ]
  },
  {
   "cell_type": "markdown",
   "id": "9",
   "metadata": {},
   "source": [
    "## Rotate\n",
    "\n",
    "The following example rotates the above generated geometry counter-clockwise by 10 degrees by using the [rotate_section()](../../gen/sectionproperties.pre.geometry.Geometry.rst#sectionproperties.pre.geometry.Geometry.rotate_section) method."
   ]
  },
  {
   "cell_type": "code",
   "execution_count": null,
   "id": "10",
   "metadata": {},
   "outputs": [],
   "source": [
    "geom = geom.rotate_section(angle=10)\n",
    "geom.plot_geometry()"
   ]
  },
  {
   "cell_type": "markdown",
   "id": "11",
   "metadata": {},
   "source": [
    "## Shift\n",
    "\n",
    "In this example we use the [calculate_extents()](../../gen/sectionproperties.pre.geometry.Geometry.rst#sectionproperties.pre.geometry.Geometry.calculate_extents) method to get the coordinates of the bounding box of the above geometry. We use these coordinates to shift the geometry such that all ``x`` and ``y`` values are positive by shifting the bottom left corner of the bounding box to the origin. The [shift_section()](../../gen/sectionproperties.pre.geometry.Geometry.rst#sectionproperties.pre.geometry.Geometry.shift_section) method is used to accomplish this.x"
   ]
  },
  {
   "cell_type": "code",
   "execution_count": null,
   "id": "12",
   "metadata": {
    "nbsphinx-thumbnail": {
     "output-index": 0
    }
   },
   "outputs": [],
   "source": [
    "x_min, _, y_min, _ = geom.calculate_extents()\n",
    "geom_t = geom.shift_section(x_offset=-x_min, y_offset=-y_min)\n",
    "geom_t.plot_geometry()"
   ]
  },
  {
   "cell_type": "markdown",
   "id": "13",
   "metadata": {},
   "source": [
    "## Split\n",
    "\n",
    "In this example, we use the [split_section()](../../gen/sectionproperties.pre.geometry.Geometry.rst#sectionproperties.pre.geometry.Geometry.split_section) method to split the above geometry by a vertical line at ``x = 102``."
   ]
  },
  {
   "cell_type": "code",
   "execution_count": null,
   "id": "14",
   "metadata": {},
   "outputs": [],
   "source": [
    "from sectionproperties.pre import CompoundGeometry\n",
    "\n",
    "right_geoms, left_geoms = geom.split_section(point_i=(102, 0), vector=(0, 1))\n",
    "\n",
    "# combine resultant geometries into a CompoundGeometry object\n",
    "geom = CompoundGeometry(geoms=left_geoms + right_geoms)\n",
    "geom.plot_geometry()"
   ]
  },
  {
   "cell_type": "markdown",
   "id": "15",
   "metadata": {},
   "source": [
    "Note how control points are added automatically as required."
   ]
  },
  {
   "cell_type": "markdown",
   "id": "16",
   "metadata": {},
   "source": [
    "## Offset\n",
    "\n",
    "In this example we show how we can erode and dilate the perimeters of geometry objects by using the [offset_perimeter()](../../gen/sectionproperties.pre.geometry.Geometry.rst#sectionproperties.pre.geometry.Geometry.offset_perimeter) method.\n",
    "\n",
    "We start with a 100 x 50 x 6 RHS and create the following sections:\n",
    "\n",
    "1. 2.0 mm external erosion\n",
    "2. 1.0 mm external dilation\n",
    "3. 1.5 mm external and internal erosion"
   ]
  },
  {
   "cell_type": "code",
   "execution_count": null,
   "id": "17",
   "metadata": {},
   "outputs": [],
   "source": [
    "rhs_base = rectangular_hollow_section(d=100, b=50, t=6, r_out=15, n_r=8)\n",
    "rhs_base.plot_geometry(title=\"RHS Base\")\n",
    "rhs_base.offset_perimeter(amount=-2.0).plot_geometry(title=\"RHS 1\")\n",
    "rhs_base.offset_perimeter(amount=1.0).plot_geometry(title=\"RHS 2\")\n",
    "rhs_base.offset_perimeter(amount=-1.5, where=\"all\").plot_geometry(title=\"RHS 3\")"
   ]
  }
 ],
 "metadata": {
  "kernelspec": {
   "display_name": "Python 3 (ipykernel)",
   "language": "python",
   "name": "python3"
  },
  "language_info": {
   "codemirror_mode": {
    "name": "ipython",
    "version": 3
   },
   "file_extension": ".py",
   "mimetype": "text/x-python",
   "name": "python",
   "nbconvert_exporter": "python",
   "pygments_lexer": "ipython3",
   "version": "3.12.7"
  }
 },
 "nbformat": 4,
 "nbformat_minor": 5
}
