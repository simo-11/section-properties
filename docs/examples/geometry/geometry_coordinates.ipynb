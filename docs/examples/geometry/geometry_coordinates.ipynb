{
 "cells": [
  {
   "cell_type": "markdown",
   "id": "0",
   "metadata": {},
   "source": [
    "# Geometry from Coordinates\n",
    "\n",
    "The following example demonstrates how geometry objects can be created from a list of points, facets, holes and control points. \n",
    "\n",
    "A straight angle section with a plate at its base is created from a list of points and facets. \n",
    "\n",
    "The bottom plate is assigned a separate control point meaning two discrete regions are created. Creating separate regions allows the user to control the mesh size in each region and assign material properties to different regions."
   ]
  },
  {
   "cell_type": "markdown",
   "id": "1",
   "metadata": {},
   "source": [
    "## Import Modules\n",
    "\n",
    "We start by importing the [CompoundGeometry()](../../gen/sectionproperties.pre.geometry.CompoundGeometry.rst#sectionproperties.pre.geometry.CompoundGeometry) object to create the geometry, and the [Section()](../../gen/sectionproperties.analysis.section.rst#module-sectionproperties.analysis.section) object for analysis."
   ]
  },
  {
   "cell_type": "code",
   "execution_count": null,
   "id": "2",
   "metadata": {},
   "outputs": [],
   "source": [
    "from sectionproperties.analysis import Section\n",
    "from sectionproperties.pre import CompoundGeometry"
   ]
  },
  {
   "cell_type": "markdown",
   "id": "3",
   "metadata": {},
   "source": [
    "## Create Geometry\n",
    "\n",
    "We will define some parameters that describe the geometry of the section."
   ]
  },
  {
   "cell_type": "code",
   "execution_count": null,
   "id": "4",
   "metadata": {},
   "outputs": [],
   "source": [
    "w_a = 1  # width of angle leg\n",
    "w_p = 2  # width of bottom plate\n",
    "d = 2  # depth of section\n",
    "t = 0.1  # thickness of section"
   ]
  },
  {
   "cell_type": "markdown",
   "id": "5",
   "metadata": {},
   "source": [
    "We can now build a list of points, facets and control points."
   ]
  },
  {
   "cell_type": "code",
   "execution_count": null,
   "id": "6",
   "metadata": {},
   "outputs": [],
   "source": [
    "# list of points describing the geometry\n",
    "points = [\n",
    "    (w_p * -0.5, 0),  # bottom plate\n",
    "    (w_p * 0.5, 0),\n",
    "    (w_p * 0.5, t),\n",
    "    (w_p * -0.5, t),\n",
    "    (t * -0.5, t),  # inverted angle section\n",
    "    (t * 0.5, t),\n",
    "    (t * 0.5, d - t),\n",
    "    (w_a - 0.5 * t, d - t),\n",
    "    (w_a - 0.5 * t, d),\n",
    "    (t * -0.5, d),\n",
    "]\n",
    "\n",
    "# list of facets (edges) describing the geometry connectivity\n",
    "facets = [\n",
    "    (0, 1),  # bottom plate\n",
    "    (1, 2),\n",
    "    (2, 3),\n",
    "    (3, 0),\n",
    "    (4, 5),  # inverted angle section\n",
    "    (5, 6),\n",
    "    (6, 7),\n",
    "    (7, 8),\n",
    "    (8, 9),\n",
    "    (9, 4),\n",
    "]\n",
    "\n",
    "# list of control points (points within each region)\n",
    "control_points = [\n",
    "    (0, t * 0.5),  # bottom plate\n",
    "    (0, d - t),  # inverted angle section\n",
    "]"
   ]
  },
  {
   "cell_type": "markdown",
   "id": "7",
   "metadata": {},
   "source": [
    "We can now use the [CompoundGeometry.from_points()](../../gen/sectionproperties.pre.geometry.CompoundGeometry.rst#sectionproperties.pre.geometry.CompoundGeometry.from_points) method to build our geometry. We use the ``CompoundGeometry`` variation of this method as we have two distinct regions. If there was only one region (i.e. one control point), we would use the ``Geometry`` version of this method."
   ]
  },
  {
   "cell_type": "code",
   "execution_count": null,
   "id": "8",
   "metadata": {},
   "outputs": [],
   "source": [
    "geom = CompoundGeometry.from_points(\n",
    "    points=points,\n",
    "    facets=facets,\n",
    "    control_points=control_points,\n",
    ")\n",
    "geom.plot_geometry()"
   ]
  },
  {
   "cell_type": "markdown",
   "id": "9",
   "metadata": {},
   "source": [
    "## Create Mesh and ``Section``\n",
    "\n",
    "For this mesh, we use a smaller refinement for the bottom plate region."
   ]
  },
  {
   "cell_type": "code",
   "execution_count": null,
   "id": "10",
   "metadata": {},
   "outputs": [],
   "source": [
    "geom.create_mesh(mesh_sizes=[0.0005, 0.001])\n",
    "\n",
    "sec = Section(geometry=geom)\n",
    "sec.plot_mesh(materials=False)"
   ]
  },
  {
   "cell_type": "markdown",
   "id": "11",
   "metadata": {},
   "source": [
    "## Perform an Analysis\n",
    "\n",
    "We perform geometric, warping and plastic analyses."
   ]
  },
  {
   "cell_type": "code",
   "execution_count": null,
   "id": "12",
   "metadata": {},
   "outputs": [],
   "source": [
    "sec.calculate_geometric_properties()\n",
    "sec.calculate_warping_properties()\n",
    "sec.calculate_plastic_properties()"
   ]
  },
  {
   "cell_type": "markdown",
   "id": "13",
   "metadata": {},
   "source": [
    "## Plot Centroids\n",
    "\n",
    "We can plot the calculated centroids using the [plot_centroids()](../../gen/sectionproperties.analysis.section.Section.rst#sectionproperties.analysis.section.Section.plot_centroids) method."
   ]
  },
  {
   "cell_type": "code",
   "execution_count": null,
   "id": "14",
   "metadata": {},
   "outputs": [],
   "source": [
    "sec.plot_centroids()"
   ]
  },
  {
   "cell_type": "markdown",
   "id": "15",
   "metadata": {},
   "source": [
    "Because we performed geometric, warping and plastic analyses we see the following results in the above plot:\n",
    "\n",
    "- Geometric analysis - elastic centroid, principal axes\n",
    "- Warping analysis - shear centre\n",
    "- Plastic analysis - plastic centroids"
   ]
  }
 ],
 "metadata": {
  "kernelspec": {
   "display_name": "Python 3 (ipykernel)",
   "language": "python",
   "name": "python3"
  },
  "language_info": {
   "codemirror_mode": {
    "name": "ipython",
    "version": 3
   },
   "file_extension": ".py",
   "mimetype": "text/x-python",
   "name": "python",
   "nbconvert_exporter": "python",
   "pygments_lexer": "ipython3",
   "version": "3.9.17"
  }
 },
 "nbformat": 4,
 "nbformat_minor": 5
}
