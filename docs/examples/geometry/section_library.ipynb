{
 "cells": [
  {
   "cell_type": "markdown",
   "id": "0",
   "metadata": {},
   "source": [
    "# Section Library\n",
    "\n",
    "This examples shows how to use ``sectionproperties``'s section library to create geometry."
   ]
  },
  {
   "cell_type": "markdown",
   "id": "1",
   "metadata": {},
   "source": [
    "## Circular Section\n",
    "\n",
    "The following example calculates the geometric, warping and plastic properties of a 50 mm diameter circle. The circle is discretised with 64 points and a mesh size of 2.5 mm$^2$."
   ]
  },
  {
   "cell_type": "markdown",
   "id": "2",
   "metadata": {},
   "source": [
    "### Import Modules\n",
    "\n",
    "We start by importing the [circular_section](../../gen/sectionproperties.pre.library.primitive_sections.circular_section.rst#sectionproperties.pre.library.primitive_sections.circular_section) function from the section library, and the [Section()](../../gen/sectionproperties.analysis.section.Section.rst#sectionproperties.analysis.section.Section) object for analysis."
   ]
  },
  {
   "cell_type": "code",
   "execution_count": null,
   "id": "3",
   "metadata": {},
   "outputs": [],
   "source": [
    "from sectionproperties.analysis import Section\n",
    "from sectionproperties.pre.library import circular_section"
   ]
  },
  {
   "cell_type": "markdown",
   "id": "4",
   "metadata": {},
   "source": [
    "### Create Geometry\n",
    "\n",
    "Create a 50 diameter circle discretised by 64 points and plot the geometry."
   ]
  },
  {
   "cell_type": "code",
   "execution_count": null,
   "id": "5",
   "metadata": {},
   "outputs": [],
   "source": [
    "geom = circular_section(d=50, n=64)\n",
    "geom.plot_geometry()"
   ]
  },
  {
   "cell_type": "markdown",
   "id": "6",
   "metadata": {},
   "source": [
    "### Create Mesh and ``Section`` object\n",
    "\n",
    "Create a mesh with a mesh size of 2.5 mm$^2$, a [Section()](../../gen/sectionproperties.analysis.section.Section.rst#sectionproperties.analysis.section.Section) object. We also display some mesh information and plot the finite element mesh."
   ]
  },
  {
   "cell_type": "code",
   "execution_count": null,
   "id": "7",
   "metadata": {},
   "outputs": [],
   "source": [
    "geom.create_mesh(mesh_sizes=[2.5])\n",
    "sec = Section(geometry=geom)\n",
    "sec.display_mesh_info()\n",
    "sec.plot_mesh(materials=False)"
   ]
  },
  {
   "cell_type": "markdown",
   "id": "8",
   "metadata": {},
   "source": [
    "### Perform an Analysis\n",
    "\n",
    "We perform geometric, warping and plastic analyses. It is important to perform the geometric analysis first, as these results are required by the warping and plastic analyses."
   ]
  },
  {
   "cell_type": "code",
   "execution_count": null,
   "id": "9",
   "metadata": {},
   "outputs": [],
   "source": [
    "sec.calculate_geometric_properties()\n",
    "sec.calculate_warping_properties()\n",
    "sec.calculate_plastic_properties()"
   ]
  },
  {
   "cell_type": "markdown",
   "id": "10",
   "metadata": {},
   "source": [
    "### Display Results\n",
    "\n",
    "Print the results to the terminal using [display_results()](../../gen/sectionproperties.analysis.section.Section.rst#sectionproperties.analysis.section.Section.display_results)."
   ]
  },
  {
   "cell_type": "code",
   "execution_count": null,
   "id": "11",
   "metadata": {},
   "outputs": [],
   "source": [
    "sec.display_results()"
   ]
  },
  {
   "cell_type": "markdown",
   "id": "12",
   "metadata": {},
   "source": [
    "We can get the second moments of area and the torsion constant using the [get_ic()](../../gen/sectionproperties.analysis.section.Section.rst#sectionproperties.analysis.section.Section.get_ic) and [get_j()](../../gen/sectionproperties.analysis.section.Section.rst#sectionproperties.analysis.section.Section.get_j) methods."
   ]
  },
  {
   "cell_type": "code",
   "execution_count": null,
   "id": "13",
   "metadata": {},
   "outputs": [],
   "source": [
    "ixx_c, iyy_c, ixy_c = sec.get_ic()\n",
    "j = sec.get_j()\n",
    "print(f\"Ixx + Iyy + Ixy = {ixx_c + iyy_c + ixy_c:.3f}\")\n",
    "print(f\"J = {j:.3f}\")"
   ]
  },
  {
   "cell_type": "markdown",
   "id": "14",
   "metadata": {},
   "source": [
    "It is clear that for a circular section, the torsion constant is equal to the sum of second moments of area!"
   ]
  },
  {
   "cell_type": "markdown",
   "id": "15",
   "metadata": {},
   "source": [
    "## Tapered Flange Channel Section\n",
    "\n",
    "The following example calculates the geometric, warping and plastic properties of an imperial tapered flange section."
   ]
  },
  {
   "cell_type": "markdown",
   "id": "16",
   "metadata": {},
   "source": [
    "### Import Modules\n",
    "\n",
    "We start by importing the [tapered_flange_channel](../../gen/sectionproperties.pre.library.steel_sections.tapered_flange_channel.rst#sectionproperties.pre.library.steel_sections.tapered_flange_channel) function from the section library (we have already imported the ``Section`` object)."
   ]
  },
  {
   "cell_type": "code",
   "execution_count": null,
   "id": "17",
   "metadata": {},
   "outputs": [],
   "source": [
    "from sectionproperties.pre.library import tapered_flange_channel"
   ]
  },
  {
   "cell_type": "markdown",
   "id": "18",
   "metadata": {},
   "source": [
    "### Create Geometry\n",
    "\n",
    "Create a 10 inch deep by 3.5 inch wide tapered flange channel section."
   ]
  },
  {
   "cell_type": "code",
   "execution_count": null,
   "id": "19",
   "metadata": {},
   "outputs": [],
   "source": [
    "geom = tapered_flange_channel(\n",
    "    d=10,\n",
    "    b=3.5,\n",
    "    t_f=0.575,\n",
    "    t_w=0.475,\n",
    "    r_r=0.575,\n",
    "    r_f=0.4,\n",
    "    alpha=8,\n",
    "    n_r=16,\n",
    ")"
   ]
  },
  {
   "cell_type": "markdown",
   "id": "20",
   "metadata": {},
   "source": [
    "### Create Mesh and ``Section`` object\n",
    "\n",
    "Create a mesh with a mesh size of 0.05 in$^2$ and plot the mesh."
   ]
  },
  {
   "cell_type": "code",
   "execution_count": null,
   "id": "21",
   "metadata": {},
   "outputs": [],
   "source": [
    "geom.create_mesh(mesh_sizes=0.05)\n",
    "sec = Section(geometry=geom)\n",
    "sec.plot_mesh(materials=False)"
   ]
  },
  {
   "cell_type": "markdown",
   "id": "22",
   "metadata": {},
   "source": [
    "### Perform an Analysis\n",
    "\n",
    "We perform geometric and warping analyses on the tapered flange channel."
   ]
  },
  {
   "cell_type": "code",
   "execution_count": null,
   "id": "23",
   "metadata": {},
   "outputs": [],
   "source": [
    "sec.calculate_geometric_properties()\n",
    "sec.calculate_warping_properties()"
   ]
  },
  {
   "cell_type": "markdown",
   "id": "24",
   "metadata": {},
   "source": [
    "### Plot Centroids\n",
    "\n",
    "We can plot the various centroids with the [plot_centroids()](../../gen/sectionproperties.analysis.section.Section.rst#sectionproperties.analysis.section.Section.plot_centroids) method."
   ]
  },
  {
   "cell_type": "code",
   "execution_count": null,
   "id": "25",
   "metadata": {},
   "outputs": [],
   "source": [
    "sec.plot_centroids()"
   ]
  },
  {
   "cell_type": "markdown",
   "id": "26",
   "metadata": {},
   "source": [
    "## Rectangular Concrete Section\n",
    "\n",
    "The following example calculates the geometric properties of a rectangular reinforced concrete section."
   ]
  },
  {
   "cell_type": "markdown",
   "id": "27",
   "metadata": {},
   "source": [
    "### Import Modules\n",
    "\n",
    "We start by importing the [concrete_rectangular_section()](../../gen/sectionproperties.pre.library.concrete_sections.concrete_rectangular_section.rst#sectionproperties.pre.library.concrete_sections.concrete_rectangular_section) function from the section library, and the [Material()](../../gen/sectionproperties.pre.pre.Material.rst#sectionproperties.pre.pre.Material) object to define our concrete and steel materials."
   ]
  },
  {
   "cell_type": "code",
   "execution_count": null,
   "id": "28",
   "metadata": {},
   "outputs": [],
   "source": [
    "from sectionproperties.pre import Material\n",
    "from sectionproperties.pre.library import concrete_rectangular_section"
   ]
  },
  {
   "cell_type": "markdown",
   "id": "29",
   "metadata": {},
   "source": [
    "### Create Geometry\n",
    "\n",
    "Create a 600 deep by 300 wide rectangular concrete beam, reinforced with:\n",
    "\n",
    "- 3 x 16 mm bars top (32 mm cover)\n",
    "- 3 x 20 mm bars bottom (42 mm cover)\n",
    "- 3 x 12 mm bars each side (57 mm cover)\n",
    "\n",
    "The circular reinforcement is discretised with 16 points.\n",
    "\n",
    "The following material properties are used:\n",
    "\n",
    "**32 MPa Concrete**\n",
    "  \n",
    "- Elastic modulus = 30.1 GPa\n",
    "- Poisson's ratio = 0.2\n",
    "- Density = 2400 kg/m$^3$ = 2.4 x 10$^{-6}$ kg/mm$^3$\n",
    "- Yield Strengh = 32 MPa\n",
    "\n",
    "**500 MPa Steel**\n",
    "  \n",
    "- Elastic modulus = 200 GPa\n",
    "- Poisson's ratio = 0.3\n",
    "- Density = 7850 kg/m$^3$ = 7.85 x 10$^{-6}$ kg/mm$^3$\n",
    "- Yield Strengh = 500 MPa"
   ]
  },
  {
   "cell_type": "code",
   "execution_count": null,
   "id": "30",
   "metadata": {},
   "outputs": [],
   "source": [
    "# define the concrete material\n",
    "concrete = Material(\n",
    "    name=\"Concrete\",\n",
    "    elastic_modulus=30.1e3,\n",
    "    poissons_ratio=0.2,\n",
    "    density=2.4e-6,\n",
    "    yield_strength=32,\n",
    "    color=\"lightgrey\",\n",
    ")\n",
    "\n",
    "# define the steel material\n",
    "steel = Material(\n",
    "    name=\"Steel\",\n",
    "    elastic_modulus=200e3,\n",
    "    poissons_ratio=0.3,\n",
    "    yield_strength=500,\n",
    "    density=7.85e-6,\n",
    "    color=\"grey\",\n",
    ")\n",
    "\n",
    "# create the geometry\n",
    "geom = concrete_rectangular_section(\n",
    "    d=600,\n",
    "    b=300,\n",
    "    dia_top=16,\n",
    "    area_top=200,\n",
    "    n_top=3,\n",
    "    c_top=32,\n",
    "    dia_bot=20,\n",
    "    area_bot=310,\n",
    "    n_bot=3,\n",
    "    c_bot=42,\n",
    "    dia_side=12,\n",
    "    area_side=110,\n",
    "    n_side=3,\n",
    "    c_side=57,\n",
    "    n_circle=16,\n",
    "    conc_mat=concrete,\n",
    "    steel_mat=steel,\n",
    ")"
   ]
  },
  {
   "cell_type": "markdown",
   "id": "31",
   "metadata": {},
   "source": [
    "### Create Mesh and ``Section`` object\n",
    "\n",
    "Create a mesh with a mesh size of 200 mm$^2$ and plot the mesh."
   ]
  },
  {
   "cell_type": "code",
   "execution_count": null,
   "id": "32",
   "metadata": {},
   "outputs": [],
   "source": [
    "geom.create_mesh(mesh_sizes=[200])\n",
    "sec = Section(geometry=geom)\n",
    "sec.plot_mesh()"
   ]
  },
  {
   "cell_type": "markdown",
   "id": "33",
   "metadata": {},
   "source": [
    "### Perform an Analysis\n",
    "\n",
    "We perform only a geometric analysis on the reinforced concrete section."
   ]
  },
  {
   "cell_type": "code",
   "execution_count": null,
   "id": "34",
   "metadata": {},
   "outputs": [],
   "source": [
    "sec.calculate_geometric_properties()"
   ]
  },
  {
   "cell_type": "markdown",
   "id": "35",
   "metadata": {},
   "source": [
    "### Calculate Gross Effective Moment of Inertia\n",
    "\n",
    "We can calculate the gross effective moment of inertia by obtaining the flexural rigidity ($\\sum E.I$) of the section and dividing it by the elastic modulus of the concrete. We compare this to the moment of inertia of a rectangular section of the same dimensions."
   ]
  },
  {
   "cell_type": "code",
   "execution_count": null,
   "id": "36",
   "metadata": {},
   "outputs": [],
   "source": [
    "ei = sec.get_eic(e_ref=concrete)\n",
    "print(f\"I_eff = {ei[0]:.3e} mm6\")\n",
    "print(f\"I_rec = {(300 * 600**3 / 12):.3e} mm6\")"
   ]
  }
 ],
 "metadata": {
  "kernelspec": {
   "display_name": "Python 3 (ipykernel)",
   "language": "python",
   "name": "python3"
  },
  "language_info": {
   "codemirror_mode": {
    "name": "ipython",
    "version": 3
   },
   "file_extension": ".py",
   "mimetype": "text/x-python",
   "name": "python",
   "nbconvert_exporter": "python",
   "pygments_lexer": "ipython3",
   "version": "3.9.17"
  }
 },
 "nbformat": 4,
 "nbformat_minor": 5
}
