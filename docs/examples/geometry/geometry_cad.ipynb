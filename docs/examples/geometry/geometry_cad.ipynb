{
 "cells": [
  {
   "cell_type": "markdown",
   "id": "0",
   "metadata": {},
   "source": [
    "# Geometry from CAD\n",
    "\n",
    "This example demonstrates loading ``Geometry`` and ``CompoundGeometry`` objects from ``.dxf`` and ``.3dm`` (rhino) files."
   ]
  },
  {
   "cell_type": "markdown",
   "id": "1",
   "metadata": {},
   "source": [
    "## Import Modules\n",
    "\n",
    "We start by importing the necessary modules."
   ]
  },
  {
   "cell_type": "code",
   "execution_count": null,
   "id": "2",
   "metadata": {},
   "outputs": [],
   "source": [
    "from sectionproperties.analysis import Section\n",
    "from sectionproperties.pre import CompoundGeometry, Geometry"
   ]
  },
  {
   "cell_type": "markdown",
   "id": "3",
   "metadata": {},
   "source": [
    "## Load from ``.dxf``"
   ]
  },
  {
   "cell_type": "markdown",
   "id": "4",
   "metadata": {},
   "source": [
    "### ``Geometry`` object\n",
    "\n",
    "We can load a single region from a ``.dxf`` file by using the [Geometry.from_dxf()](../../gen/sectionproperties.pre.geometry.Geometry.rst#sectionproperties.pre.geometry.Geometry.from_dxf) method."
   ]
  },
  {
   "cell_type": "code",
   "execution_count": null,
   "id": "5",
   "metadata": {},
   "outputs": [],
   "source": [
    "geom = Geometry.from_dxf(dxf_filepath=\"../../_static/cad_files/box_section.dxf\")"
   ]
  },
  {
   "cell_type": "markdown",
   "id": "6",
   "metadata": {},
   "source": [
    "To display the section, we mesh the geometry and plot the mesh."
   ]
  },
  {
   "cell_type": "code",
   "execution_count": null,
   "id": "7",
   "metadata": {
    "nbsphinx-thumbnail": {
     "output-index": 0
    }
   },
   "outputs": [],
   "source": [
    "geom.create_mesh(mesh_sizes=[0.5])\n",
    "Section(geometry=geom).plot_mesh(materials=False)"
   ]
  },
  {
   "cell_type": "markdown",
   "id": "8",
   "metadata": {},
   "source": [
    "Note that loading multiple regions from a `.dxf` file is not currently supported. A possible work around could involve saving each region as a separate `.dxf` file, importing each region individually using `Geometry.from_dxf()`, then combining the regions using the `+` operator."
   ]
  },
  {
   "cell_type": "markdown",
   "id": "9",
   "metadata": {},
   "source": [
    "## Load from ``.3dm``"
   ]
  },
  {
   "cell_type": "markdown",
   "id": "10",
   "metadata": {},
   "source": [
    "### ``Geometry`` object\n",
    "\n",
    "We can load a single region from a ``.3dm`` file by using the [Geometry.from_3dm()](../../gen/sectionproperties.pre.geometry.Geometry.rst#sectionproperties.pre.geometry.Geometry.from_3dm) method."
   ]
  },
  {
   "cell_type": "code",
   "execution_count": null,
   "id": "11",
   "metadata": {},
   "outputs": [],
   "source": [
    "geom = Geometry.from_3dm(filepath=\"../../_static/cad_files/rhino.3dm\")\n",
    "geom = geom.rotate_section(angle=90)  # rotate for viewability"
   ]
  },
  {
   "cell_type": "markdown",
   "id": "12",
   "metadata": {},
   "source": [
    "To display the section, we mesh the geometry and plot the mesh."
   ]
  },
  {
   "cell_type": "code",
   "execution_count": null,
   "id": "13",
   "metadata": {},
   "outputs": [],
   "source": [
    "geom.create_mesh(mesh_sizes=[0.005])\n",
    "Section(geometry=geom).plot_mesh(materials=False)"
   ]
  },
  {
   "cell_type": "markdown",
   "id": "14",
   "metadata": {},
   "source": [
    "### ``CompoundGeometry`` object\n",
    "\n",
    "We can load multiple regions from a ``.3dm`` file by using the [CompoundGeometry.from_3dm()](../../gen/sectionproperties.pre.geometry.CompoundGeometry.rst#sectionproperties.pre.geometry.CompoundGeometry.from_3dm) method."
   ]
  },
  {
   "cell_type": "code",
   "execution_count": null,
   "id": "15",
   "metadata": {},
   "outputs": [],
   "source": [
    "geom = CompoundGeometry.from_3dm(filepath=\"../../_static/cad_files/rhino_compound.3dm\")\n",
    "geom = geom.rotate_section(angle=90)  # rotate for viewability"
   ]
  },
  {
   "cell_type": "markdown",
   "id": "16",
   "metadata": {},
   "source": [
    "To display the section, we mesh the geometry and plot the mesh."
   ]
  },
  {
   "cell_type": "code",
   "execution_count": null,
   "id": "17",
   "metadata": {},
   "outputs": [],
   "source": [
    "geom.create_mesh(mesh_sizes=[0.005])\n",
    "Section(geometry=geom).plot_mesh(materials=False)"
   ]
  }
 ],
 "metadata": {
  "kernelspec": {
   "display_name": "Python 3 (ipykernel)",
   "language": "python",
   "name": "python3"
  },
  "language_info": {
   "codemirror_mode": {
    "name": "ipython",
    "version": 3
   },
   "file_extension": ".py",
   "mimetype": "text/x-python",
   "name": "python",
   "nbconvert_exporter": "python",
   "pygments_lexer": "ipython3",
   "version": "3.9.17"
  }
 },
 "nbformat": 4,
 "nbformat_minor": 5
}
