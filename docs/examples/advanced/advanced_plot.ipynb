{
 "cells": [
  {
   "cell_type": "markdown",
   "id": "27576f1d",
   "metadata": {},
   "source": [
    "# Advanced Plotting"
   ]
  },
  {
   "cell_type": "markdown",
   "id": "e5f5821a-5b0e-4195-88b3-f8aad0e6ae2c",
   "metadata": {},
   "source": [
    "All plots in `sectionproperties` allow keyword arguments to be passed to [plotting_context()](../..//gen/sectionproperties.post.post.plotting_context.rst#sectionproperties.post.post.plotting_context). This example shows one application of using the `plotting_context()` to generate a custom plot in a 2 x 2 arrangement."
   ]
  },
  {
   "cell_type": "markdown",
   "id": "c4ed61cc-ab12-4e60-aa51-b5e0f52160c8",
   "metadata": {},
   "source": [
    "## Create Geometry and Perform Analysis"
   ]
  },
  {
   "cell_type": "markdown",
   "id": "fbab4168-0b45-4d4e-befe-206b66e21774",
   "metadata": {},
   "source": [
    "We start by creating the geometry for a 100 x 6 SHS."
   ]
  },
  {
   "cell_type": "code",
   "execution_count": null,
   "id": "66522637-ff51-4945-ab72-a1a354ea9e67",
   "metadata": {},
   "outputs": [],
   "source": [
    "from sectionproperties.pre.library import rectangular_hollow_section\n",
    "\n",
    "\n",
    "geom = rectangular_hollow_section(d=100, b=100, t=6, r_out=15, n_r=8)"
   ]
  },
  {
   "cell_type": "markdown",
   "id": "ebc2c4aa-a61f-4b32-abd2-c6421b413e93",
   "metadata": {},
   "source": [
    "Next we create a mesh and a `Section` object."
   ]
  },
  {
   "cell_type": "code",
   "execution_count": null,
   "id": "6875e793-9338-4f0f-af26-94deee9e03bd",
   "metadata": {},
   "outputs": [],
   "source": [
    "from sectionproperties.analysis import Section\n",
    "\n",
    "\n",
    "geom.create_mesh(mesh_sizes=[5])\n",
    "sec = Section(geometry=geom)"
   ]
  },
  {
   "cell_type": "markdown",
   "id": "e9bd87c4-64f7-4fe3-8183-782559a66953",
   "metadata": {},
   "source": [
    "We can now perform a stress analysis by applying a 10 kN.m torsion (after first running the geometric and warping analysis)."
   ]
  },
  {
   "cell_type": "code",
   "execution_count": null,
   "id": "e0be003c-b341-42aa-babc-9659bcf84e95",
   "metadata": {},
   "outputs": [],
   "source": [
    "sec.calculate_geometric_properties()\n",
    "sec.calculate_warping_properties()\n",
    "stress = sec.calculate_stress(mzz=10e6)"
   ]
  },
  {
   "cell_type": "markdown",
   "id": "af740576-9c70-4cd0-9d7d-df2fb2abd412",
   "metadata": {},
   "source": [
    "## Generate Plot\n",
    "\n",
    "We are going to generate a plot of the geometry, mesh, centroids and stress. In the first plot, we will setup the parameters of the entire figure. We make sure we set `render=False` to prevent the plot from displaying before we are finished. In the subsequent plots we pass the axis we would like to display the plot on."
   ]
  },
  {
   "cell_type": "code",
   "execution_count": null,
   "id": "ff4d819e-45c7-4a73-92c5-9f40f8656327",
   "metadata": {},
   "outputs": [],
   "source": [
    "import matplotlib.pyplot as plt\n",
    "\n",
    "\n",
    "# plot the geometry\n",
    "ax = geom.plot_geometry(\n",
    "    labels=[],\n",
    "    nrows=2,\n",
    "    ncols=2,\n",
    "    figsize=(12, 7),\n",
    "    render=False,\n",
    ")\n",
    "\n",
    "# get the figure object from the first plot\n",
    "fig = ax.get_figure()\n",
    "\n",
    "# plot the mesh\n",
    "sec.plot_mesh(materials=False, ax=fig.axes[1])\n",
    "\n",
    "# plot the centroids\n",
    "sec.plot_centroids(ax=fig.axes[2])\n",
    "\n",
    "# plot the torsion stress\n",
    "stress.plot_stress(\n",
    "    stress=\"mzz_zxy\",\n",
    "    normalize=False,\n",
    "    ax=fig.axes[3],\n",
    ")\n",
    "\n",
    "# finally display the plot\n",
    "plt.show()"
   ]
  }
 ],
 "metadata": {
  "kernelspec": {
   "display_name": "Python 3 (ipykernel)",
   "language": "python",
   "name": "python3"
  },
  "language_info": {
   "codemirror_mode": {
    "name": "ipython",
    "version": 3
   },
   "file_extension": ".py",
   "mimetype": "text/x-python",
   "name": "python",
   "nbconvert_exporter": "python",
   "pygments_lexer": "ipython3",
   "version": "3.9.17"
  }
 },
 "nbformat": 4,
 "nbformat_minor": 5
}
