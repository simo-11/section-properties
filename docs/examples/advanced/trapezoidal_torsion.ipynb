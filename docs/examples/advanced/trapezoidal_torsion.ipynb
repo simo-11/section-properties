{
 "cells": [
  {
   "cell_type": "markdown",
   "id": "2501e180",
   "metadata": {},
   "source": [
    "# Torsion Constant of Trapezoidal Sections\n",
    "\n",
    "Trapezoidal elements or components of a cross-section are quite common in bridge structures, either concrete or steel composite construction. However, it’s common to determine the torsion constant of the trapezoidal section by using a rectangular approximation. For example, this is done in the Autodesk Structural Bridge Design software when there is a haunch in a [Steel Composite Beam](https://help.autodesk.com/view/SBRDES/ENU/?guid=ASBD_InProdAU_structure_tech_info_ti_torsion_Torsion_property_for_SAM_composite_beams_html).\n",
    "\n",
    "The question then arises, when is it appropriate to make the rectangular approximation to a trapezoidal section, and what might the expected error be?"
   ]
  },
  {
   "cell_type": "markdown",
   "id": "bb670c58",
   "metadata": {},
   "source": [
    "## Import Modules\n",
    "\n",
    "Here we bring in the rectangular and triangular primitive section shapes, and also the more generic ``shapely`` [Polygon](https://shapely.readthedocs.io/en/stable/reference/shapely.Polygon.html) object."
   ]
  },
  {
   "cell_type": "code",
   "execution_count": null,
   "id": "cdbc3de1",
   "metadata": {},
   "outputs": [],
   "source": [
    "import matplotlib.pyplot as plt\n",
    "import numpy as np\n",
    "from shapely import Polygon\n",
    "\n",
    "from sectionproperties.pre import Geometry\n",
    "from sectionproperties.pre.library import rectangular_section, triangular_section\n",
    "from sectionproperties.analysis import Section"
   ]
  },
  {
   "cell_type": "markdown",
   "id": "884e6c68",
   "metadata": {},
   "source": [
    "## Define the Calculation Engine\n",
    "\n",
    "It’s better to collect the relevant section property calculation in a single function. We are only interested in the torsion constant, so this is straightforward enough."
   ]
  },
  {
   "cell_type": "code",
   "execution_count": null,
   "id": "2525bcef",
   "metadata": {},
   "outputs": [],
   "source": [
    "def get_section_j(\n",
    "    geom: Geometry,\n",
    "    ms: float,\n",
    "    plot_geom: bool = False,\n",
    ") -> float:\n",
    "    \"\"\"Retrieve the torsion constant given a geometry (geom) and mesh size (ms).\"\"\"\n",
    "    geom.create_mesh(mesh_sizes=[ms])\n",
    "    sec = Section(geometry=geom)\n",
    "\n",
    "    if plot_geom:\n",
    "        sec.plot_mesh(materials=False)\n",
    "\n",
    "    sec.calculate_frame_properties()\n",
    "\n",
    "    return sec.get_j()"
   ]
  },
  {
   "cell_type": "markdown",
   "id": "bf4373b9",
   "metadata": {},
   "source": [
    "## Define the Mesh Density\n",
    "\n",
    "The number of elements per unit area is an important input to the calculations even though we are only examining ratios of the results. A nominal value of 100 is reasonable."
   ]
  },
  {
   "cell_type": "code",
   "execution_count": null,
   "id": "28b022ea",
   "metadata": {},
   "outputs": [],
   "source": [
    "n = 100  # mesh density"
   ]
  },
  {
   "cell_type": "markdown",
   "id": "4a652cb4",
   "metadata": {},
   "source": [
    "## Create and Analyse the Section\n",
    "\n",
    "This function accepts the width ``b`` and a slope ``s`` to create the trapezoid. Since we are only interested in relative results, the nominal dimensions are immaterial. There are a few ways to parametrize the problem, but it has been found that setting the middle height of trapezoid (i.e. the average height) to a unit value works fine."
   ]
  },
  {
   "cell_type": "code",
   "execution_count": null,
   "id": "e89d902f",
   "metadata": {},
   "outputs": [],
   "source": [
    "def do_section(\n",
    "    b: float,\n",
    "    s: float,\n",
    "    d_mid: float = 1.0,\n",
    "    plot_geom=False,\n",
    ") -> tuple[float, float, float, float]:\n",
    "    \"\"\"Calculates the torsion constant for a trapezoid and rectangle.\"\"\"\n",
    "    delta = s * d_mid\n",
    "    d1 = d_mid - delta\n",
    "    d2 = d_mid + delta\n",
    "\n",
    "    # compute mesh size\n",
    "    ms = d_mid * b / n\n",
    "\n",
    "    # define the points of the trapezoid\n",
    "    points = [\n",
    "        (0, 0),\n",
    "        (0, d1),\n",
    "        (b, d2),\n",
    "        (b, 0),\n",
    "    ]\n",
    "\n",
    "    # create geometry\n",
    "    if s < 1.0:\n",
    "        trap_geom = Geometry(geom=Polygon(points))\n",
    "    else:\n",
    "        trap_geom = triangular_section(h=d2, b=b)\n",
    "\n",
    "    # calculate torsion constant (trapezoid)\n",
    "    jt = get_section_j(geom=trap_geom, ms=ms, plot_geom=plot_geom)\n",
    "\n",
    "    # calculate torsion constant (rectangle)\n",
    "    rect_geom = rectangular_section(d=(d1 + d2) / 2, b=b)\n",
    "    jr = get_section_j(geom=rect_geom, ms=ms, plot_geom=plot_geom)\n",
    "\n",
    "    return jt, jr, d1, d2"
   ]
  },
  {
   "cell_type": "markdown",
   "id": "fe6f6742",
   "metadata": {},
   "source": [
    "## Example Section\n",
    "\n",
    "The analysis for a particular section looks as follows:"
   ]
  },
  {
   "cell_type": "code",
   "execution_count": null,
   "id": "c5ed21d0",
   "metadata": {},
   "outputs": [],
   "source": [
    "b, s = 4.0, 0.3\n",
    "jt, jr, d1, d2 = do_section(b=b, s=s, plot_geom=True)\n",
    "print(f\"{b=:.1f}; {s=:.1f}; {jr=:.3f}; {jt=:.3f}; {jr/jt=:.3f}\")"
   ]
  },
  {
   "cell_type": "markdown",
   "id": "6b3aebea",
   "metadata": {},
   "source": [
    "## Create Loop Variables\n",
    "\n",
    "The slope ``s`` is 0 for a rectangle, and 1 for a triangle. A range of ``s``, between 0.0 and 1.0, and a range of ``b``, between 1.0 and 10.0, are considered here (but can be extended)."
   ]
  },
  {
   "cell_type": "code",
   "execution_count": null,
   "id": "16ad7e65",
   "metadata": {},
   "outputs": [],
   "source": [
    "b_list = np.logspace(0, np.log10(10.0), 10)\n",
    "s_list = np.linspace(0.0, 1.0, 10)\n",
    "j_rect = np.zeros((len(b_list), len(s_list)))\n",
    "j_trap = np.zeros((len(b_list), len(s_list)))"
   ]
  },
  {
   "cell_type": "markdown",
   "id": "c1a772e5",
   "metadata": {},
   "source": [
    "## The Main Loop\n",
    "\n",
    "Execute the double loop to get the ratios for combinations of ``s`` and ``b``."
   ]
  },
  {
   "cell_type": "code",
   "execution_count": null,
   "id": "312a2c2c",
   "metadata": {},
   "outputs": [],
   "source": [
    "for i, b in enumerate(b_list):\n",
    "    for j, s in enumerate(s_list):\n",
    "        jt, jr, d1, d2 = do_section(b=b, s=s)\n",
    "        j_trap[i][j] = jt\n",
    "        j_rect[i][j] = jr"
   ]
  },
  {
   "cell_type": "markdown",
   "id": "a835afde",
   "metadata": {},
   "source": [
    "## Calculate the Ratios\n",
    "\n",
    "Courtesy of numpy, this is easy:"
   ]
  },
  {
   "cell_type": "code",
   "execution_count": null,
   "id": "e81847f1",
   "metadata": {},
   "outputs": [],
   "source": [
    "j_ratio = j_rect / j_trap"
   ]
  },
  {
   "cell_type": "markdown",
   "id": "c4d20ab7",
   "metadata": {},
   "source": [
    "## Plot the Results\n",
    "\n",
    "Here we highlight a few of the contours to illustrate the accuracy and behaviour of the approximation."
   ]
  },
  {
   "cell_type": "code",
   "execution_count": null,
   "id": "ebeda832",
   "metadata": {},
   "outputs": [],
   "source": [
    "# setup plot\n",
    "plt.figure(figsize=(12, 6))\n",
    "\n",
    "# colorbar levels\n",
    "levels = np.arange(start=0.5, stop=1.5, step=0.05)\n",
    "\n",
    "# contour line plot\n",
    "cs = plt.contour(\n",
    "    s_list,\n",
    "    b_list,\n",
    "    j_ratio,\n",
    "    levels=[0.95, 0.99, 1.00, 1.01, 1.05],\n",
    "    colors=(\"k\",),\n",
    "    linestyles=(\":\",),\n",
    "    linewidths=(1.2,),\n",
    ")\n",
    "plt.clabel(cs, colors=\"k\", fontsize=10)\n",
    "\n",
    "# filled contour plot\n",
    "plt.contourf(s_list, b_list, j_ratio, 25, cmap=\"Wistia\", levels=levels)\n",
    "\n",
    "# plot settings\n",
    "plt.minorticks_on()\n",
    "plt.grid(which=\"both\", ls=\":\")\n",
    "plt.xlabel(r\"Slope $s = (d_2-d_1)/(d_2+d_1); d_2\\geq d_1, d_1\\geq 0$\")\n",
    "plt.ylabel(\"Aspect $b/d_{ave}; d_{ave} = (d_1 + d_2)/2$\")\n",
    "plt.colorbar()\n",
    "plt.title(\n",
    "    r\"Accuracy of rectangular approximation to trapezoid torsion constant $J_{rect}\\, /\\, J_{trapz}$\",\n",
    "    multialignment=\"center\",\n",
    ")\n",
    "plt.show()"
   ]
  },
  {
   "cell_type": "markdown",
   "id": "13fef535",
   "metadata": {},
   "source": [
    "As expected, when the section is rectangular ``s=0``, the error is small, but as it increases towards a triangle ``s=1``, the accuracy generally reduces. However, there is an interesting line at an aspect ratio of about 2.7 where the rectangular approximation is always equal to the trapezoid’s torsion constant."
   ]
  }
 ],
 "metadata": {
  "kernelspec": {
   "display_name": "Python 3 (ipykernel)",
   "language": "python",
   "name": "python3"
  },
  "language_info": {
   "codemirror_mode": {
    "name": "ipython",
    "version": 3
   },
   "file_extension": ".py",
   "mimetype": "text/x-python",
   "name": "python",
   "nbconvert_exporter": "python",
   "pygments_lexer": "ipython3",
   "version": "3.9.17"
  }
 },
 "nbformat": 4,
 "nbformat_minor": 5
}
