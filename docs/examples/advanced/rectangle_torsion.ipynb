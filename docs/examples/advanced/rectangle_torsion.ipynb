{
 "cells": [
  {
   "cell_type": "markdown",
   "id": "0",
   "metadata": {},
   "source": [
    "# Torsion Constant of a Rectangle"
   ]
  },
  {
   "cell_type": "markdown",
   "id": "1",
   "metadata": {},
   "source": [
    "This example shows how `sectionproperties` can be used as part of a script to conduct multiple analyses. In this example, we examine how the torsion constant varies with the aspect ratio of a rectangle section."
   ]
  },
  {
   "cell_type": "markdown",
   "id": "2",
   "metadata": {},
   "source": [
    "## Setup Analysis Parameters"
   ]
  },
  {
   "cell_type": "code",
   "execution_count": null,
   "id": "3",
   "metadata": {},
   "outputs": [],
   "source": [
    "import numpy as np\n",
    "\n",
    "# list of aspect ratios to analyse (10^0 = 1 to 10^1.301 = 20)\n",
    "# logspace used to concentrate data near aspect ratio = 1\n",
    "aspect_ratios = np.logspace(0, 1.301, 50)\n",
    "torsion_constants = []  # list of torsion constant results\n",
    "area = 1  # cross-section area\n",
    "n = 100  # approximate number of finite elements in each analysis"
   ]
  },
  {
   "cell_type": "markdown",
   "id": "4",
   "metadata": {},
   "source": [
    "## Analysis Loop"
   ]
  },
  {
   "cell_type": "code",
   "execution_count": null,
   "id": "5",
   "metadata": {},
   "outputs": [],
   "source": [
    "from sectionproperties.analysis import Section\n",
    "from sectionproperties.pre.library import rectangular_section\n",
    "\n",
    "for ar in aspect_ratios:\n",
    "    # calculate rectangle dimensions\n",
    "    d = np.sqrt(ar)\n",
    "    b = 1 / d\n",
    "    geom = rectangular_section(d=d, b=b)\n",
    "\n",
    "    # create mesh and Section object\n",
    "    ms = d * b / n\n",
    "    geom.create_mesh(mesh_sizes=[ms])\n",
    "    sec = Section(geometry=geom)\n",
    "\n",
    "    # perform analysis\n",
    "    sec.calculate_frame_properties()\n",
    "\n",
    "    # save the torsion constant\n",
    "    torsion_constants.append(sec.get_j())"
   ]
  },
  {
   "cell_type": "markdown",
   "id": "6",
   "metadata": {},
   "source": [
    "## Plot Results"
   ]
  },
  {
   "cell_type": "code",
   "execution_count": null,
   "id": "7",
   "metadata": {},
   "outputs": [],
   "source": [
    "import matplotlib.pyplot as plt\n",
    "\n",
    "_, ax = plt.subplots()\n",
    "ax.plot(aspect_ratios, torsion_constants, \"k-\")\n",
    "ax.set_xlim(0, 21)\n",
    "ax.set_ylim(0, 0.15)\n",
    "ax.set_xlabel(\"Aspect Ratio [d/b]\")\n",
    "ax.set_ylabel(\"Torsion Constant [J]\")\n",
    "ax.set_title(\"Rectangular Section Torsion Constant\")\n",
    "ax.grid()\n",
    "plt.show()"
   ]
  }
 ],
 "metadata": {
  "kernelspec": {
   "display_name": "Python 3 (ipykernel)",
   "language": "python",
   "name": "python3"
  },
  "language_info": {
   "codemirror_mode": {
    "name": "ipython",
    "version": 3
   },
   "file_extension": ".py",
   "mimetype": "text/x-python",
   "name": "python",
   "nbconvert_exporter": "python",
   "pygments_lexer": "ipython3",
   "version": "3.9.17"
  }
 },
 "nbformat": 4,
 "nbformat_minor": 5
}
