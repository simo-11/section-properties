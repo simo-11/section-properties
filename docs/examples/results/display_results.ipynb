{
 "cells": [
  {
   "cell_type": "markdown",
   "id": "dad9932d",
   "metadata": {},
   "source": [
    "# Display Results"
   ]
  },
  {
   "cell_type": "markdown",
   "id": "34917462-c4e8-49cb-8e97-2308ef53380b",
   "metadata": {},
   "source": [
    "This example demonstrates how to display results in `sectionproperties`.\n",
    "\n",
    "A 165.1 x 5.4 CHS will be analysed and the differences in the [display_results()](../../gen/sectionproperties.analysis.section.Section.rst#sectionproperties.analysis.section.Section.display_results) output highlighted."
   ]
  },
  {
   "cell_type": "markdown",
   "id": "8856ea49-5b65-48af-b82b-739db7eef7b1",
   "metadata": {},
   "source": [
    "## Create Geometry and Section"
   ]
  },
  {
   "cell_type": "code",
   "execution_count": null,
   "id": "1923ef2b-45d7-443f-a20e-b6e41e6431ce",
   "metadata": {},
   "outputs": [],
   "source": [
    "from sectionproperties.pre.library import circular_hollow_section\n",
    "from sectionproperties.analysis import Section\n",
    "\n",
    "geom = circular_hollow_section(d=165.1, t=5.4, n=64)\n",
    "geom.create_mesh(mesh_sizes=10)\n",
    "sec = Section(geometry=geom)\n",
    "sec.plot_mesh(materials=False)"
   ]
  },
  {
   "cell_type": "markdown",
   "id": "252dfbb8-dad0-41ec-942a-0194ef1f8ffe",
   "metadata": {},
   "source": [
    "The `display_results()` method will print all the results that have been calculated for the `Section` object. If an analysis has not been conducted, no results will display."
   ]
  },
  {
   "cell_type": "code",
   "execution_count": null,
   "id": "17349177-75fe-471b-aef8-c945a7865ede",
   "metadata": {},
   "outputs": [],
   "source": [
    "sec.display_results()"
   ]
  },
  {
   "cell_type": "code",
   "execution_count": null,
   "id": "f46b27bb-0050-4d19-9472-2859e0f1c3a1",
   "metadata": {},
   "outputs": [],
   "source": [
    "sec.calculate_geometric_properties()\n",
    "sec.display_results()"
   ]
  },
  {
   "cell_type": "markdown",
   "id": "a615e254-1b22-4b1a-b3e2-51590b75e406",
   "metadata": {},
   "source": [
    "The formatting can be changed by passing a formatting string to the `fmt` argument, see [here](https://docs.python.org/3/library/string.html#format-specification-mini-language) for more information on string formatting."
   ]
  },
  {
   "cell_type": "code",
   "execution_count": null,
   "id": "086dd3f2-1dfd-4ee9-afdd-090d4591aff2",
   "metadata": {},
   "outputs": [],
   "source": [
    "sec.display_results(fmt=\".1f\")"
   ]
  },
  {
   "cell_type": "markdown",
   "id": "75232e31-45c1-47d3-88aa-a8667f552596",
   "metadata": {},
   "source": [
    "When more analyses are conducted, more results are displayed."
   ]
  },
  {
   "cell_type": "code",
   "execution_count": null,
   "id": "2031d1b7-f118-4921-ae7e-5b13171f47bb",
   "metadata": {},
   "outputs": [],
   "source": [
    "sec.calculate_warping_properties()\n",
    "sec.calculate_plastic_properties()\n",
    "sec.display_results()"
   ]
  },
  {
   "cell_type": "markdown",
   "id": "94348f8a-a07b-4622-96d2-0eccaaa1d5d3",
   "metadata": {},
   "source": [
    "Because we have not specified any material properties, the displayed properties are purely geometric. If we assign a steel material to the CHS, we will see some results change to material property weighted values (see [here](../../user_guide/results.rst#how-material-properties-affect-results) for more information on how material properties affect results)."
   ]
  },
  {
   "cell_type": "code",
   "execution_count": null,
   "id": "acb87c8a-dec7-4f37-b1b0-087f356e18a6",
   "metadata": {},
   "outputs": [],
   "source": [
    "from sectionproperties.pre import Material\n",
    "\n",
    "# create steel material\n",
    "steel = Material(\n",
    "    name=\"Steel\",\n",
    "    elastic_modulus=200e3,  # N/mm^2 (MPa)\n",
    "    poissons_ratio=0.3,  # unitless\n",
    "    density=7.85e-6,  # kg/mm^3\n",
    "    yield_strength=500,  # N/mm^2 (MPa)\n",
    "    color=\"grey\",\n",
    ")\n",
    "geom.material = steel  # assign steel to the CHS\n",
    "\n",
    "# remesh and recreate Section object\n",
    "geom.create_mesh(mesh_sizes=5)\n",
    "sec = Section(geometry=geom)\n",
    "\n",
    "# perform analysis and display results\n",
    "sec.calculate_geometric_properties()\n",
    "sec.calculate_warping_properties()\n",
    "sec.calculate_plastic_properties()\n",
    "sec.display_results(fmt=\".3e\")"
   ]
  }
 ],
 "metadata": {
  "kernelspec": {
   "display_name": "Python 3 (ipykernel)",
   "language": "python",
   "name": "python3"
  },
  "language_info": {
   "codemirror_mode": {
    "name": "ipython",
    "version": 3
   },
   "file_extension": ".py",
   "mimetype": "text/x-python",
   "name": "python",
   "nbconvert_exporter": "python",
   "pygments_lexer": "ipython3",
   "version": "3.9.17"
  }
 },
 "nbformat": 4,
 "nbformat_minor": 5
}
