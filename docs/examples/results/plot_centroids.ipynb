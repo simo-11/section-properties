{
 "cells": [
  {
   "cell_type": "markdown",
   "id": "2e135651",
   "metadata": {},
   "source": [
    "# Plot Centroids"
   ]
  },
  {
   "cell_type": "markdown",
   "id": "8c134c90-85de-4044-a4ec-9f3cae0ab63a",
   "metadata": {},
   "source": [
    "This example demonstrates how to plot centroids in `sectionproperties`.\n",
    "\n",
    "The `plot_centroids()` method will display a plot of the finite element mesh along with any centroids that have been calculated:\n",
    "\n",
    "- Geometric analysis - geometric centroid and principal axes\n",
    "- Warping analysis - shear centre\n",
    "- Plastic analysis - plastic centroid"
   ]
  },
  {
   "cell_type": "markdown",
   "id": "92fbca71-d90d-414a-bee8-723d81ff4758",
   "metadata": {},
   "source": [
    "This example will plot the centroids for a 200 mm deep and 12 mm thick bulb section with a 10 mm radius."
   ]
  },
  {
   "cell_type": "code",
   "execution_count": null,
   "id": "d7ef941f-9857-4d29-8a68-2b74861213a8",
   "metadata": {},
   "outputs": [],
   "source": [
    "from sectionproperties.pre.library import bulb_section\n",
    "from sectionproperties.analysis import Section\n",
    "\n",
    "geom = bulb_section(d=200, b=50, t=12, r=10, n_r=8)\n",
    "geom.create_mesh(mesh_sizes=20)\n",
    "sec = Section(geometry=geom)\n",
    "sec.plot_mesh(materials=False)"
   ]
  },
  {
   "cell_type": "markdown",
   "id": "be15761e-67b2-4885-aa9b-427ada244e8a",
   "metadata": {},
   "source": [
    "## Geometric Analysis"
   ]
  },
  {
   "cell_type": "code",
   "execution_count": null,
   "id": "87c866c7-6f10-4878-b247-07a7c0eee9e6",
   "metadata": {},
   "outputs": [],
   "source": [
    "sec.calculate_geometric_properties()\n",
    "sec.plot_centroids()"
   ]
  },
  {
   "cell_type": "markdown",
   "id": "fd9ea032-9e34-49ce-a700-7705b127d768",
   "metadata": {},
   "source": [
    "## Warping Analysis\n",
    "\n",
    "Note that the title and transparency can be changed by specifying `title` and `alpha` respectively."
   ]
  },
  {
   "cell_type": "code",
   "execution_count": null,
   "id": "ef9dae62-247f-4d06-8d62-ff22ff34cc06",
   "metadata": {},
   "outputs": [],
   "source": [
    "sec.calculate_warping_properties()\n",
    "sec.plot_centroids(title=\"Geometric & Warping Centroids\", alpha=0.2)"
   ]
  },
  {
   "cell_type": "markdown",
   "id": "fa445121-19b8-4965-a411-b37082bec8f3",
   "metadata": {},
   "source": [
    "## Plastic Analysis"
   ]
  },
  {
   "cell_type": "code",
   "execution_count": null,
   "id": "05f13575-21f2-4506-b7f7-677dd626bb20",
   "metadata": {},
   "outputs": [],
   "source": [
    "sec.calculate_plastic_properties()\n",
    "sec.plot_centroids()"
   ]
  }
 ],
 "metadata": {
  "kernelspec": {
   "display_name": "Python 3 (ipykernel)",
   "language": "python",
   "name": "python3"
  },
  "language_info": {
   "codemirror_mode": {
    "name": "ipython",
    "version": 3
   },
   "file_extension": ".py",
   "mimetype": "text/x-python",
   "name": "python",
   "nbconvert_exporter": "python",
   "pygments_lexer": "ipython3",
   "version": "3.9.17"
  }
 },
 "nbformat": 4,
 "nbformat_minor": 5
}
