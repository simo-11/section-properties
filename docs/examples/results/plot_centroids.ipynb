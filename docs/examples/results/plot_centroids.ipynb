{
 "cells": [
  {
   "cell_type": "markdown",
   "id": "0",
   "metadata": {},
   "source": [
    "# Plot Centroids"
   ]
  },
  {
   "cell_type": "markdown",
   "id": "1",
   "metadata": {},
   "source": [
    "This example demonstrates how to plot centroids in `sectionproperties`.\n",
    "\n",
    "The `plot_centroids()` method will display a plot of the finite element mesh along with any centroids that have been calculated:\n",
    "\n",
    "- Geometric analysis - geometric centroid and principal axes\n",
    "- Warping analysis - shear centre\n",
    "- Plastic analysis - plastic centroid"
   ]
  },
  {
   "cell_type": "markdown",
   "id": "2",
   "metadata": {},
   "source": [
    "This example will plot the centroids for a 200 mm deep and 12 mm thick bulb section with a 10 mm radius."
   ]
  },
  {
   "cell_type": "code",
   "execution_count": null,
   "id": "3",
   "metadata": {},
   "outputs": [],
   "source": [
    "from sectionproperties.analysis import Section\n",
    "from sectionproperties.pre.library import bulb_section\n",
    "\n",
    "geom = bulb_section(d=200, b=50, t=12, r=10, n_r=8)\n",
    "geom.create_mesh(mesh_sizes=20)\n",
    "sec = Section(geometry=geom)\n",
    "sec.plot_mesh(materials=False)"
   ]
  },
  {
   "cell_type": "markdown",
   "id": "4",
   "metadata": {},
   "source": [
    "## Geometric Analysis"
   ]
  },
  {
   "cell_type": "code",
   "execution_count": null,
   "id": "5",
   "metadata": {},
   "outputs": [],
   "source": [
    "sec.calculate_geometric_properties()\n",
    "sec.plot_centroids()"
   ]
  },
  {
   "cell_type": "markdown",
   "id": "6",
   "metadata": {},
   "source": [
    "## Warping Analysis\n",
    "\n",
    "Note that the title and transparency can be changed by specifying `title` and `alpha` respectively."
   ]
  },
  {
   "cell_type": "code",
   "execution_count": null,
   "id": "7",
   "metadata": {},
   "outputs": [],
   "source": [
    "sec.calculate_warping_properties()\n",
    "sec.plot_centroids(title=\"Geometric & Warping Centroids\", alpha=0.2)"
   ]
  },
  {
   "cell_type": "markdown",
   "id": "8",
   "metadata": {},
   "source": [
    "## Plastic Analysis"
   ]
  },
  {
   "cell_type": "code",
   "execution_count": null,
   "id": "9",
   "metadata": {},
   "outputs": [],
   "source": [
    "sec.calculate_plastic_properties()\n",
    "sec.plot_centroids()"
   ]
  }
 ],
 "metadata": {
  "kernelspec": {
   "display_name": "Python 3 (ipykernel)",
   "language": "python",
   "name": "python3"
  },
  "language_info": {
   "codemirror_mode": {
    "name": "ipython",
    "version": 3
   },
   "file_extension": ".py",
   "mimetype": "text/x-python",
   "name": "python",
   "nbconvert_exporter": "python",
   "pygments_lexer": "ipython3",
   "version": "3.9.17"
  }
 },
 "nbformat": 4,
 "nbformat_minor": 5
}
