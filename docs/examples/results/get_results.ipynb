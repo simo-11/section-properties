{
 "cells": [
  {
   "cell_type": "markdown",
   "id": "52a13fd5",
   "metadata": {},
   "source": [
    "# Retrieving Section Properties"
   ]
  },
  {
   "cell_type": "markdown",
   "id": "b20875b6",
   "metadata": {},
   "source": [
    "This example demonstrates how to retrieve cross-section properties in `sectionproperties`. It is suggested that you are familiar with [How Material Properties Affect Results](../../user_guide/results.rst#how-material-properties-affect-results) before reading this example."
   ]
  },
  {
   "cell_type": "markdown",
   "id": "8e940e3e-f6bc-4afc-b6e9-fb02eb063320",
   "metadata": {},
   "source": [
    "## Geometric-only Properties\n",
    "\n",
    "This section retrieves the frame properties for a 150 x 100 x 8 UA stiffened by a 125 x 12 plate at its base."
   ]
  },
  {
   "cell_type": "code",
   "execution_count": null,
   "id": "a9e5ab7c-1a28-47d6-a30e-b10b0e3b770b",
   "metadata": {},
   "outputs": [],
   "source": [
    "from sectionproperties.analysis import Section\n",
    "from sectionproperties.pre.library import angle_section, rectangular_section\n",
    "\n",
    "\n",
    "angle = angle_section(d=150, b=100, t=8, r_r=12, r_t=5, n_r=8)\n",
    "plate = rectangular_section(d=12, b=125)\n",
    "geom = angle + plate.shift_section(x_offset=-12.5, y_offset=-12)\n",
    "geom.create_mesh(mesh_sizes=[10, 25])\n",
    "sec = Section(geometry=geom)\n",
    "sec.plot_mesh(materials=False)"
   ]
  },
  {
   "cell_type": "markdown",
   "id": "f810fe20-3972-4ae2-af11-21e6d22e6544",
   "metadata": {},
   "source": [
    "We can perform a frame analysis and use the various `get` methods to retrieve the cross-section properties required for a frame analysis."
   ]
  },
  {
   "cell_type": "code",
   "execution_count": null,
   "id": "0793fbed-ede6-4495-8a48-deb322a63689",
   "metadata": {},
   "outputs": [],
   "source": [
    "sec.calculate_frame_properties()\n",
    "area = sec.get_area()\n",
    "ixx_c, iyy_c, ixy_c = sec.get_ic()\n",
    "phi = sec.get_phi()\n",
    "j = sec.get_j()"
   ]
  },
  {
   "cell_type": "code",
   "execution_count": null,
   "id": "3a4ad327-201d-4835-abbc-4e4c0d25db02",
   "metadata": {},
   "outputs": [],
   "source": [
    "print(f\"Area = {area:.1f} mm2\")\n",
    "print(f\"Ixx = {ixx_c:.3e} mm4\")\n",
    "print(f\"Iyy = {iyy_c:.3e} mm4\")\n",
    "print(f\"Ixy = {ixy_c:.3e} mm4\")\n",
    "print(f\"Principal axis angle = {phi:.1f} deg\")\n",
    "print(f\"Torsion constant = {j:.3e} mm4\")"
   ]
  },
  {
   "cell_type": "markdown",
   "id": "3ece8454-fecc-4d42-9d5b-3e1e836f3007",
   "metadata": {},
   "source": [
    "## Composite Properties\n",
    "\n",
    "To demonstrate how to retrieve cross-section properties from a composite analysis, a reinforced concrete beam will be modelled.\n",
    "\n",
    "First we create our concrete and steel material properties."
   ]
  },
  {
   "cell_type": "code",
   "execution_count": null,
   "id": "36ec9034-bc4f-43c4-bc19-15bcb6e962db",
   "metadata": {},
   "outputs": [],
   "source": [
    "from sectionproperties.pre import Material\n",
    "\n",
    "\n",
    "concrete = Material(\n",
    "    name=\"Concrete\",\n",
    "    elastic_modulus=30.1e3,\n",
    "    poissons_ratio=0.2,\n",
    "    yield_strength=32,\n",
    "    density=2.4e-6,\n",
    "    color=\"lightgrey\",\n",
    ")\n",
    "steel = Material(\n",
    "    name=\"Steel\",\n",
    "    elastic_modulus=200e3,\n",
    "    poissons_ratio=0.3,\n",
    "    yield_strength=500,\n",
    "    density=7.85e-6,\n",
    "    color=\"grey\",\n",
    ")"
   ]
  },
  {
   "cell_type": "markdown",
   "id": "6cf97b06-8e9a-44a9-bd21-6128d9e9e668",
   "metadata": {},
   "source": [
    "Next we define our reinforced concrete geometry, generate a mesh and a `Section` object."
   ]
  },
  {
   "cell_type": "code",
   "execution_count": null,
   "id": "5ff6a61c-2c23-4093-873f-1e9367a0a214",
   "metadata": {},
   "outputs": [],
   "source": [
    "from sectionproperties.pre.library import concrete_rectangular_section\n",
    "\n",
    "\n",
    "geom = concrete_rectangular_section(\n",
    "    d=600,\n",
    "    b=300,\n",
    "    dia_top=16,\n",
    "    area_top=200,\n",
    "    n_top=3,\n",
    "    c_top=20,\n",
    "    dia_bot=20,\n",
    "    area_bot=310,\n",
    "    n_bot=3,\n",
    "    c_bot=30,\n",
    "    n_circle=8,\n",
    "    conc_mat=concrete,\n",
    "    steel_mat=steel,\n",
    ")\n",
    "\n",
    "geom.create_mesh(mesh_sizes=2500)\n",
    "sec = Section(geometry=geom)\n",
    "sec.plot_mesh()"
   ]
  },
  {
   "cell_type": "markdown",
   "id": "17314254-3e1e-4d75-adb0-95795dd872ca",
   "metadata": {},
   "source": [
    "In this case, we are interested in obtaining the uncracked axial rigidity, flexural rigidity and torsional rigidity. We will therefore conduct a frame analysis."
   ]
  },
  {
   "cell_type": "code",
   "execution_count": null,
   "id": "a7a69e56-e990-4fe7-8c68-d9cdf91cc707",
   "metadata": {},
   "outputs": [],
   "source": [
    "props = sec.calculate_frame_properties()"
   ]
  },
  {
   "cell_type": "markdown",
   "id": "09b7f759-cb86-499f-a2b4-9d63db1bb383",
   "metadata": {},
   "source": [
    "Note that we cannot retrieve the geometric second moments of area as in the previous example because we have conducted a composite analysis (i.e. provided material properties)."
   ]
  },
  {
   "cell_type": "code",
   "execution_count": null,
   "id": "558bb06a-dd58-490a-bda1-abaf56d62ff5",
   "metadata": {
    "editable": true,
    "slideshow": {
     "slide_type": ""
    },
    "tags": [
     "raises-exception"
    ]
   },
   "outputs": [],
   "source": [
    "sec.get_ic()"
   ]
  },
  {
   "cell_type": "markdown",
   "id": "366c17be-c42e-49a1-b099-6be6e7fd9f04",
   "metadata": {},
   "source": [
    "The above error message is helpful, informing us that we should instead use `get_eic()`."
   ]
  },
  {
   "cell_type": "code",
   "execution_count": null,
   "id": "4cdaefe3-f41d-44d0-a3b8-a0a0df218856",
   "metadata": {},
   "outputs": [],
   "source": [
    "# get relevant modulus weighted properties\n",
    "eixx, _, _ = sec.get_eic()\n",
    "ea = sec.get_ea()\n",
    "ej = sec.get_ej()\n",
    "\n",
    "# print results\n",
    "print(f\"Axial rigidity (E.A): {ea:.3e} N\")\n",
    "print(f\"Flexural rigidity (E.I): {eixx:.3e} N.mm2\")\n",
    "\n",
    "# note we are usually interested in G.J not E.J\n",
    "# geometric analysis required for effective material properties\n",
    "sec.calculate_geometric_properties()\n",
    "gj = sec.get_g_eff() / sec.get_e_eff() * ej\n",
    "print(f\"Torsional rigidity (G.J): {gj:.3e} N.mm2\")"
   ]
  },
  {
   "cell_type": "markdown",
   "id": "892f53c8-fb82-4972-8a75-ecc34d63aaba",
   "metadata": {},
   "source": [
    "Note that transformed cross-section properties are often required for design purposes. We can use the `e_ref` argument to provide either a material of elastic modulus to obtain transformed properties in `sectionproperties`."
   ]
  },
  {
   "cell_type": "code",
   "execution_count": null,
   "id": "4e6c8e2d-fded-4faa-a7ca-200c8f8252e4",
   "metadata": {},
   "outputs": [],
   "source": [
    "print(f\"E.I = {eixx:.3e} N.mm2\")\n",
    "print(f\"I = {sec.get_eic(e_ref=concrete)[0]:.3e} mm4\")\n",
    "print(f\"I = {sec.get_eic(e_ref=30.1e3)[0]:.3e} mm4\")"
   ]
  },
  {
   "cell_type": "markdown",
   "id": "fc525c29-31b5-46a8-a948-4621f291aa09",
   "metadata": {},
   "source": [
    "Note that the transformed second moment of area includes the contribution of the steel and is therefore larger than that of a 600D x 300W rectangle."
   ]
  },
  {
   "cell_type": "code",
   "execution_count": null,
   "id": "0ac29274-969b-407f-8aac-9ce350926854",
   "metadata": {},
   "outputs": [],
   "source": [
    "print(f\"I_rect = {300 * 600**3 / 12:.3e} mm4\")"
   ]
  }
 ],
 "metadata": {
  "kernelspec": {
   "display_name": "Python 3 (ipykernel)",
   "language": "python",
   "name": "python3"
  },
  "language_info": {
   "codemirror_mode": {
    "name": "ipython",
    "version": 3
   },
   "file_extension": ".py",
   "mimetype": "text/x-python",
   "name": "python",
   "nbconvert_exporter": "python",
   "pygments_lexer": "ipython3",
   "version": "3.9.17"
  }
 },
 "nbformat": 4,
 "nbformat_minor": 5
}
