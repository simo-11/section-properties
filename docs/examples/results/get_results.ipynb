{
 "cells": [
  {
   "cell_type": "markdown",
   "id": "0",
   "metadata": {},
   "source": [
    "# Retrieving Section Properties"
   ]
  },
  {
   "cell_type": "markdown",
   "id": "1",
   "metadata": {},
   "source": [
    "This example demonstrates how to retrieve cross-section properties in `sectionproperties`. It is suggested that you are familiar with [How Material Properties Affect Results](../../user_guide/results.rst#how-material-properties-affect-results) before reading this example."
   ]
  },
  {
   "cell_type": "markdown",
   "id": "2",
   "metadata": {},
   "source": [
    "## Geometric-only Properties\n",
    "\n",
    "This section retrieves the frame properties for a 150 x 100 x 8 UA stiffened by a 125 x 12 plate at its base."
   ]
  },
  {
   "cell_type": "code",
   "execution_count": null,
   "id": "3",
   "metadata": {},
   "outputs": [],
   "source": [
    "from sectionproperties.analysis import Section\n",
    "from sectionproperties.pre.library import angle_section, rectangular_section\n",
    "\n",
    "angle = angle_section(d=150, b=100, t=8, r_r=12, r_t=5, n_r=8)\n",
    "plate = rectangular_section(d=12, b=125)\n",
    "geom = angle + plate.shift_section(x_offset=-12.5, y_offset=-12)\n",
    "geom.create_mesh(mesh_sizes=[10, 25])\n",
    "sec = Section(geometry=geom)\n",
    "sec.plot_mesh(materials=False)"
   ]
  },
  {
   "cell_type": "markdown",
   "id": "4",
   "metadata": {},
   "source": [
    "We can perform a frame analysis and use the various `get` methods to retrieve the cross-section properties required for a frame analysis."
   ]
  },
  {
   "cell_type": "code",
   "execution_count": null,
   "id": "5",
   "metadata": {},
   "outputs": [],
   "source": [
    "sec.calculate_frame_properties()\n",
    "area = sec.get_area()\n",
    "ixx_c, iyy_c, ixy_c = sec.get_ic()\n",
    "phi = sec.get_phi()\n",
    "j = sec.get_j()"
   ]
  },
  {
   "cell_type": "code",
   "execution_count": null,
   "id": "6",
   "metadata": {},
   "outputs": [],
   "source": [
    "print(f\"Area = {area:.1f} mm2\")\n",
    "print(f\"Ixx = {ixx_c:.3e} mm4\")\n",
    "print(f\"Iyy = {iyy_c:.3e} mm4\")\n",
    "print(f\"Ixy = {ixy_c:.3e} mm4\")\n",
    "print(f\"Principal axis angle = {phi:.1f} deg\")\n",
    "print(f\"Torsion constant = {j:.3e} mm4\")"
   ]
  },
  {
   "cell_type": "markdown",
   "id": "7",
   "metadata": {},
   "source": [
    "## Composite Properties\n",
    "\n",
    "To demonstrate how to retrieve cross-section properties from a composite analysis, a reinforced concrete beam will be modelled.\n",
    "\n",
    "First we create our concrete and steel material properties."
   ]
  },
  {
   "cell_type": "code",
   "execution_count": null,
   "id": "8",
   "metadata": {},
   "outputs": [],
   "source": [
    "from sectionproperties.pre import Material\n",
    "\n",
    "concrete = Material(\n",
    "    name=\"Concrete\",\n",
    "    elastic_modulus=30.1e3,\n",
    "    poissons_ratio=0.2,\n",
    "    yield_strength=32,\n",
    "    density=2.4e-6,\n",
    "    color=\"lightgrey\",\n",
    ")\n",
    "steel = Material(\n",
    "    name=\"Steel\",\n",
    "    elastic_modulus=200e3,\n",
    "    poissons_ratio=0.3,\n",
    "    yield_strength=500,\n",
    "    density=7.85e-6,\n",
    "    color=\"grey\",\n",
    ")"
   ]
  },
  {
   "cell_type": "markdown",
   "id": "9",
   "metadata": {},
   "source": [
    "Next we define our reinforced concrete geometry, generate a mesh and a `Section` object."
   ]
  },
  {
   "cell_type": "code",
   "execution_count": null,
   "id": "10",
   "metadata": {},
   "outputs": [],
   "source": [
    "from sectionproperties.pre.library import concrete_rectangular_section\n",
    "\n",
    "geom = concrete_rectangular_section(\n",
    "    d=600,\n",
    "    b=300,\n",
    "    dia_top=16,\n",
    "    area_top=200,\n",
    "    n_top=3,\n",
    "    c_top=20,\n",
    "    dia_bot=20,\n",
    "    area_bot=310,\n",
    "    n_bot=3,\n",
    "    c_bot=30,\n",
    "    n_circle=8,\n",
    "    conc_mat=concrete,\n",
    "    steel_mat=steel,\n",
    ")\n",
    "\n",
    "geom.create_mesh(mesh_sizes=2500)\n",
    "sec = Section(geometry=geom)\n",
    "sec.plot_mesh()"
   ]
  },
  {
   "cell_type": "markdown",
   "id": "11",
   "metadata": {},
   "source": [
    "In this case, we are interested in obtaining the uncracked axial rigidity, flexural rigidity and torsional rigidity. We will therefore conduct a frame analysis."
   ]
  },
  {
   "cell_type": "code",
   "execution_count": null,
   "id": "12",
   "metadata": {},
   "outputs": [],
   "source": [
    "props = sec.calculate_frame_properties()"
   ]
  },
  {
   "cell_type": "markdown",
   "id": "13",
   "metadata": {},
   "source": [
    "Note that we cannot retrieve the geometric second moments of area as in the previous example because we have conducted a composite analysis (i.e. provided material properties)."
   ]
  },
  {
   "cell_type": "code",
   "execution_count": null,
   "id": "14",
   "metadata": {
    "editable": true,
    "slideshow": {
     "slide_type": ""
    },
    "tags": [
     "raises-exception"
    ]
   },
   "outputs": [],
   "source": [
    "sec.get_ic()"
   ]
  },
  {
   "cell_type": "markdown",
   "id": "15",
   "metadata": {},
   "source": [
    "The above error message is helpful, informing us that we should instead use `get_eic()`."
   ]
  },
  {
   "cell_type": "code",
   "execution_count": null,
   "id": "16",
   "metadata": {},
   "outputs": [],
   "source": [
    "# get relevant modulus weighted properties\n",
    "eixx, _, _ = sec.get_eic()\n",
    "ea = sec.get_ea()\n",
    "ej = sec.get_ej()\n",
    "\n",
    "# print results\n",
    "print(f\"Axial rigidity (E.A): {ea:.3e} N\")\n",
    "print(f\"Flexural rigidity (E.I): {eixx:.3e} N.mm2\")\n",
    "\n",
    "# note we are usually interested in G.J not E.J\n",
    "# geometric analysis required for effective material properties\n",
    "sec.calculate_geometric_properties()\n",
    "gj = sec.get_g_eff() / sec.get_e_eff() * ej\n",
    "print(f\"Torsional rigidity (G.J): {gj:.3e} N.mm2\")"
   ]
  },
  {
   "cell_type": "markdown",
   "id": "17",
   "metadata": {},
   "source": [
    "Note that transformed cross-section properties are often required for design purposes. We can use the `e_ref` argument to provide either a material of elastic modulus to obtain transformed properties in `sectionproperties`."
   ]
  },
  {
   "cell_type": "code",
   "execution_count": null,
   "id": "18",
   "metadata": {},
   "outputs": [],
   "source": [
    "print(f\"E.I = {eixx:.3e} N.mm2\")\n",
    "print(f\"I = {sec.get_eic(e_ref=concrete)[0]:.3e} mm4\")\n",
    "print(f\"I = {sec.get_eic(e_ref=30.1e3)[0]:.3e} mm4\")"
   ]
  },
  {
   "cell_type": "markdown",
   "id": "19",
   "metadata": {},
   "source": [
    "Note that the transformed second moment of area includes the contribution of the steel and is therefore larger than that of a 600D x 300W rectangle."
   ]
  },
  {
   "cell_type": "code",
   "execution_count": null,
   "id": "20",
   "metadata": {},
   "outputs": [],
   "source": [
    "print(f\"I_rect = {300 * 600**3 / 12:.3e} mm4\")"
   ]
  }
 ],
 "metadata": {
  "kernelspec": {
   "display_name": "Python 3 (ipykernel)",
   "language": "python",
   "name": "python3"
  },
  "language_info": {
   "codemirror_mode": {
    "name": "ipython",
    "version": 3
   },
   "file_extension": ".py",
   "mimetype": "text/x-python",
   "name": "python",
   "nbconvert_exporter": "python",
   "pygments_lexer": "ipython3",
   "version": "3.9.17"
  }
 },
 "nbformat": 4,
 "nbformat_minor": 5
}
