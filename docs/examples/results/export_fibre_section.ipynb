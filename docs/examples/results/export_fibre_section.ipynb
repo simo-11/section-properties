{
 "cells": [
  {
   "cell_type": "markdown",
   "id": "0",
   "metadata": {},
   "source": [
    "# Export to Fibre Section\n",
    "\n",
    "This example shows how to export a section to a fibre section that can be used in [suanPan](https://github.com/TLCFEM/suanPan).\n",
    "\n",
    "[suanPan](https://github.com/TLCFEM/suanPan) is a finite element analysis framework. Sections can be exported and used to perform nonlinear analysis of frame structures.\n",
    "\n",
    "There are three analysis types available.\n",
    "\n",
    "1. '2D' ---> 2D planar analysis (axial force, bending moment). Elements: `B21`, `F21`.\n",
    "2. '3D' ---> 3D spatial analysis (axial force, bending moment). Elements: `B31`, `F31`.\n",
    "3. '3DOS' ---> 3D spatial analysis with warping and torsion (axial force, bending moment, torsion). Elements: `B31OS`.\n",
    "\n",
    "The section is discretised into triangular elements in `sectionproperties`. Each triangle can be deemed as a small cell/fibre. Its area and properties at the centre of the triangle are calculated and exported to create a fibre section.\n",
    "\n",
    "For '2D' and '3D' analyses, the location and area are used. For '3DOS' analysis, the additional warping function and its derivatives are used.\n",
    "\n",
    "## The Export Function\n",
    "\n",
    "One shall call the function with a geometry object with mesh created."
   ]
  },
  {
   "cell_type": "code",
   "execution_count": null,
   "id": "1",
   "metadata": {},
   "outputs": [],
   "source": [
    "from sectionproperties.post.fibre import to_fibre_section\n",
    "from sectionproperties.pre.library import i_section\n",
    "\n",
    "geom = i_section(d=203, b=133, t_f=7.8, t_w=5.8, r=8.9, n_r=8)\n",
    "geom.create_mesh(mesh_sizes=10)\n",
    "\n",
    "commands = to_fibre_section(geom, analysis_type=\"3DOS\")\n",
    "\n",
    "print(commands[:3000])"
   ]
  },
  {
   "cell_type": "markdown",
   "id": "2",
   "metadata": {},
   "source": [
    "The output can be saved to a file and later be used to create beam elements."
   ]
  },
  {
   "cell_type": "code",
   "execution_count": null,
   "id": "3",
   "metadata": {},
   "outputs": [],
   "source": [
    "# write the fibre section to a file\n",
    "# uncomment below to write file\n",
    "# with open('200UB25.4.sp', 'w') as f:\n",
    "#     f.write(commands)\n",
    "\n",
    "# write the main analysis file\n",
    "# since we assigned '3DOS' analysis type,\n",
    "# we need to use compatible elements, for example, 'B31OS'.\n",
    "model = \"\"\"# Example torsion analysis\n",
    "node 1 0 0 0\n",
    "node 2 1 0 0\n",
    "material ElasticOS 1 200. .25\n",
    "file 200UB25.4.sp\n",
    "orientation B3DOSL 1 0. 0. 1.\n",
    "element B31OS 1 1 2 1 1 6\n",
    "fix2 1 E 1\n",
    "displacement 1 0 1E-1 4 2\n",
    "plainrecorder 1 Node RF4 2\n",
    "plainrecorder 2 Element BEAMS 1\n",
    "step static 1\n",
    "set ini_step_size 1E-1\n",
    "set fixed_step_size true\n",
    "converger RelIncreDisp 1 1E-10 5 1\n",
    "analyze\n",
    "save recorder 1 2\n",
    "exit\n",
    "\"\"\"\n",
    "# uncomment below to write file\n",
    "# with open('torsion_analysis.sp', 'w') as f:\n",
    "#     f.write(model)"
   ]
  },
  {
   "cell_type": "markdown",
   "id": "4",
   "metadata": {},
   "source": [
    "For further details, check [this](https://tlcfem.github.io/suanPan-manual/3.2/Example/Structural/Statics/thin-walled-section/) example."
   ]
  },
  {
   "cell_type": "markdown",
   "id": "5",
   "metadata": {},
   "source": [
    "## A Bit More Details\n",
    "\n",
    "### Shift Section\n",
    "\n",
    "As the header states, the function computes properties in the local coordinate system of the section.\n",
    "\n",
    "For the above I-section, one may want to shift the section to the centroid of the section.\n",
    "The user shall explicitly perform this step."
   ]
  },
  {
   "cell_type": "code",
   "execution_count": null,
   "id": "6",
   "metadata": {},
   "outputs": [],
   "source": [
    "geom.plot_geometry()"
   ]
  },
  {
   "cell_type": "code",
   "execution_count": null,
   "id": "7",
   "metadata": {},
   "outputs": [],
   "source": [
    "from sectionproperties.analysis import Section\n",
    "\n",
    "sec = Section(geom)\n",
    "sec.calculate_geometric_properties()\n",
    "x, y = sec.get_c()\n",
    "geom = geom.shift_section(-x, -y)  # or whatever shift you want\n",
    "geom.create_mesh(mesh_sizes=5)\n",
    "geom.plot_geometry()"
   ]
  },
  {
   "cell_type": "markdown",
   "id": "8",
   "metadata": {},
   "source": [
    "### Overwrite Material\n",
    "\n",
    "Material names shall be converted to material tags.\n",
    "\n",
    "One can provide such a mapping dictionary to the function.\n",
    "With the shifted geometry, one can do the following."
   ]
  },
  {
   "cell_type": "code",
   "execution_count": null,
   "id": "9",
   "metadata": {},
   "outputs": [],
   "source": [
    "commands = to_fibre_section(geom, analysis_type=\"3DOS\", material_mapping={\"default\": 1})\n",
    "print(commands[:5000])"
   ]
  },
  {
   "cell_type": "markdown",
   "id": "10",
   "metadata": {},
   "source": [
    "## Run Analysis\n",
    "\n",
    "If `suanPan` is installed, one can run the analysis using the previously saved script."
   ]
  },
  {
   "cell_type": "code",
   "execution_count": null,
   "id": "11",
   "metadata": {},
   "outputs": [],
   "source": [
    "# from os.path import exists\n",
    "\n",
    "# write the fibre section to a file with material tag replaced\n",
    "# uncomment below to write file\n",
    "# with open('200UB25.4.sp', 'w') as f:\n",
    "#     f.write(commands)\n",
    "\n",
    "# run the analysis\n",
    "# if which(\"suanpan\") is not None:\n",
    "#     from subprocess import run\n",
    "\n",
    "#     result_available = True\n",
    "#     run([\"suanpan\", \"-f\", \"torsion_analysis.sp\"])\n",
    "# else:\n",
    "#     result_available = exists(\"R1-RF42.txt\")\n",
    "#     print(\"suanPan is not installed.\")\n",
    "result_available = False"
   ]
  },
  {
   "cell_type": "markdown",
   "id": "12",
   "metadata": {},
   "source": [
    "## Plot Results\n",
    "\n",
    "The results are stored in `R1-RF42.txt` (**R**ecorder **1** --> **RF4** for node **2**) and `R2-BEAMS1.txt` (**R**ecorder **2** --> **BEAMS** for element **1**).\n",
    "\n",
    "The sixth component of `BEAMS` is the St. Venant torsion."
   ]
  },
  {
   "cell_type": "code",
   "execution_count": null,
   "id": "13",
   "metadata": {},
   "outputs": [],
   "source": [
    "if result_available:\n",
    "    import numpy as np\n",
    "    from matplotlib import pyplot as plt\n",
    "\n",
    "    data = np.loadtxt(\"R1-RF42.txt\")\n",
    "    twist = data[:, 0] * 0.1\n",
    "    torque = data[:, 1]\n",
    "    plt.plot(twist, torque)\n",
    "    plt.xlabel(\"twist (rad)\")\n",
    "    plt.ylabel(\"total torque\")\n",
    "    plt.legend([\"200UB25.4\"])\n",
    "    plt.tight_layout()\n",
    "    plt.show()"
   ]
  },
  {
   "cell_type": "code",
   "execution_count": null,
   "id": "14",
   "metadata": {},
   "outputs": [],
   "source": [
    "if result_available:\n",
    "    data = np.loadtxt(\"R2-BEAMS1.txt\")\n",
    "    twist = data[:, 0] * 0.1\n",
    "    torque = data[:, 6]\n",
    "    ref_torque = twist * 80 * 62.7e3  # G=80, J=62.7\n",
    "    plt.plot(twist, torque)\n",
    "    plt.plot(twist, ref_torque)\n",
    "    plt.xlabel(\"twist (rad)\")\n",
    "    plt.ylabel(\"St. Venant torsion\")\n",
    "    plt.legend([\"numerical\", \"theoretical\"])\n",
    "    plt.tight_layout()\n",
    "    plt.show()"
   ]
  }
 ],
 "metadata": {
  "kernelspec": {
   "display_name": "Python 3 (ipykernel)",
   "language": "python",
   "name": "python3"
  },
  "language_info": {
   "codemirror_mode": {
    "name": "ipython",
    "version": 3
   },
   "file_extension": ".py",
   "mimetype": "text/x-python",
   "name": "python",
   "nbconvert_exporter": "python",
   "pygments_lexer": "ipython3",
   "version": "3.12.7"
  }
 },
 "nbformat": 4,
 "nbformat_minor": 5
}
