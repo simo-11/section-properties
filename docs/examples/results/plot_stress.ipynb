{
 "cells": [
  {
   "cell_type": "markdown",
   "id": "0",
   "metadata": {},
   "source": [
    "# Plotting Stresses"
   ]
  },
  {
   "cell_type": "markdown",
   "id": "1",
   "metadata": {},
   "source": [
    "This example demonstrates how to plot stresses in `sectionproperties`.\n",
    "\n",
    "We will analyse an elliptical section under combined loading and demonstrate various stress plotting options. We start by creating the geometry, mesh and `Section` object."
   ]
  },
  {
   "cell_type": "code",
   "execution_count": null,
   "id": "2",
   "metadata": {},
   "outputs": [],
   "source": [
    "from sectionproperties.analysis import Section\n",
    "from sectionproperties.pre.library import elliptical_section\n",
    "\n",
    "geom = elliptical_section(d_x=75, d_y=150, n=64)\n",
    "geom.create_mesh(mesh_sizes=20)\n",
    "sec = Section(geometry=geom)\n",
    "sec.plot_mesh(materials=False)"
   ]
  },
  {
   "cell_type": "markdown",
   "id": "3",
   "metadata": {},
   "source": [
    "Prior to conducting a stress analysis we must conduct a geometric and warping analysis, note the warping analysis is required because we will be applying shear and torsion loads."
   ]
  },
  {
   "cell_type": "code",
   "execution_count": null,
   "id": "4",
   "metadata": {},
   "outputs": [],
   "source": [
    "sec.calculate_geometric_properties()\n",
    "sec.calculate_warping_properties()"
   ]
  },
  {
   "cell_type": "markdown",
   "id": "5",
   "metadata": {},
   "source": [
    "We will analyse the elliptical section under a complex loading case. The `calculate_stress()` method returns a `StressPost` object that we can use for post-processing purposes."
   ]
  },
  {
   "cell_type": "code",
   "execution_count": null,
   "id": "6",
   "metadata": {},
   "outputs": [],
   "source": [
    "stress = sec.calculate_stress(\n",
    "    n=100e3,\n",
    "    mxx=10e6,\n",
    "    myy=5e6,\n",
    "    vx=25e3,\n",
    "    vy=50e3,\n",
    "    mzz=3e6,\n",
    ")"
   ]
  },
  {
   "cell_type": "markdown",
   "id": "7",
   "metadata": {},
   "source": [
    "## Plot Stress Contours\n",
    "\n",
    "There are many stress plotting options available when using the [plot_stress()](../../gen/sectionproperties.post.stress_post.StressPost.rst#sectionproperties.post.stress_post.StressPost.plot_stress) method. In this example we will generate the following stress plots:\n",
    "\n",
    "**Primary Stress Plots:**\n",
    "\n",
    "- $\\sigma_{zz,Myy}$ - normal stress resulting from the bending moment [`stress=\"myy_zz\"`]\n",
    "- $\\sigma_{zx,Vy}$ - x-component of the shear stress resulting from the shear force $V_y$ [`stress=\"vy_zx\"`]\n",
    "- $\\sigma_{zy,Vy}$ - y-component of the shear stress resulting from the shear force $V_y$ [`stress=\"vy_zy\"`]\n",
    "\n",
    "**Combined Stress Plots:**\n",
    "\n",
    "- $\\sigma_{zz}$ - combined normal stress resulting from all actions [`stress=\"zz\"`]\n",
    "- $\\sigma_{z,xy}$ - resultant shear stress resulting from all actions [`stress=\"zxy\"`]\n",
    "- $\\sigma_{11}$ - major principal stress resulting from all actions [`stress=\"11\"`]\n",
    "- $\\sigma_{33}$ - minor principal stress resulting from all actions [`stress=\"33\"`]\n",
    "- $\\sigma_{vm}$ - von Mises stress resulting from all actions [`stress=\"vm\"`]\n",
    "\n",
    "A full list of contour plots can be seen [here](../../gen/sectionproperties.post.stress_post.StressPost.rst#sectionproperties.post.stress_post.StressPost.plot_stress)."
   ]
  },
  {
   "cell_type": "markdown",
   "id": "8",
   "metadata": {},
   "source": [
    "### Primary Stress Plots"
   ]
  },
  {
   "cell_type": "code",
   "execution_count": null,
   "id": "9",
   "metadata": {},
   "outputs": [],
   "source": [
    "stress.plot_stress(stress=\"myy_zz\")"
   ]
  },
  {
   "cell_type": "markdown",
   "id": "10",
   "metadata": {},
   "source": [
    "The colour bar number formatting can be changed by providing a formatting string `fmt`. The below plot displays numbers to two decimal places."
   ]
  },
  {
   "cell_type": "code",
   "execution_count": null,
   "id": "11",
   "metadata": {},
   "outputs": [],
   "source": [
    "stress.plot_stress(stress=\"vy_zx\", fmt=\"{x:.2f}\")"
   ]
  },
  {
   "cell_type": "code",
   "execution_count": null,
   "id": "12",
   "metadata": {},
   "outputs": [],
   "source": [
    "stress.plot_stress(stress=\"vy_zy\")"
   ]
  },
  {
   "cell_type": "markdown",
   "id": "13",
   "metadata": {},
   "source": [
    "By default, the colour map is normalised such that the centre of the scale lies at zero stress. For plots that have primarily positive (or negative) stresses, such as the above, it can be useful to set `normalize=False`."
   ]
  },
  {
   "cell_type": "code",
   "execution_count": null,
   "id": "14",
   "metadata": {},
   "outputs": [],
   "source": [
    "stress.plot_stress(stress=\"vy_zy\", normalize=False)"
   ]
  },
  {
   "cell_type": "markdown",
   "id": "15",
   "metadata": {},
   "source": [
    "Further, in these case it can also be useful to use a sequential colour map, rather than the default `coolwarm` which is diverging. Let's try the `\"viridis\"` colour map. More information on colour maps can be found [here](https://matplotlib.org/stable/users/explain/colors/colormaps.html)."
   ]
  },
  {
   "cell_type": "code",
   "execution_count": null,
   "id": "16",
   "metadata": {},
   "outputs": [],
   "source": [
    "stress.plot_stress(stress=\"vy_zy\", cmap=\"viridis\", normalize=False)"
   ]
  },
  {
   "cell_type": "markdown",
   "id": "17",
   "metadata": {},
   "source": [
    "### Combined Stress Plots"
   ]
  },
  {
   "cell_type": "markdown",
   "id": "18",
   "metadata": {},
   "source": [
    "Note that the title and transparency can be changed by specifying `title` and `alpha` respectively."
   ]
  },
  {
   "cell_type": "code",
   "execution_count": null,
   "id": "19",
   "metadata": {},
   "outputs": [],
   "source": [
    "stress.plot_stress(stress=\"zz\", title=\"Normal Stress\", alpha=0.2)"
   ]
  },
  {
   "cell_type": "code",
   "execution_count": null,
   "id": "20",
   "metadata": {},
   "outputs": [],
   "source": [
    "stress.plot_stress(stress=\"zxy\", cmap=\"viridis\", normalize=False)"
   ]
  },
  {
   "cell_type": "markdown",
   "id": "21",
   "metadata": {},
   "source": [
    "The `stress_limits` argument can be used to modify the default limits of the colour bar. Say you wanted to identify regions in which the 11-principal stress exceeded 80 MPa, by setting `stress_limits=(0, 80)`, the regions with stresses outside these limits will not be plotted. The colour bar label can also be modified by setting `colorbar_label`."
   ]
  },
  {
   "cell_type": "code",
   "execution_count": null,
   "id": "22",
   "metadata": {},
   "outputs": [],
   "source": [
    "stress.plot_stress(\n",
    "    stress=\"11\",\n",
    "    cmap=\"viridis\",\n",
    "    stress_limits=(0, 80),\n",
    "    normalize=False,\n",
    "    fmt=\"{x:.2f}\",\n",
    "    colorbar_label=\"Principal Stress [MPa]\",\n",
    ")"
   ]
  },
  {
   "cell_type": "code",
   "execution_count": null,
   "id": "23",
   "metadata": {},
   "outputs": [],
   "source": [
    "stress.plot_stress(stress=\"33\", cmap=\"viridis\", normalize=False)"
   ]
  },
  {
   "cell_type": "code",
   "execution_count": null,
   "id": "24",
   "metadata": {
    "editable": true,
    "nbsphinx-thumbnail": {
     "output-index": 0
    },
    "slideshow": {
     "slide_type": ""
    },
    "tags": []
   },
   "outputs": [],
   "source": [
    "stress.plot_stress(stress=\"vm\", cmap=\"viridis\", normalize=False)"
   ]
  },
  {
   "cell_type": "markdown",
   "id": "25",
   "metadata": {},
   "source": [
    "## Plot Stress Vectors\n",
    "\n",
    "There are many stress vector plotting options available when using the [plot_stress_vectors()](../../gen/sectionproperties.post.stress_post.StressPost.rst#sectionproperties.post.stress_post.StressPost.plot_stress_vector) method. In this example we will generate the following vector plots:\n",
    "\n",
    "- $\\sigma_{z,xy,Mzz}$ - resultant shear stress resulting from the torsion moment [`stress=\"mzz_zxy\"`]\n",
    "- $\\sigma_{z,xy,Vy}$ - resultant shear stress resulting from the shear force $V_x$ [`stress=\"vy_zxy\"`]\n",
    "- $\\sigma_{z,xy}$ - resultant shear stress resulting from all actions [`stress=\"zxy\"`]\n",
    "\n",
    "A full list of vector plots can be seen [here](../../gen/sectionproperties.post.stress_post.StressPost.rst#sectionproperties.post.stress_post.StressPost.plot_stress_vector)."
   ]
  },
  {
   "cell_type": "code",
   "execution_count": null,
   "id": "26",
   "metadata": {},
   "outputs": [],
   "source": [
    "stress.plot_stress_vector(stress=\"mzz_zxy\", cmap=\"viridis\", normalize=False)"
   ]
  },
  {
   "cell_type": "code",
   "execution_count": null,
   "id": "27",
   "metadata": {},
   "outputs": [],
   "source": [
    "stress.plot_stress_vector(\n",
    "    stress=\"vy_zxy\",\n",
    "    cmap=\"viridis\",\n",
    "    normalize=False,\n",
    "    fmt=\"{x:.2f}\",\n",
    ")"
   ]
  },
  {
   "cell_type": "code",
   "execution_count": null,
   "id": "28",
   "metadata": {},
   "outputs": [],
   "source": [
    "stress.plot_stress_vector(\n",
    "    stress=\"zxy\",\n",
    "    cmap=\"viridis\",\n",
    "    normalize=False,\n",
    "    colorbar_label=\"Stress [MPa]\",\n",
    ")"
   ]
  },
  {
   "cell_type": "markdown",
   "id": "29",
   "metadata": {},
   "source": [
    "## Plot Mohr's Circles\n",
    "\n",
    "The stress state at any point within the mesh can be further investigated with the [plot_mohrs_circles()](../../gen/sectionproperties.post.stress_post.StressPost.rst#sectionproperties.post.stress_post.StressPost.plot_mohrs_circles) method. In this case, we will choose the centre of the ellipse - (`x = 0`, `y = 0`)."
   ]
  },
  {
   "cell_type": "code",
   "execution_count": null,
   "id": "30",
   "metadata": {},
   "outputs": [],
   "source": [
    "stress.plot_mohrs_circles(x=0, y=0)"
   ]
  },
  {
   "cell_type": "markdown",
   "id": "31",
   "metadata": {},
   "source": [
    "## Plot Specific Materials\n",
    "\n",
    "It is possible to plot the stress contours of a specific list of materials, this is done by providing a desired list of `Material` objects to `material_list`.\n",
    "\n",
    "The following example will generate a composite section and showcase this feature."
   ]
  },
  {
   "cell_type": "code",
   "execution_count": null,
   "id": "32",
   "metadata": {},
   "outputs": [],
   "source": [
    "from sectionproperties.pre import Material\n",
    "from sectionproperties.pre.library import rectangular_section\n",
    "\n",
    "mat_a = Material(\"a\", 1, 0, 1, 1, color=\"b\")\n",
    "mat_b = Material(\"b\", 10, 0, 1, 1, color=\"g\")\n",
    "mat_c = Material(\"c\", 5, 0, 1, 1, color=\"r\")\n",
    "mat_d = Material(\"d\", 2, 0, 1, 1, color=\"y\")\n",
    "\n",
    "a = rectangular_section(20, 20, mat_a)\n",
    "b = rectangular_section(20, 20, mat_b).align_to(a, \"right\")\n",
    "c = rectangular_section(20, 20, mat_c).align_to(a, \"top\")\n",
    "d = rectangular_section(20, 20, mat_d).align_to(a, \"top\").align_to(a, \"right\")\n",
    "geom = a + b + c + d\n",
    "geom.create_mesh(10)\n",
    "sec = Section(geom)\n",
    "sec.plot_mesh()"
   ]
  },
  {
   "cell_type": "code",
   "execution_count": null,
   "id": "33",
   "metadata": {},
   "outputs": [],
   "source": [
    "sec.calculate_geometric_properties()\n",
    "stress = sec.calculate_stress(n=10e3, mxx=1e6)"
   ]
  },
  {
   "cell_type": "code",
   "execution_count": null,
   "id": "34",
   "metadata": {},
   "outputs": [],
   "source": [
    "stress.plot_stress(stress=\"m_zz\")"
   ]
  },
  {
   "cell_type": "markdown",
   "id": "35",
   "metadata": {},
   "source": [
    "Suppose we want a higher fidelity understanding of the stress in material A (bottom left), we can set `material_list=[mat_a]` to only display material A in the stress plot."
   ]
  },
  {
   "cell_type": "code",
   "execution_count": null,
   "id": "36",
   "metadata": {},
   "outputs": [],
   "source": [
    "stress.plot_stress(stress=\"m_zz\", material_list=[mat_a])"
   ]
  },
  {
   "cell_type": "markdown",
   "id": "37",
   "metadata": {},
   "source": [
    "We can also show both material A and C in the same plot using the same functionality."
   ]
  },
  {
   "cell_type": "code",
   "execution_count": null,
   "id": "38",
   "metadata": {},
   "outputs": [],
   "source": [
    "stress.plot_stress(stress=\"m_zz\", material_list=[mat_a, mat_c])"
   ]
  }
 ],
 "metadata": {
  "kernelspec": {
   "display_name": "Python 3 (ipykernel)",
   "language": "python",
   "name": "python3"
  },
  "language_info": {
   "codemirror_mode": {
    "name": "ipython",
    "version": 3
   },
   "file_extension": ".py",
   "mimetype": "text/x-python",
   "name": "python",
   "nbconvert_exporter": "python",
   "pygments_lexer": "ipython3",
   "version": "3.9.17"
  }
 },
 "nbformat": 4,
 "nbformat_minor": 5
}
