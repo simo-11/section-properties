{
 "cells": [
  {
   "cell_type": "markdown",
   "id": "cd958590",
   "metadata": {},
   "source": [
    "# Retrieving Stresses"
   ]
  },
  {
   "cell_type": "markdown",
   "id": "d0aaeb41-781f-4a07-b3d6-93e577530063",
   "metadata": {},
   "source": [
    "This example will demonstrate the [get_stress_at_points()](../../gen/sectionproperties.analysis.section.Section.rst#sectionproperties.analysis.section.Section.get_stress_at_points) method, which get can be used to obtain the stress at one or multiple points within the cross-section."
   ]
  },
  {
   "cell_type": "markdown",
   "id": "3baa85ab-fff5-4960-8108-b18a21b3a60c",
   "metadata": {},
   "source": [
    "## 150 x 100 x 6 RHS\n",
    "\n",
    "The first section will look at a 150 x 100 x 6 RHS and sample the stress at both a single point, and along two lines. We start by creating the geometry, mesh and `Section` object."
   ]
  },
  {
   "cell_type": "code",
   "execution_count": null,
   "id": "79be74f4",
   "metadata": {},
   "outputs": [],
   "source": [
    "from sectionproperties.analysis import Section\n",
    "from sectionproperties.pre.library import rectangular_hollow_section\n",
    "\n",
    "\n",
    "geom = rectangular_hollow_section(d=100, b=150, t=6, r_out=15, n_r=8)\n",
    "geom.create_mesh(mesh_sizes=3)\n",
    "sec = Section(geometry=geom)"
   ]
  },
  {
   "cell_type": "markdown",
   "id": "eade001f-6e48-4a4a-b2cb-7e40eebe20b9",
   "metadata": {},
   "source": [
    "Here we will define the point and two lines along which we would like to sample the stress.\n",
    "\n",
    "- Point: `x = 100`, `y = 97`\n",
    "- Line 1: `x = 3`, `y = 20 to 80` (sample 10 points)\n",
    "- Line 2: `x = 0 to 150`, `y = 3` (sample 50 points)"
   ]
  },
  {
   "cell_type": "code",
   "execution_count": null,
   "id": "af4d29e5-a4b8-4408-94fe-e138cc3d404e",
   "metadata": {},
   "outputs": [],
   "source": [
    "import numpy as np\n",
    "\n",
    "\n",
    "pt = (144, 6)\n",
    "x1 = [3] * 10\n",
    "y1 = np.linspace(20, 80, 10)\n",
    "x2 = np.linspace(0, 150, 50)\n",
    "y2 = [3] * 50"
   ]
  },
  {
   "cell_type": "markdown",
   "id": "9277b679-963d-4070-a072-9775381d6989",
   "metadata": {},
   "source": [
    "We will overlay the finite element mesh with a plot of the point and two lines. "
   ]
  },
  {
   "cell_type": "code",
   "execution_count": null,
   "id": "725aab9c-dae3-440f-a4a3-c1ac215cca39",
   "metadata": {},
   "outputs": [],
   "source": [
    "import matplotlib.pyplot as plt\n",
    "\n",
    "\n",
    "ax = sec.plot_mesh(materials=False, render=False)\n",
    "ax.plot(pt[0], pt[1], \"r*\", label=\"Point\")\n",
    "ax.plot(x1, y1, \"bo-\", label=\"Line 1\")\n",
    "ax.plot(x2, y2, \"go-\", label=\"Line 2\")\n",
    "ax.legend()\n",
    "plt.show()"
   ]
  },
  {
   "cell_type": "markdown",
   "id": "261d27d9-a697-49ee-9a0f-7a2b407a5065",
   "metadata": {},
   "source": [
    "Before extracting the stresses, we must first perform a geometric and warping analysis."
   ]
  },
  {
   "cell_type": "code",
   "execution_count": null,
   "id": "864c6d58-cb68-4612-984c-5d86d8283881",
   "metadata": {},
   "outputs": [],
   "source": [
    "sec.calculate_geometric_properties()\n",
    "sec.calculate_warping_properties()"
   ]
  },
  {
   "cell_type": "markdown",
   "id": "54e8a3e0-5076-4e11-a20f-681728239d31",
   "metadata": {},
   "source": [
    "### Point\n",
    "\n",
    "For this first sample location we describe a complex load case, plot the von Mises stress and extract the stress at the point."
   ]
  },
  {
   "cell_type": "code",
   "execution_count": null,
   "id": "3abbdb2e-dc33-4145-ae89-22ff3595d9e5",
   "metadata": {},
   "outputs": [],
   "source": [
    "load_case = {\n",
    "    \"n\": -50e3,\n",
    "    \"mxx\": 5e6,\n",
    "    \"myy\": 10e6,\n",
    "    \"vx\": 5e3,\n",
    "    \"vy\": 15e3,\n",
    "    \"mzz\": 5e6,\n",
    "}\n",
    "\n",
    "stress = sec.calculate_stress(**load_case)\n",
    "stress.plot_stress(stress=\"vm\", cmap=\"viridis\", normalize=False)"
   ]
  },
  {
   "cell_type": "code",
   "execution_count": null,
   "id": "f52aaa07-7697-4e46-945a-29f437961c27",
   "metadata": {},
   "outputs": [],
   "source": [
    "sig = sec.get_stress_at_points(pts=[pt], **load_case)[0]\n",
    "print(f\"sig_zz = {sig[0]:.2f} MPa\")\n",
    "print(f\"tau_xz = {sig[1]:.2f} MPa\")\n",
    "print(f\"tau_yz = {sig[2]:.2f} MPa\")"
   ]
  },
  {
   "cell_type": "markdown",
   "id": "7b43d8ee-cbf3-4ce5-a050-f0319995a255",
   "metadata": {},
   "source": [
    "We can confirm that the von Mises stress matches that shown on the above plot by using the following formula:\n",
    "\n",
    "$\\sigma_{vm} = \\sqrt{(\\sigma_{zz})^2 + 3(\\sigma_{z,xy})^2}$\n",
    "\n",
    "where $\\sigma_{z,xy} = \\sqrt{(\\sigma_{xz})^2 + (\\sigma_{yz})^2}$ is the resultant shear stress."
   ]
  },
  {
   "cell_type": "code",
   "execution_count": null,
   "id": "a7e46934-5702-4983-a53e-c7a274d03c15",
   "metadata": {},
   "outputs": [],
   "source": [
    "sig_vm = np.sqrt(sig[0] ** 2 + 3 * (np.sqrt(sig[1] ** 2 + sig[2] ** 2)) ** 2)\n",
    "print(f\"sig_vm = {sig_vm:.2f} MPa\")"
   ]
  },
  {
   "cell_type": "markdown",
   "id": "3bafc6c5-d6a4-4ca7-b0d3-15eb81100283",
   "metadata": {},
   "source": [
    "### Line 1\n",
    "\n",
    "For the first line, we place the RHS under a single bending moment - we expect to see a linear distribution of stress down the web."
   ]
  },
  {
   "cell_type": "code",
   "execution_count": null,
   "id": "53f36252-5a51-4cfe-9df6-44be03958c1f",
   "metadata": {},
   "outputs": [],
   "source": [
    "# zip points into a list of tuples\n",
    "pts = list(zip(x1, y1))\n",
    "\n",
    "# extract stresses along the line\n",
    "sigs = sec.get_stress_at_points(pts=pts, mxx=10e6)\n",
    "\n",
    "# we are only interested in the first of three stresses (normal stress)\n",
    "sig_zz = [x[0] for x in sigs]"
   ]
  },
  {
   "cell_type": "markdown",
   "id": "4917c322-6c31-4818-ab07-2c13fbf69e8e",
   "metadata": {},
   "source": [
    "We can now generate a plot of the normal stress with y-coordinate."
   ]
  },
  {
   "cell_type": "code",
   "execution_count": null,
   "id": "1ca157e2-0661-4ae7-9e58-9349c9b185ae",
   "metadata": {},
   "outputs": [],
   "source": [
    "fig, ax = plt.subplots()\n",
    "ax.plot(sig_zz, y1, \"kx-\")\n",
    "ax.set_xlabel(\"Normal Stress [MPa]\")\n",
    "ax.set_ylabel(\"y-coordinate [mm]\")\n",
    "plt.show()"
   ]
  },
  {
   "cell_type": "markdown",
   "id": "838278b9-a58b-4c27-95b9-4ecbe799f1e2",
   "metadata": {},
   "source": [
    "### Line 2\n",
    "\n",
    "For the second line, we place the RHS under a single shear force - we expect to see a roughly parabolic distribution of stress along the plate."
   ]
  },
  {
   "cell_type": "code",
   "execution_count": null,
   "id": "8e073c36-f3dc-4b7d-bb11-7e645f565053",
   "metadata": {},
   "outputs": [],
   "source": [
    "# zip points into a list of tuples\n",
    "pts = list(zip(x2, y2))\n",
    "\n",
    "# extract stresses along the line\n",
    "sigs = sec.get_stress_at_points(pts=pts, vx=100e3)\n",
    "\n",
    "# we are only interested in the second of three stresses (x-shear stress)\n",
    "# note we also ignore None results (outside geometry)\n",
    "tau_xz = [x[1] for x in sigs if x is not None]"
   ]
  },
  {
   "cell_type": "markdown",
   "id": "dbb9efe4-00b9-4462-bc6d-49ca9a89c5f2",
   "metadata": {},
   "source": [
    "We can now generate a plot of the x-shear stress with x-coordinate. Note that the first two and last two points are outside the section."
   ]
  },
  {
   "cell_type": "code",
   "execution_count": null,
   "id": "09a2c126-480e-44e0-805f-ceb1362388f9",
   "metadata": {},
   "outputs": [],
   "source": [
    "fig, ax = plt.subplots()\n",
    "ax.plot(x2[2:-2], tau_xz, \"kx-\")\n",
    "ax.set_xlabel(\"x-coordinate [mm]\")\n",
    "ax.set_ylabel(\"Shear Stress [MPa]\")\n",
    "plt.show()"
   ]
  },
  {
   "cell_type": "markdown",
   "id": "1fa25e37-1714-4833-9645-f4bf0af875ce",
   "metadata": {},
   "source": [
    "## Rectangular Section\n",
    "\n",
    "This second section will apply shear forces and torsion to a 100 mm x 100 mm rectangular section. The relevant stress contours will be plotted and the shear stress plotted along a central slice. We start by creating the geometry, mesh and `Section` object."
   ]
  },
  {
   "cell_type": "code",
   "execution_count": null,
   "id": "d22955f8-e06a-44c6-a2cf-836cf1938559",
   "metadata": {},
   "outputs": [],
   "source": [
    "from sectionproperties.pre.library import rectangular_section\n",
    "\n",
    "\n",
    "geom = rectangular_section(d=100, b=100)\n",
    "geom.create_mesh(mesh_sizes=50)\n",
    "sec = Section(geometry=geom)"
   ]
  },
  {
   "cell_type": "markdown",
   "id": "616ff8a0-f1b7-410d-b266-35354d22ed32",
   "metadata": {},
   "source": [
    "Next we perform a geometric and warping analysis, and apply the loads."
   ]
  },
  {
   "cell_type": "code",
   "execution_count": null,
   "id": "00f25740-8b7b-4b6d-a8d3-85052e809fae",
   "metadata": {},
   "outputs": [],
   "source": [
    "sec.calculate_geometric_properties()\n",
    "sec.calculate_warping_properties()\n",
    "s = sec.calculate_stress(mzz=1e6, vx=10e3, vy=10e3)"
   ]
  },
  {
   "cell_type": "markdown",
   "id": "dbb56bfb-b9b4-4575-8561-7ea4e8abc6c3",
   "metadata": {},
   "source": [
    "We will generate several stress plots to show the stress field."
   ]
  },
  {
   "cell_type": "code",
   "execution_count": null,
   "id": "d1dd87af-8e4f-40a9-a085-dde3d0b9e28e",
   "metadata": {},
   "outputs": [],
   "source": [
    "s.plot_stress_vector(stress=\"zxy\", cmap=\"viridis\", normalize=False)"
   ]
  },
  {
   "cell_type": "code",
   "execution_count": null,
   "id": "3a9a3ad6-2eee-4549-8d97-965c35768b7e",
   "metadata": {},
   "outputs": [],
   "source": [
    "s.plot_stress(stress=\"zxy\", cmap=\"viridis\", normalize=False)"
   ]
  },
  {
   "cell_type": "markdown",
   "id": "3580348b-230f-4c56-a216-b19ea718075c",
   "metadata": {},
   "source": [
    "We will generate a vertical slice down the centre of the rectangle and extract the stresses along 50 points of this line."
   ]
  },
  {
   "cell_type": "code",
   "execution_count": null,
   "id": "8802182d-7d3e-46dd-ac96-293b360210d6",
   "metadata": {},
   "outputs": [],
   "source": [
    "xs = [50] * 50\n",
    "ys = np.linspace(0, 100, 50)\n",
    "sigs = sec.get_stress_at_points(pts=list(zip(xs, ys)), mzz=1e6, vx=10e3, vy=10e3)\n",
    "tau_xz = [x[1] for x in sigs]\n",
    "tau_yz = [x[2] for x in sigs]"
   ]
  },
  {
   "cell_type": "markdown",
   "id": "2b6d442c-c791-468c-82fa-5b8de1434f9b",
   "metadata": {},
   "source": [
    "We can now plot the x and y components of shear stress along this line."
   ]
  },
  {
   "cell_type": "code",
   "execution_count": null,
   "id": "9b0ac48f-8e14-4631-9e0b-c3e20d203047",
   "metadata": {},
   "outputs": [],
   "source": [
    "fig, ax = plt.subplots()\n",
    "ax.plot(ys, tau_xz, \"k-\", label=\"$\\\\tau_{xz}$\")\n",
    "ax.plot(ys, tau_yz, \"k--\", label=\"$\\\\tau_{yz}$\")\n",
    "ax.set_xlabel(\"y-coordinate [mm]\")\n",
    "ax.set_ylabel(\"Stress [MPa]\")\n",
    "ax.set_ylim(-4, 8)\n",
    "ax.legend(loc=\"center left\", bbox_to_anchor=(1.0, 0.5))\n",
    "ax.grid()\n",
    "plt.show()"
   ]
  }
 ],
 "metadata": {
  "kernelspec": {
   "display_name": "Python 3 (ipykernel)",
   "language": "python",
   "name": "python3"
  },
  "language_info": {
   "codemirror_mode": {
    "name": "ipython",
    "version": 3
   },
   "file_extension": ".py",
   "mimetype": "text/x-python",
   "name": "python",
   "nbconvert_exporter": "python",
   "pygments_lexer": "ipython3",
   "version": "3.9.17"
  }
 },
 "nbformat": 4,
 "nbformat_minor": 5
}
