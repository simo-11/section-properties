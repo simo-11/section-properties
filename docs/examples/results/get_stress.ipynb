{
 "cells": [
  {
   "cell_type": "markdown",
   "id": "0",
   "metadata": {},
   "source": [
    "# Retrieving Stresses"
   ]
  },
  {
   "cell_type": "markdown",
   "id": "1",
   "metadata": {},
   "source": [
    "This example will demonstrate the [get_stress_at_points()](../../gen/sectionproperties.analysis.section.Section.rst#sectionproperties.analysis.section.Section.get_stress_at_points) method, which get can be used to obtain the stress at one or multiple points within the cross-section."
   ]
  },
  {
   "cell_type": "markdown",
   "id": "2",
   "metadata": {},
   "source": [
    "## 150 x 100 x 6 RHS\n",
    "\n",
    "The first section will look at a 150 x 100 x 6 RHS and sample the stress at both a single point, and along two lines. We start by creating the geometry, mesh and `Section` object."
   ]
  },
  {
   "cell_type": "code",
   "execution_count": null,
   "id": "3",
   "metadata": {},
   "outputs": [],
   "source": [
    "from sectionproperties.analysis import Section\n",
    "from sectionproperties.pre.library import rectangular_hollow_section\n",
    "\n",
    "geom = rectangular_hollow_section(d=100, b=150, t=6, r_out=15, n_r=8)\n",
    "geom.create_mesh(mesh_sizes=3)\n",
    "sec = Section(geometry=geom)"
   ]
  },
  {
   "cell_type": "markdown",
   "id": "4",
   "metadata": {},
   "source": [
    "Here we will define the point and two lines along which we would like to sample the stress.\n",
    "\n",
    "- Point: `x = 100`, `y = 97`\n",
    "- Line 1: `x = 3`, `y = 20 to 80` (sample 10 points)\n",
    "- Line 2: `x = 0 to 150`, `y = 3` (sample 50 points)"
   ]
  },
  {
   "cell_type": "code",
   "execution_count": null,
   "id": "5",
   "metadata": {},
   "outputs": [],
   "source": [
    "import numpy as np\n",
    "\n",
    "pt = (144, 6)\n",
    "x1 = [3] * 10\n",
    "y1 = np.linspace(20, 80, 10)\n",
    "x2 = np.linspace(0, 150, 50)\n",
    "y2 = [3] * 50"
   ]
  },
  {
   "cell_type": "markdown",
   "id": "6",
   "metadata": {},
   "source": [
    "We will overlay the finite element mesh with a plot of the point and two lines. "
   ]
  },
  {
   "cell_type": "code",
   "execution_count": null,
   "id": "7",
   "metadata": {},
   "outputs": [],
   "source": [
    "import matplotlib.pyplot as plt\n",
    "\n",
    "ax = sec.plot_mesh(materials=False, render=False)\n",
    "ax.plot(pt[0], pt[1], \"r*\", label=\"Point\")\n",
    "ax.plot(x1, y1, \"bo-\", label=\"Line 1\")\n",
    "ax.plot(x2, y2, \"go-\", label=\"Line 2\")\n",
    "ax.legend()\n",
    "plt.show()"
   ]
  },
  {
   "cell_type": "markdown",
   "id": "8",
   "metadata": {},
   "source": [
    "Before extracting the stresses, we must first perform a geometric and warping analysis."
   ]
  },
  {
   "cell_type": "code",
   "execution_count": null,
   "id": "9",
   "metadata": {},
   "outputs": [],
   "source": [
    "sec.calculate_geometric_properties()\n",
    "sec.calculate_warping_properties()"
   ]
  },
  {
   "cell_type": "markdown",
   "id": "10",
   "metadata": {},
   "source": [
    "### Point\n",
    "\n",
    "For this first sample location we describe a complex load case, plot the von Mises stress and extract the stress at the point."
   ]
  },
  {
   "cell_type": "code",
   "execution_count": null,
   "id": "11",
   "metadata": {},
   "outputs": [],
   "source": [
    "load_case = {\n",
    "    \"n\": -50e3,\n",
    "    \"mxx\": 5e6,\n",
    "    \"myy\": 10e6,\n",
    "    \"vx\": 5e3,\n",
    "    \"vy\": 15e3,\n",
    "    \"mzz\": 5e6,\n",
    "}\n",
    "\n",
    "stress = sec.calculate_stress(**load_case)\n",
    "stress.plot_stress(stress=\"vm\", cmap=\"viridis\", normalize=False)"
   ]
  },
  {
   "cell_type": "code",
   "execution_count": null,
   "id": "12",
   "metadata": {},
   "outputs": [],
   "source": [
    "sig = sec.get_stress_at_points(pts=[pt], **load_case)[0]\n",
    "print(f\"sig_zz = {sig[0]:.2f} MPa\")\n",
    "print(f\"tau_xz = {sig[1]:.2f} MPa\")\n",
    "print(f\"tau_yz = {sig[2]:.2f} MPa\")"
   ]
  },
  {
   "cell_type": "markdown",
   "id": "13",
   "metadata": {},
   "source": [
    "We can confirm that the von Mises stress matches that shown on the above plot by using the following formula:\n",
    "\n",
    "$\\sigma_{vm} = \\sqrt{(\\sigma_{zz})^2 + 3(\\sigma_{z,xy})^2}$\n",
    "\n",
    "where $\\sigma_{z,xy} = \\sqrt{(\\sigma_{xz})^2 + (\\sigma_{yz})^2}$ is the resultant shear stress."
   ]
  },
  {
   "cell_type": "code",
   "execution_count": null,
   "id": "14",
   "metadata": {},
   "outputs": [],
   "source": [
    "sig_vm = np.sqrt(sig[0] ** 2 + 3 * (np.sqrt(sig[1] ** 2 + sig[2] ** 2)) ** 2)\n",
    "print(f\"sig_vm = {sig_vm:.2f} MPa\")"
   ]
  },
  {
   "cell_type": "markdown",
   "id": "15",
   "metadata": {},
   "source": [
    "### Line 1\n",
    "\n",
    "For the first line, we place the RHS under a single bending moment - we expect to see a linear distribution of stress down the web."
   ]
  },
  {
   "cell_type": "code",
   "execution_count": null,
   "id": "16",
   "metadata": {},
   "outputs": [],
   "source": [
    "# zip points into a list of tuples\n",
    "pts = list(zip(x1, y1, strict=False))\n",
    "\n",
    "# extract stresses along the line\n",
    "sigs = sec.get_stress_at_points(pts=pts, mxx=10e6)\n",
    "\n",
    "# we are only interested in the first of three stresses (normal stress)\n",
    "sig_zz = [x[0] for x in sigs]"
   ]
  },
  {
   "cell_type": "markdown",
   "id": "17",
   "metadata": {},
   "source": [
    "We can now generate a plot of the normal stress with y-coordinate."
   ]
  },
  {
   "cell_type": "code",
   "execution_count": null,
   "id": "18",
   "metadata": {},
   "outputs": [],
   "source": [
    "fig, ax = plt.subplots()\n",
    "ax.plot(sig_zz, y1, \"kx-\")\n",
    "ax.set_xlabel(\"Normal Stress [MPa]\")\n",
    "ax.set_ylabel(\"y-coordinate [mm]\")\n",
    "plt.show()"
   ]
  },
  {
   "cell_type": "markdown",
   "id": "19",
   "metadata": {},
   "source": [
    "### Line 2\n",
    "\n",
    "For the second line, we place the RHS under a single shear force - we expect to see a roughly parabolic distribution of stress along the plate."
   ]
  },
  {
   "cell_type": "code",
   "execution_count": null,
   "id": "20",
   "metadata": {},
   "outputs": [],
   "source": [
    "# zip points into a list of tuples\n",
    "pts = list(zip(x2, y2, strict=False))\n",
    "\n",
    "# extract stresses along the line\n",
    "sigs = sec.get_stress_at_points(pts=pts, vx=100e3)\n",
    "\n",
    "# we are only interested in the second of three stresses (x-shear stress)\n",
    "# note we also ignore None results (outside geometry)\n",
    "tau_xz = [x[1] for x in sigs if x is not None]"
   ]
  },
  {
   "cell_type": "markdown",
   "id": "21",
   "metadata": {},
   "source": [
    "We can now generate a plot of the x-shear stress with x-coordinate. Note that the first two and last two points are outside the section."
   ]
  },
  {
   "cell_type": "code",
   "execution_count": null,
   "id": "22",
   "metadata": {},
   "outputs": [],
   "source": [
    "fig, ax = plt.subplots()\n",
    "ax.plot(x2[2:-2], tau_xz, \"kx-\")\n",
    "ax.set_xlabel(\"x-coordinate [mm]\")\n",
    "ax.set_ylabel(\"Shear Stress [MPa]\")\n",
    "plt.show()"
   ]
  },
  {
   "cell_type": "markdown",
   "id": "23",
   "metadata": {},
   "source": [
    "## Rectangular Section\n",
    "\n",
    "This second section will apply shear forces and torsion to a 100 mm x 100 mm rectangular section. The relevant stress contours will be plotted and the shear stress plotted along a central slice. We start by creating the geometry, mesh and `Section` object."
   ]
  },
  {
   "cell_type": "code",
   "execution_count": null,
   "id": "24",
   "metadata": {},
   "outputs": [],
   "source": [
    "from sectionproperties.pre.library import rectangular_section\n",
    "\n",
    "geom = rectangular_section(d=100, b=100)\n",
    "geom.create_mesh(mesh_sizes=50)\n",
    "sec = Section(geometry=geom)"
   ]
  },
  {
   "cell_type": "markdown",
   "id": "25",
   "metadata": {},
   "source": [
    "Next we perform a geometric and warping analysis, and apply the loads."
   ]
  },
  {
   "cell_type": "code",
   "execution_count": null,
   "id": "26",
   "metadata": {},
   "outputs": [],
   "source": [
    "sec.calculate_geometric_properties()\n",
    "sec.calculate_warping_properties()\n",
    "s = sec.calculate_stress(mzz=1e6, vx=10e3, vy=10e3)"
   ]
  },
  {
   "cell_type": "markdown",
   "id": "27",
   "metadata": {},
   "source": [
    "We will generate several stress plots to show the stress field."
   ]
  },
  {
   "cell_type": "code",
   "execution_count": null,
   "id": "28",
   "metadata": {},
   "outputs": [],
   "source": [
    "s.plot_stress_vector(stress=\"zxy\", cmap=\"viridis\", normalize=False)"
   ]
  },
  {
   "cell_type": "code",
   "execution_count": null,
   "id": "29",
   "metadata": {},
   "outputs": [],
   "source": [
    "s.plot_stress(stress=\"zxy\", cmap=\"viridis\", normalize=False)"
   ]
  },
  {
   "cell_type": "markdown",
   "id": "30",
   "metadata": {},
   "source": [
    "We will generate a vertical slice down the centre of the rectangle and extract the stresses along 50 points of this line."
   ]
  },
  {
   "cell_type": "code",
   "execution_count": null,
   "id": "31",
   "metadata": {},
   "outputs": [],
   "source": [
    "xs = [50] * 50\n",
    "ys = np.linspace(0, 100, 50)\n",
    "sigs = sec.get_stress_at_points(\n",
    "    pts=list(zip(xs, ys, strict=False)),\n",
    "    mzz=1e6,\n",
    "    vx=10e3,\n",
    "    vy=10e3,\n",
    ")\n",
    "tau_xz = [x[1] for x in sigs]\n",
    "tau_yz = [x[2] for x in sigs]"
   ]
  },
  {
   "cell_type": "markdown",
   "id": "32",
   "metadata": {},
   "source": [
    "We can now plot the x and y components of shear stress along this line."
   ]
  },
  {
   "cell_type": "code",
   "execution_count": null,
   "id": "33",
   "metadata": {},
   "outputs": [],
   "source": [
    "fig, ax = plt.subplots()\n",
    "ax.plot(ys, tau_xz, \"k-\", label=\"$\\\\tau_{xz}$\")\n",
    "ax.plot(ys, tau_yz, \"k--\", label=\"$\\\\tau_{yz}$\")\n",
    "ax.set_xlabel(\"y-coordinate [mm]\")\n",
    "ax.set_ylabel(\"Stress [MPa]\")\n",
    "ax.set_ylim(-4, 8)\n",
    "ax.legend(loc=\"center left\", bbox_to_anchor=(1.0, 0.5))\n",
    "ax.grid()\n",
    "plt.show()"
   ]
  }
 ],
 "metadata": {
  "kernelspec": {
   "display_name": "Python 3 (ipykernel)",
   "language": "python",
   "name": "python3"
  },
  "language_info": {
   "codemirror_mode": {
    "name": "ipython",
    "version": 3
   },
   "file_extension": ".py",
   "mimetype": "text/x-python",
   "name": "python",
   "nbconvert_exporter": "python",
   "pygments_lexer": "ipython3",
   "version": "3.9.17"
  }
 },
 "nbformat": 4,
 "nbformat_minor": 5
}
